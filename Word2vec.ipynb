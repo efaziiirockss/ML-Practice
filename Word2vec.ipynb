{
  "cells": [
    {
      "cell_type": "code",
      "source": [
        "import numpy as np\n",
        "import pandas as pd\n",
        "import matplotlib.pyplot as plt\n",
        "import seaborn as sns"
      ],
      "metadata": {
        "id": "WR3hw2rjDq1u"
      },
      "execution_count": null,
      "outputs": []
    },
    {
      "cell_type": "code",
      "execution_count": null,
      "metadata": {
        "id": "ak8OagU0h1WI"
      },
      "outputs": [],
      "source": [
        "import gensim\n",
        "from gensim.models import Word2Vec,KeyedVectors"
      ]
    },
    {
      "cell_type": "code",
      "execution_count": null,
      "metadata": {
        "colab": {
          "base_uri": "https://localhost:8080/"
        },
        "id": "HqOn_H71kCQO",
        "outputId": "3677ddcf-5afd-4aec-e2a5-f65b47b2f7e8",
        "collapsed": true
      },
      "outputs": [
        {
          "output_type": "stream",
          "name": "stdout",
          "text": [
            "Collecting wget\n",
            "  Downloading wget-3.2.zip (10 kB)\n",
            "  Preparing metadata (setup.py) ... \u001b[?25l\u001b[?25hdone\n",
            "Building wheels for collected packages: wget\n",
            "  Building wheel for wget (setup.py) ... \u001b[?25l\u001b[?25hdone\n",
            "  Created wheel for wget: filename=wget-3.2-py3-none-any.whl size=9656 sha256=12543d0007b2efa12c9cf31ce35e5ea92c16f2153dc2e79ee792c1fc50cb4771\n",
            "  Stored in directory: /root/.cache/pip/wheels/40/b3/0f/a40dbd1c6861731779f62cc4babcb234387e11d697df70ee97\n",
            "Successfully built wget\n",
            "Installing collected packages: wget\n",
            "Successfully installed wget-3.2\n"
          ]
        }
      ],
      "source": [
        "!pip install wget"
      ]
    },
    {
      "cell_type": "code",
      "source": [
        "import os"
      ],
      "metadata": {
        "id": "O4URMV45Do6_"
      },
      "execution_count": null,
      "outputs": []
    },
    {
      "cell_type": "code",
      "source": [
        "import nltk\n",
        "nltk.download('punkt_tab')"
      ],
      "metadata": {
        "colab": {
          "base_uri": "https://localhost:8080/"
        },
        "id": "7PXiGroALByR",
        "outputId": "872049ea-a3c4-4d66-9636-488aa8f27ab6"
      },
      "execution_count": null,
      "outputs": [
        {
          "output_type": "stream",
          "name": "stderr",
          "text": [
            "[nltk_data] Downloading package punkt_tab to /root/nltk_data...\n",
            "[nltk_data]   Unzipping tokenizers/punkt_tab.zip.\n"
          ]
        },
        {
          "output_type": "execute_result",
          "data": {
            "text/plain": [
              "True"
            ]
          },
          "metadata": {},
          "execution_count": 5
        }
      ]
    },
    {
      "cell_type": "code",
      "source": [
        "from nltk import sent_tokenize\n",
        "from gensim.utils import simple_preprocess"
      ],
      "metadata": {
        "id": "aSm0AuC8Do3X"
      },
      "execution_count": null,
      "outputs": []
    },
    {
      "cell_type": "code",
      "source": [
        "from nltk.corpus import stopwords"
      ],
      "metadata": {
        "id": "Jsn3sM7vvH5h"
      },
      "execution_count": null,
      "outputs": []
    },
    {
      "cell_type": "code",
      "source": [
        "nltk.download('stopwords')"
      ],
      "metadata": {
        "collapsed": true,
        "colab": {
          "base_uri": "https://localhost:8080/"
        },
        "id": "iq4xkykqvKmr",
        "outputId": "d3f298a0-4be0-4b0a-e64d-d809317ad56c"
      },
      "execution_count": null,
      "outputs": [
        {
          "output_type": "stream",
          "name": "stderr",
          "text": [
            "[nltk_data] Downloading package stopwords to /root/nltk_data...\n",
            "[nltk_data]   Unzipping corpora/stopwords.zip.\n"
          ]
        },
        {
          "output_type": "execute_result",
          "data": {
            "text/plain": [
              "True"
            ]
          },
          "metadata": {},
          "execution_count": 29
        }
      ]
    },
    {
      "cell_type": "code",
      "source": [
        "stop_words = set(stopwords.words('english'))\n",
        "story = []\n",
        "data_path = '/content/data'\n",
        "\n",
        "for filename in os.listdir(data_path):\n",
        "    file_path = os.path.join(data_path, filename)\n",
        "\n",
        "    # Ensure it's a file before attempting to open it\n",
        "    if os.path.isfile(file_path):\n",
        "        with open(file_path, 'r', encoding='utf-8', errors='replace') as f:\n",
        "            corpus = f.read()\n",
        "            raw_sent = sent_tokenize(corpus)\n",
        "            for sent in raw_sent:\n",
        "              filtered_tokens = [word for word in simple_preprocess(sent) if word not in stop_words]\n",
        "              story.append(filtered_tokens)"
      ],
      "metadata": {
        "id": "kIi__6X8KjFz"
      },
      "execution_count": null,
      "outputs": []
    },
    {
      "cell_type": "code",
      "source": [
        "len(story)"
      ],
      "metadata": {
        "id": "6T3YfWd-DonR",
        "colab": {
          "base_uri": "https://localhost:8080/"
        },
        "outputId": "16b25d4a-b7c6-48e9-abc7-6cbb7763aa76"
      },
      "execution_count": null,
      "outputs": [
        {
          "output_type": "execute_result",
          "data": {
            "text/plain": [
              "145020"
            ]
          },
          "metadata": {},
          "execution_count": 33
        }
      ]
    },
    {
      "cell_type": "code",
      "source": [
        "model = gensim.models.Word2Vec(\n",
        "    window=10,\n",
        "    min_count=2\n",
        ")"
      ],
      "metadata": {
        "id": "jhzpSbN6DoaH"
      },
      "execution_count": null,
      "outputs": []
    },
    {
      "cell_type": "code",
      "source": [
        "model.build_vocab(story)"
      ],
      "metadata": {
        "id": "X1tm1VA4DoW4"
      },
      "execution_count": null,
      "outputs": []
    },
    {
      "cell_type": "code",
      "source": [
        "model.train(story,total_examples=model.corpus_count,epochs=model.epochs)"
      ],
      "metadata": {
        "id": "W74Cul_oDoTn",
        "colab": {
          "base_uri": "https://localhost:8080/"
        },
        "outputId": "32dc1fb4-9419-4f10-defa-d77ea522a890"
      },
      "execution_count": null,
      "outputs": [
        {
          "output_type": "execute_result",
          "data": {
            "text/plain": [
              "(4395873, 4579345)"
            ]
          },
          "metadata": {},
          "execution_count": 36
        }
      ]
    },
    {
      "cell_type": "code",
      "source": [
        "model.wv.most_similar('daenerys')"
      ],
      "metadata": {
        "id": "yg8x5E2XDoQl",
        "colab": {
          "base_uri": "https://localhost:8080/"
        },
        "outputId": "d21e9049-a970-4fd3-eb97-404499bd112f"
      },
      "execution_count": null,
      "outputs": [
        {
          "output_type": "execute_result",
          "data": {
            "text/plain": [
              "[('stormborn', 0.9141404032707214),\n",
              " ('unburnt', 0.8778371810913086),\n",
              " ('targaryen', 0.8386738300323486),\n",
              " ('myrcella', 0.8225621581077576),\n",
              " ('viserys', 0.8179495930671692),\n",
              " ('dorne', 0.8163506984710693),\n",
              " ('elia', 0.8109842538833618),\n",
              " ('westeros', 0.8041107058525085),\n",
              " ('brokered', 0.802090048789978),\n",
              " ('court', 0.7985813021659851)]"
            ]
          },
          "metadata": {},
          "execution_count": 37
        }
      ]
    },
    {
      "cell_type": "code",
      "source": [
        "model.wv.doesnt_match(['jon','rikon','robb','arya','sansa','bran'])"
      ],
      "metadata": {
        "id": "XjjVN667DoMv",
        "colab": {
          "base_uri": "https://localhost:8080/",
          "height": 73
        },
        "outputId": "0176896d-ecb0-440d-b18a-3339caffe2df"
      },
      "execution_count": null,
      "outputs": [
        {
          "output_type": "stream",
          "name": "stderr",
          "text": [
            "WARNING:gensim.models.keyedvectors:vectors for words {'rikon'} are not present in the model, ignoring these words\n"
          ]
        },
        {
          "output_type": "execute_result",
          "data": {
            "text/plain": [
              "'jon'"
            ],
            "application/vnd.google.colaboratory.intrinsic+json": {
              "type": "string"
            }
          },
          "metadata": {},
          "execution_count": 38
        }
      ]
    },
    {
      "cell_type": "code",
      "source": [
        "model.wv['king'].shape"
      ],
      "metadata": {
        "id": "S5KkSH-hDoJ4",
        "colab": {
          "base_uri": "https://localhost:8080/"
        },
        "collapsed": true,
        "outputId": "73a363f0-1b49-4c10-af56-fcf54b61856e"
      },
      "execution_count": null,
      "outputs": [
        {
          "output_type": "execute_result",
          "data": {
            "text/plain": [
              "(100,)"
            ]
          },
          "metadata": {},
          "execution_count": 39
        }
      ]
    },
    {
      "cell_type": "code",
      "source": [
        "model.wv.similarity('arya','sansa')"
      ],
      "metadata": {
        "id": "u94sNEzODZHA",
        "colab": {
          "base_uri": "https://localhost:8080/"
        },
        "outputId": "1ab59a2a-2c5c-4b8c-c36a-f8e5be476f7d"
      },
      "execution_count": null,
      "outputs": [
        {
          "output_type": "execute_result",
          "data": {
            "text/plain": [
              "0.81141675"
            ]
          },
          "metadata": {},
          "execution_count": 40
        }
      ]
    },
    {
      "cell_type": "code",
      "source": [
        "model.wv.get_normed_vectors()"
      ],
      "metadata": {
        "id": "tVRg73F0DZD0",
        "colab": {
          "base_uri": "https://localhost:8080/"
        },
        "collapsed": true,
        "outputId": "d3dfea16-1a20-49bd-d695-472b091fe83e"
      },
      "execution_count": null,
      "outputs": [
        {
          "output_type": "execute_result",
          "data": {
            "text/plain": [
              "array([[ 0.06220648,  0.12910213, -0.01446984, ..., -0.0829751 ,\n",
              "        -0.15303361,  0.19595529],\n",
              "       [-0.14888024,  0.06253996,  0.10781557, ..., -0.06538516,\n",
              "        -0.20698793,  0.13516302],\n",
              "       [-0.04404606,  0.04942713, -0.09370086, ..., -0.14234243,\n",
              "         0.11550225, -0.08777818],\n",
              "       ...,\n",
              "       [ 0.04569204,  0.13294174, -0.01190751, ..., -0.12479356,\n",
              "        -0.03875141,  0.06576061],\n",
              "       [-0.0937979 ,  0.02516878,  0.19443558, ..., -0.07475799,\n",
              "         0.09518324,  0.11636173],\n",
              "       [-0.0432865 ,  0.10806452,  0.05151921, ..., -0.14194545,\n",
              "         0.01574014, -0.00042047]], dtype=float32)"
            ]
          },
          "metadata": {},
          "execution_count": 41
        }
      ]
    },
    {
      "cell_type": "code",
      "source": [
        "model.wv.get_normed_vectors().shape"
      ],
      "metadata": {
        "id": "TO4L7uOhDZAL",
        "colab": {
          "base_uri": "https://localhost:8080/"
        },
        "collapsed": true,
        "outputId": "6da6a4c2-7d1b-4465-965b-3ee469ef2009"
      },
      "execution_count": null,
      "outputs": [
        {
          "output_type": "execute_result",
          "data": {
            "text/plain": [
              "(17310, 100)"
            ]
          },
          "metadata": {},
          "execution_count": 42
        }
      ]
    },
    {
      "cell_type": "code",
      "source": [
        "y = model.wv.index_to_key"
      ],
      "metadata": {
        "id": "5wg9L5XIDY9F"
      },
      "execution_count": null,
      "outputs": []
    },
    {
      "cell_type": "code",
      "source": [
        "y"
      ],
      "metadata": {
        "id": "4faEbdYcDY6L",
        "colab": {
          "base_uri": "https://localhost:8080/"
        },
        "collapsed": true,
        "outputId": "99113ebf-90fa-41ac-cb12-2a2b010ff484"
      },
      "execution_count": null,
      "outputs": [
        {
          "output_type": "execute_result",
          "data": {
            "text/plain": [
              "['said',\n",
              " 'lord',\n",
              " 'would',\n",
              " 'one',\n",
              " 'ser',\n",
              " 'could',\n",
              " 'man',\n",
              " 'king',\n",
              " 'men',\n",
              " 'back',\n",
              " 'well',\n",
              " 'like',\n",
              " 'jon',\n",
              " 'father',\n",
              " 'old',\n",
              " 'hand',\n",
              " 'even',\n",
              " 'tyrion',\n",
              " 'never',\n",
              " 'know',\n",
              " 'see',\n",
              " 'made',\n",
              " 'eyes',\n",
              " 'black',\n",
              " 'told',\n",
              " 'lady',\n",
              " 'thought',\n",
              " 'time',\n",
              " 'long',\n",
              " 'might',\n",
              " 'us',\n",
              " 'come',\n",
              " 'face',\n",
              " 'still',\n",
              " 'head',\n",
              " 'red',\n",
              " 'way',\n",
              " 'boy',\n",
              " 'page',\n",
              " 'must',\n",
              " 'queen',\n",
              " 'good',\n",
              " 'two',\n",
              " 'brother',\n",
              " 'night',\n",
              " 'little',\n",
              " 'took',\n",
              " 'came',\n",
              " 'though',\n",
              " 'say',\n",
              " 'three',\n",
              " 'away',\n",
              " 'dead',\n",
              " 'son',\n",
              " 'blood',\n",
              " 'take',\n",
              " 'go',\n",
              " 'half',\n",
              " 'make',\n",
              " 'arya',\n",
              " 'saw',\n",
              " 'day',\n",
              " 'white',\n",
              " 'jaime',\n",
              " 'first',\n",
              " 'look',\n",
              " 'want',\n",
              " 'much',\n",
              " 'enough',\n",
              " 'sword',\n",
              " 'tell',\n",
              " 'girl',\n",
              " 'bran',\n",
              " 'great',\n",
              " 'looked',\n",
              " 'left',\n",
              " 'knew',\n",
              " 'asked',\n",
              " 'gave',\n",
              " 'maester',\n",
              " 'called',\n",
              " 'wall',\n",
              " 'every',\n",
              " 'heard',\n",
              " 'sansa',\n",
              " 'let',\n",
              " 'yet',\n",
              " 'went',\n",
              " 'turned',\n",
              " 'dany',\n",
              " 'need',\n",
              " 'behind',\n",
              " 'around',\n",
              " 'woman',\n",
              " 'another',\n",
              " 'snow',\n",
              " 'beneath',\n",
              " 'across',\n",
              " 'knight',\n",
              " 'keep',\n",
              " 'grace',\n",
              " 'found',\n",
              " 'gold',\n",
              " 'last',\n",
              " 'cersei',\n",
              " 'castle',\n",
              " 'stark',\n",
              " 'gods',\n",
              " 'think',\n",
              " 'hair',\n",
              " 'many',\n",
              " 'feet',\n",
              " 'hands',\n",
              " 'stannis',\n",
              " 'mother',\n",
              " 'catelyn',\n",
              " 'robert',\n",
              " 'seemed',\n",
              " 'prince',\n",
              " 'may',\n",
              " 'ever',\n",
              " 'robb',\n",
              " 'done',\n",
              " 'find',\n",
              " 'lannister',\n",
              " 'hear',\n",
              " 'name',\n",
              " 'grey',\n",
              " 'horse',\n",
              " 'high',\n",
              " 'put',\n",
              " 'wine',\n",
              " 'stone',\n",
              " 'hard',\n",
              " 'water',\n",
              " 'fire',\n",
              " 'upon',\n",
              " 'iron',\n",
              " 'voice',\n",
              " 'gone',\n",
              " 'give',\n",
              " 'sam',\n",
              " 'seen',\n",
              " 'better',\n",
              " 'shall',\n",
              " 'ned',\n",
              " 'always',\n",
              " 'years',\n",
              " 'dark',\n",
              " 'place',\n",
              " 'small',\n",
              " 'cold',\n",
              " 'winterfell',\n",
              " 'hundred',\n",
              " 'stood',\n",
              " 'end',\n",
              " 'sister',\n",
              " 'words',\n",
              " 'sea',\n",
              " 'right',\n",
              " 'nothing',\n",
              " 'walls',\n",
              " 'fingers',\n",
              " 'cloak',\n",
              " 'house',\n",
              " 'young',\n",
              " 'beside',\n",
              " 'get',\n",
              " 'seven',\n",
              " 'mouth',\n",
              " 'watch',\n",
              " 'door',\n",
              " 'joffrey',\n",
              " 'green',\n",
              " 'big',\n",
              " 'sent',\n",
              " 'perhaps',\n",
              " 'almost',\n",
              " 'wanted',\n",
              " 'daughter',\n",
              " 'true',\n",
              " 'leave',\n",
              " 'city',\n",
              " 'wind',\n",
              " 'light',\n",
              " 'arms',\n",
              " 'children',\n",
              " 'sweet',\n",
              " 'others',\n",
              " 'lost',\n",
              " 'theon',\n",
              " 'felt',\n",
              " 'side',\n",
              " 'yes',\n",
              " 'brothers',\n",
              " 'best',\n",
              " 'die',\n",
              " 'brought',\n",
              " 'soon',\n",
              " 'far',\n",
              " 'died',\n",
              " 'north',\n",
              " 'child',\n",
              " 'fear',\n",
              " 'along',\n",
              " 'word',\n",
              " 'brienne',\n",
              " 'taken',\n",
              " 'battle',\n",
              " 'help',\n",
              " 'new',\n",
              " 'tywin',\n",
              " 'lords',\n",
              " 'davos',\n",
              " 'something',\n",
              " 'mean',\n",
              " 'wife',\n",
              " 'hall',\n",
              " 'rest',\n",
              " 'kill',\n",
              " 'strong',\n",
              " 'steel',\n",
              " 'began',\n",
              " 'sound',\n",
              " 'dragon',\n",
              " 'past',\n",
              " 'life',\n",
              " 'tower',\n",
              " 'killed',\n",
              " 'arm',\n",
              " 'tried',\n",
              " 'free',\n",
              " 'sons',\n",
              " 'thing',\n",
              " 'bear',\n",
              " 'days',\n",
              " 'bloody',\n",
              " 'heart',\n",
              " 'pale',\n",
              " 'love',\n",
              " 'moment',\n",
              " 'sat',\n",
              " 'bring',\n",
              " 'bed',\n",
              " 'close',\n",
              " 'knights',\n",
              " 'cut',\n",
              " 'wolf',\n",
              " 'death',\n",
              " 'smile',\n",
              " 'horses',\n",
              " 'inside',\n",
              " 'four',\n",
              " 'brown',\n",
              " 'dragons',\n",
              " 'hot',\n",
              " 'silver',\n",
              " 'part',\n",
              " 'bastard',\n",
              " 'open',\n",
              " 'thousand',\n",
              " 'landing',\n",
              " 'uncle',\n",
              " 'going',\n",
              " 'blue',\n",
              " 'air',\n",
              " 'captain',\n",
              " 'please',\n",
              " 'laughed',\n",
              " 'river',\n",
              " 'sun',\n",
              " 'rose',\n",
              " 'fell',\n",
              " 'war',\n",
              " 'golden',\n",
              " 'sleep',\n",
              " 'without',\n",
              " 'swords',\n",
              " 'renly',\n",
              " 'speak',\n",
              " 'certain',\n",
              " 'fool',\n",
              " 'full',\n",
              " 'beyond',\n",
              " 'feel',\n",
              " 'send',\n",
              " 'got',\n",
              " 'tongue',\n",
              " 'fight',\n",
              " 'rode',\n",
              " 'set',\n",
              " 'thick',\n",
              " 'world',\n",
              " 'throat',\n",
              " 'deep',\n",
              " 'legs',\n",
              " 'call',\n",
              " 'honor',\n",
              " 'rock',\n",
              " 'trees',\n",
              " 'tall',\n",
              " 'table',\n",
              " 'pulled',\n",
              " 'mormont',\n",
              " 'women',\n",
              " 'broken',\n",
              " 'steps',\n",
              " 'things',\n",
              " 'next',\n",
              " 'hodor',\n",
              " 'heavy',\n",
              " 'burned',\n",
              " 'oh',\n",
              " 'toward',\n",
              " 'together',\n",
              " 'given',\n",
              " 'skin',\n",
              " 'since',\n",
              " 'moved',\n",
              " 'dwarf',\n",
              " 'smiled',\n",
              " 'alone',\n",
              " 'storm',\n",
              " 'raised',\n",
              " 'ask',\n",
              " 'ride',\n",
              " 'hope',\n",
              " 'eye',\n",
              " 'reached',\n",
              " 'soft',\n",
              " 'second',\n",
              " 'frey',\n",
              " 'remember',\n",
              " 'remembered',\n",
              " 'someone',\n",
              " 'coming',\n",
              " 'meant',\n",
              " 'cannot',\n",
              " 'hold',\n",
              " 'morning',\n",
              " 'ten',\n",
              " 'teeth',\n",
              " 'else',\n",
              " 'throne',\n",
              " 'command',\n",
              " 'fat',\n",
              " 'truth',\n",
              " 'walder',\n",
              " 'commander',\n",
              " 'doubt',\n",
              " 'ground',\n",
              " 'jorah',\n",
              " 'cup',\n",
              " 'outside',\n",
              " 'known',\n",
              " 'wore',\n",
              " 'ran',\n",
              " 'gate',\n",
              " 'held',\n",
              " 'room',\n",
              " 'closed',\n",
              " 'home',\n",
              " 'matter',\n",
              " 'wood',\n",
              " 'south',\n",
              " 'sky',\n",
              " 'dozen',\n",
              " 'people',\n",
              " 'wed',\n",
              " 'neck',\n",
              " 'food',\n",
              " 'riverrun',\n",
              " 'near',\n",
              " 'instead',\n",
              " 'talk',\n",
              " 'turn',\n",
              " 'none',\n",
              " 'ships',\n",
              " 'tyrell',\n",
              " 'moon',\n",
              " 'bolton',\n",
              " 'lips',\n",
              " 'summer',\n",
              " 'shadow',\n",
              " 'watched',\n",
              " 'leather',\n",
              " 'times',\n",
              " 'varys',\n",
              " 'shoulder',\n",
              " 'septon',\n",
              " 'warm',\n",
              " 'believe',\n",
              " 'caught',\n",
              " 'least',\n",
              " 'guards',\n",
              " 'answer',\n",
              " 'blade',\n",
              " 'god',\n",
              " 'ice',\n",
              " 'wondered',\n",
              " 'mine',\n",
              " 'opened',\n",
              " 'barristan',\n",
              " 'shield',\n",
              " 'armor',\n",
              " 'safe',\n",
              " 'six',\n",
              " 'kept',\n",
              " 'wish',\n",
              " 'return',\n",
              " 'tommen',\n",
              " 'used',\n",
              " 'smell',\n",
              " 'less',\n",
              " 'foot',\n",
              " 'floor',\n",
              " 'squire',\n",
              " 'eddard',\n",
              " 'empty',\n",
              " 'followed',\n",
              " 'run',\n",
              " 'friends',\n",
              " 'serve',\n",
              " 'boys',\n",
              " 'beard',\n",
              " 'baratheon',\n",
              " 'wedding',\n",
              " 'cloaks',\n",
              " 'eat',\n",
              " 'wrong',\n",
              " 'ghost',\n",
              " 'daenerys',\n",
              " 'sight',\n",
              " 'hound',\n",
              " 'flesh',\n",
              " 'five',\n",
              " 'ship',\n",
              " 'strength',\n",
              " 'returned',\n",
              " 'bones',\n",
              " 'nose',\n",
              " 'crown',\n",
              " 'yellow',\n",
              " 'chest',\n",
              " 'covered',\n",
              " 'says',\n",
              " 'commanded',\n",
              " 'petyr',\n",
              " 'filled',\n",
              " 'aemon',\n",
              " 'sometimes',\n",
              " 'led',\n",
              " 'friend',\n",
              " 'aye',\n",
              " 'common',\n",
              " 'flames',\n",
              " 'spoke',\n",
              " 'show',\n",
              " 'fighting',\n",
              " 'asha',\n",
              " 'huge',\n",
              " 'lysa',\n",
              " 'aside',\n",
              " 'crow',\n",
              " 'belly',\n",
              " 'master',\n",
              " 'breath',\n",
              " 'seem',\n",
              " 'yard',\n",
              " 'gates',\n",
              " 'waiting',\n",
              " 'within',\n",
              " 'looking',\n",
              " 'wooden',\n",
              " 'wet',\n",
              " 'realm',\n",
              " 'thin',\n",
              " 'work',\n",
              " 'use',\n",
              " 'bad',\n",
              " 'promised',\n",
              " 'husband',\n",
              " 'later',\n",
              " 'tree',\n",
              " 'grew',\n",
              " 'onto',\n",
              " 'wildlings',\n",
              " 'loved',\n",
              " 'afraid',\n",
              " 'girls',\n",
              " 'greyjoy',\n",
              " 'shoulders',\n",
              " 'rain',\n",
              " 'shouted',\n",
              " 'walked',\n",
              " 'maid',\n",
              " 'late',\n",
              " 'remained',\n",
              " 'mance',\n",
              " 'guard',\n",
              " 'liked',\n",
              " 'fall',\n",
              " 'littlefinger',\n",
              " 'meereen',\n",
              " 'dog',\n",
              " 'year',\n",
              " 'margaery',\n",
              " 'hurt',\n",
              " 'passed',\n",
              " 'taste',\n",
              " 'balon',\n",
              " 'drew',\n",
              " 'lay',\n",
              " 'dothraki',\n",
              " 'song',\n",
              " 'spear',\n",
              " 'pushed',\n",
              " 'realized',\n",
              " 'sure',\n",
              " 'named',\n",
              " 'finally',\n",
              " 'whispered',\n",
              " 'stand',\n",
              " 'different',\n",
              " 'reach',\n",
              " 'brave',\n",
              " 'suddenly',\n",
              " 'wolves',\n",
              " 'poor',\n",
              " 'stay',\n",
              " 'drogo',\n",
              " 'kingsguard',\n",
              " 'arryn',\n",
              " 'kingdoms',\n",
              " 'stop',\n",
              " 'broke',\n",
              " 'edmure',\n",
              " 'ears',\n",
              " 'burning',\n",
              " 'princess',\n",
              " 'faces',\n",
              " 'dream',\n",
              " 'lannisters',\n",
              " 'direwolf',\n",
              " 'axe',\n",
              " 'heir',\n",
              " 'tears',\n",
              " 'west',\n",
              " 'darkness',\n",
              " 'clegane',\n",
              " 'either',\n",
              " 'drink',\n",
              " 'pointed',\n",
              " 'raven',\n",
              " 'try',\n",
              " 'hill',\n",
              " 'forward',\n",
              " 'sworn',\n",
              " 'pain',\n",
              " 'khal',\n",
              " 'lie',\n",
              " 'kings',\n",
              " 'dagger',\n",
              " 'truly',\n",
              " 'seat',\n",
              " 'grown',\n",
              " 'road',\n",
              " 'born',\n",
              " 'care',\n",
              " 'harrenhal',\n",
              " 'bronn',\n",
              " 'round',\n",
              " 'helm',\n",
              " 'feast',\n",
              " 'understand',\n",
              " 'meat',\n",
              " 'pycelle',\n",
              " 'amongst',\n",
              " 'quick',\n",
              " 'lifted',\n",
              " 'longer',\n",
              " 'whilst',\n",
              " 'reminded',\n",
              " 'maybe',\n",
              " 'short',\n",
              " 'mountain',\n",
              " 'step',\n",
              " 'rodrik',\n",
              " 'pretty',\n",
              " 'ones',\n",
              " 'melisandre',\n",
              " 'third',\n",
              " 'worse',\n",
              " 'lands',\n",
              " 'stopped',\n",
              " 'aegon',\n",
              " 'bit',\n",
              " 'sit',\n",
              " 'sharp',\n",
              " 'save',\n",
              " 'victarion',\n",
              " 'knows',\n",
              " 'live',\n",
              " 'smoke',\n",
              " 'whose',\n",
              " 'window',\n",
              " 'leg',\n",
              " 'pray',\n",
              " 'horn',\n",
              " 'westeros',\n",
              " 'younger',\n",
              " 'heads',\n",
              " 'silk',\n",
              " 'twenty',\n",
              " 'ago',\n",
              " 'peace',\n",
              " 'septa',\n",
              " 'pie',\n",
              " 'slaves',\n",
              " 'laugh',\n",
              " 'mind',\n",
              " 'low',\n",
              " 'hizdahr',\n",
              " 'bread',\n",
              " 'wants',\n",
              " 'blind',\n",
              " 'east',\n",
              " 'reek',\n",
              " 'towers',\n",
              " 'bright',\n",
              " 'mad',\n",
              " 'sooner',\n",
              " 'making',\n",
              " 'coin',\n",
              " 'older',\n",
              " 'camp',\n",
              " 'slain',\n",
              " 'wait',\n",
              " 'served',\n",
              " 'narrow',\n",
              " 'walk',\n",
              " 'drowned',\n",
              " 'salt',\n",
              " 'point',\n",
              " 'glanced',\n",
              " 'knife',\n",
              " 'cheeks',\n",
              " 'cousin',\n",
              " 'luwin',\n",
              " 'stepped',\n",
              " 'sort',\n",
              " 'quiet',\n",
              " 'often',\n",
              " 'targaryen',\n",
              " 'shook',\n",
              " 'touched',\n",
              " 'riding',\n",
              " 'naked',\n",
              " 'loras',\n",
              " 'twisted',\n",
              " 'choice',\n",
              " 'forgotten',\n",
              " 'fish',\n",
              " 'lion',\n",
              " 'kevan',\n",
              " 'silence',\n",
              " 'hung',\n",
              " 'read',\n",
              " 'ramsay',\n",
              " 'gift',\n",
              " 'fallen',\n",
              " 'running',\n",
              " 'replied',\n",
              " 'knees',\n",
              " 'large',\n",
              " 'silent',\n",
              " 'fought',\n",
              " 'ahead',\n",
              " 'company',\n",
              " 'cat',\n",
              " 'dogs',\n",
              " 'sept',\n",
              " 'rhaegar',\n",
              " 'needs',\n",
              " 'dawn',\n",
              " 'beautiful',\n",
              " 'knee',\n",
              " 'casterly',\n",
              " 'pass',\n",
              " 'dorne',\n",
              " 'mud',\n",
              " 'tully',\n",
              " 'court',\n",
              " 'body',\n",
              " 'singer',\n",
              " 'stupid',\n",
              " 'gregor',\n",
              " 'age',\n",
              " 'trying',\n",
              " 'meera',\n",
              " 'top',\n",
              " 'swear',\n",
              " 'kind',\n",
              " 'offered',\n",
              " 'gendry',\n",
              " 'whole',\n",
              " 'closer',\n",
              " 'leaves',\n",
              " 'clothes',\n",
              " 'kiss',\n",
              " 'anything',\n",
              " 'pay',\n",
              " 'wonder',\n",
              " 'whatever',\n",
              " 'agreed',\n",
              " 'threw',\n",
              " 'answered',\n",
              " 'climbed',\n",
              " 'wide',\n",
              " 'saying',\n",
              " 'saddle',\n",
              " 'comes',\n",
              " 'stars',\n",
              " 'host',\n",
              " 'trust',\n",
              " 'chain',\n",
              " 'stones',\n",
              " 'fair',\n",
              " 'pleased',\n",
              " 'trident',\n",
              " 'dying',\n",
              " 'spears',\n",
              " 'ear',\n",
              " 'hour',\n",
              " 'eight',\n",
              " 'yunkai',\n",
              " 'dry',\n",
              " 'insisted',\n",
              " 'fast',\n",
              " 'carried',\n",
              " 'ought',\n",
              " 'doors',\n",
              " 'service',\n",
              " 'fist',\n",
              " 'woods',\n",
              " 'mail',\n",
              " 'council',\n",
              " 'crossed',\n",
              " 'join',\n",
              " 'needed',\n",
              " 'thank',\n",
              " 'milk',\n",
              " 'fine',\n",
              " 'wildling',\n",
              " 'finger',\n",
              " 'quentyn',\n",
              " 'gilly',\n",
              " 'tent',\n",
              " 'shadows',\n",
              " 'win',\n",
              " 'boots',\n",
              " 'helped',\n",
              " 'bird',\n",
              " 'land',\n",
              " 'folk',\n",
              " 'somehow',\n",
              " 'crows',\n",
              " 'names',\n",
              " 'imp',\n",
              " 'banners',\n",
              " 'letter',\n",
              " 'winter',\n",
              " 'kissed',\n",
              " 'pink',\n",
              " 'screamed',\n",
              " 'angry',\n",
              " 'frightened',\n",
              " 'torch',\n",
              " 'alive',\n",
              " 'learn',\n",
              " 'chair',\n",
              " 'eunuch',\n",
              " 'watching',\n",
              " 'daughters',\n",
              " 'fires',\n",
              " 'harm',\n",
              " 'tarly',\n",
              " 'dragonstone',\n",
              " 'neither',\n",
              " 'nine',\n",
              " 'easy',\n",
              " 'standing',\n",
              " 'learned',\n",
              " 'serving',\n",
              " 'drunk',\n",
              " 'wings',\n",
              " 'question',\n",
              " 'sail',\n",
              " 'priest',\n",
              " 'sisters',\n",
              " 'nodded',\n",
              " 'myrcella',\n",
              " 'giant',\n",
              " 'warned',\n",
              " 'bone',\n",
              " 'forth',\n",
              " 'harbor',\n",
              " 'slipped',\n",
              " 'field',\n",
              " 'slow',\n",
              " 'slid',\n",
              " 'dreams',\n",
              " 'falling',\n",
              " 'slowly',\n",
              " 'bronze',\n",
              " 'atop',\n",
              " 'promise',\n",
              " 'rise',\n",
              " 'whore',\n",
              " 'illyrio',\n",
              " 'move',\n",
              " 'line',\n",
              " 'slave',\n",
              " 'laughter',\n",
              " 'pyke',\n",
              " 'flowers',\n",
              " 'makes',\n",
              " 'faced',\n",
              " 'declared',\n",
              " 'earth',\n",
              " 'loose',\n",
              " 'bay',\n",
              " 'grass',\n",
              " 'viserys',\n",
              " 'lived',\n",
              " 'front',\n",
              " 'power',\n",
              " 'twice',\n",
              " 'happened',\n",
              " 'cell',\n",
              " 'play',\n",
              " 'break',\n",
              " 'dance',\n",
              " 'oldtown',\n",
              " 'chains',\n",
              " 'surely',\n",
              " 'clean',\n",
              " 'aerys',\n",
              " 'claim',\n",
              " 'jeyne',\n",
              " 'eyrie',\n",
              " 'unless',\n",
              " 'fresh',\n",
              " 'cried',\n",
              " 'tormund',\n",
              " 'quite',\n",
              " 'laid',\n",
              " 'craster',\n",
              " 'pair',\n",
              " 'morrow',\n",
              " 'game',\n",
              " 'met',\n",
              " 'shouting',\n",
              " 'sad',\n",
              " 'already',\n",
              " 'softly',\n",
              " 'rule',\n",
              " 'touch',\n",
              " 'started',\n",
              " 'afterward',\n",
              " 'sense',\n",
              " 'count',\n",
              " 'woke',\n",
              " 'steward',\n",
              " 'mounted',\n",
              " 'captive',\n",
              " 'highgarden',\n",
              " 'jojen',\n",
              " 'hide',\n",
              " 'waters',\n",
              " 'sudden',\n",
              " 'cheek',\n",
              " 'ravens',\n",
              " 'means',\n",
              " 'taking',\n",
              " 'anyone',\n",
              " 'course',\n",
              " 'follow',\n",
              " 'purple',\n",
              " 'among',\n",
              " 'however',\n",
              " 'wench',\n",
              " 'bare',\n",
              " 'rickon',\n",
              " 'carved',\n",
              " 'noble',\n",
              " 'grenn',\n",
              " 'waited',\n",
              " 'rising',\n",
              " 'weak',\n",
              " 'thinking',\n",
              " 'vale',\n",
              " 'murdered',\n",
              " 'cruel',\n",
              " 'roof',\n",
              " 'roose',\n",
              " 'eyed',\n",
              " 'hidden',\n",
              " 'blow',\n",
              " 'forest',\n",
              " 'town',\n",
              " 'arrow',\n",
              " 'growing',\n",
              " 'today',\n",
              " 'wise',\n",
              " 'hungry',\n",
              " 'voices',\n",
              " 'grand',\n",
              " 'army',\n",
              " 'sorry',\n",
              " 'cry',\n",
              " 'protect',\n",
              " 'wound',\n",
              " 'griff',\n",
              " 'tale',\n",
              " 'inn',\n",
              " 'ugly',\n",
              " 'beric',\n",
              " 'twins',\n",
              " 'weight',\n",
              " 'forget',\n",
              " 'sick',\n",
              " 'dressed',\n",
              " 'rolled',\n",
              " 'climb',\n",
              " 'ygritte',\n",
              " 'enemies',\n",
              " 'hoped',\n",
              " 'knelt',\n",
              " 'daario',\n",
              " 'fur',\n",
              " 'marry',\n",
              " 'chance',\n",
              " 'courage',\n",
              " 'lad',\n",
              " 'seems',\n",
              " 'grow',\n",
              " 'freys',\n",
              " 'laughing',\n",
              " 'whether',\n",
              " 'fleet',\n",
              " 'smiling',\n",
              " 'bride',\n",
              " 'corpse',\n",
              " 'marriage',\n",
              " 'appeared',\n",
              " 'unsullied',\n",
              " 'breasts',\n",
              " 'square',\n",
              " 'meet',\n",
              " 'wool',\n",
              " 'kingslayer',\n",
              " 'drank',\n",
              " 'showed',\n",
              " 'trouble',\n",
              " 'edge',\n",
              " 'mountains',\n",
              " 'frozen',\n",
              " 'march',\n",
              " 'mercy',\n",
              " 'alayne',\n",
              " 'arrows',\n",
              " 'slynt',\n",
              " 'ragged',\n",
              " 'wear',\n",
              " 'shae',\n",
              " 'decided',\n",
              " 'offer',\n",
              " 'allowed',\n",
              " 'swore',\n",
              " 'recall',\n",
              " 'sing',\n",
              " 'bound',\n",
              " 'welcome',\n",
              " 'everything',\n",
              " 'ill',\n",
              " 'spread',\n",
              " 'mace',\n",
              " 'slept',\n",
              " 'quickly',\n",
              " 'seated',\n",
              " 'wake',\n",
              " 'sounded',\n",
              " 'moving',\n",
              " 'tales',\n",
              " 'ancient',\n",
              " 'flew',\n",
              " 'bowed',\n",
              " 'talking',\n",
              " 'dare',\n",
              " ...]"
            ]
          },
          "metadata": {},
          "execution_count": 44
        }
      ]
    },
    {
      "cell_type": "code",
      "source": [
        "len(y)"
      ],
      "metadata": {
        "id": "YN98jgw_DY3P",
        "colab": {
          "base_uri": "https://localhost:8080/"
        },
        "outputId": "60c23b5a-e1b0-490b-baa0-edbb9da5cc2d"
      },
      "execution_count": null,
      "outputs": [
        {
          "output_type": "execute_result",
          "data": {
            "text/plain": [
              "17310"
            ]
          },
          "metadata": {},
          "execution_count": 45
        }
      ]
    },
    {
      "cell_type": "code",
      "source": [
        "from sklearn.decomposition import PCA"
      ],
      "metadata": {
        "id": "SkBj1SoPDY0K"
      },
      "execution_count": null,
      "outputs": []
    },
    {
      "cell_type": "code",
      "source": [
        "pca = PCA(n_components=3)"
      ],
      "metadata": {
        "id": "LCpCO3CqDYxI"
      },
      "execution_count": null,
      "outputs": []
    },
    {
      "cell_type": "code",
      "source": [
        "X = pca.fit_transform(model.wv.get_normed_vectors())"
      ],
      "metadata": {
        "id": "ngVuiS9hDYt5"
      },
      "execution_count": null,
      "outputs": []
    },
    {
      "cell_type": "code",
      "source": [
        "X[:5]"
      ],
      "metadata": {
        "id": "df32k3xpDYqm",
        "colab": {
          "base_uri": "https://localhost:8080/"
        },
        "outputId": "7ca08cd3-bc74-4267-b1df-6839f6d4f1d3"
      },
      "execution_count": null,
      "outputs": [
        {
          "output_type": "execute_result",
          "data": {
            "text/plain": [
              "array([[ 0.48768198, -0.02466163,  0.20281047],\n",
              "       [ 0.38750282, -0.5581714 ,  0.41218153],\n",
              "       [ 0.5087006 ,  0.03279981, -0.3390863 ],\n",
              "       [ 0.01168744, -0.1424324 , -0.03326559],\n",
              "       [ 0.29105672, -0.49973634,  0.5466303 ]], dtype=float32)"
            ]
          },
          "metadata": {},
          "execution_count": 49
        }
      ]
    },
    {
      "cell_type": "code",
      "source": [
        "X.shape"
      ],
      "metadata": {
        "colab": {
          "base_uri": "https://localhost:8080/"
        },
        "id": "s9ud-6PNz3mR",
        "outputId": "767c4481-1d70-486f-f892-8a6f1acb4060"
      },
      "execution_count": null,
      "outputs": [
        {
          "output_type": "execute_result",
          "data": {
            "text/plain": [
              "(17310, 3)"
            ]
          },
          "metadata": {},
          "execution_count": 50
        }
      ]
    },
    {
      "cell_type": "code",
      "source": [
        "import plotly.express as px"
      ],
      "metadata": {
        "id": "Rb3uqWGKDYnb"
      },
      "execution_count": null,
      "outputs": []
    },
    {
      "cell_type": "code",
      "source": [
        "fig = px.scatter_3d(X[:500],x=0,y=1,z=2,color=y[:500])\n",
        "fig.show()"
      ],
      "metadata": {
        "id": "uCvEDHznDYkW",
        "colab": {
          "base_uri": "https://localhost:8080/",
          "height": 542
        },
        "outputId": "7bf80575-6582-4b7d-f359-89db7e5e6abf"
      },
      "execution_count": null,
      "outputs": [
        {
          "output_type": "display_data",
          "data": {
            "text/html": [
              "<html>\n",
              "<head><meta charset=\"utf-8\" /></head>\n",
              "<body>\n",
              "    <div>            <script src=\"https://cdnjs.cloudflare.com/ajax/libs/mathjax/2.7.5/MathJax.js?config=TeX-AMS-MML_SVG\"></script><script type=\"text/javascript\">if (window.MathJax && window.MathJax.Hub && window.MathJax.Hub.Config) {window.MathJax.Hub.Config({SVG: {font: \"STIX-Web\"}});}</script>                <script type=\"text/javascript\">window.PlotlyConfig = {MathJaxConfig: 'local'};</script>\n",
              "        <script charset=\"utf-8\" src=\"https://cdn.plot.ly/plotly-2.35.2.min.js\"></script>                <div id=\"ddb849ee-a736-4612-b67c-e668a2785252\" class=\"plotly-graph-div\" style=\"height:525px; width:100%;\"></div>            <script type=\"text/javascript\">                                    window.PLOTLYENV=window.PLOTLYENV || {};                                    if (document.getElementById(\"ddb849ee-a736-4612-b67c-e668a2785252\")) {                    Plotly.newPlot(                        \"ddb849ee-a736-4612-b67c-e668a2785252\",                        [{\"hovertemplate\":\"color=said\\u003cbr\\u003e0=%{x}\\u003cbr\\u003e1=%{y}\\u003cbr\\u003e2=%{z}\\u003cextra\\u003e\\u003c\\u002fextra\\u003e\",\"legendgroup\":\"said\",\"marker\":{\"color\":\"#636efa\",\"symbol\":\"circle\"},\"mode\":\"markers\",\"name\":\"said\",\"scene\":\"scene\",\"showlegend\":true,\"x\":[0.48768198],\"y\":[-0.02466163],\"z\":[0.20281047],\"type\":\"scatter3d\"},{\"hovertemplate\":\"color=lord\\u003cbr\\u003e0=%{x}\\u003cbr\\u003e1=%{y}\\u003cbr\\u003e2=%{z}\\u003cextra\\u003e\\u003c\\u002fextra\\u003e\",\"legendgroup\":\"lord\",\"marker\":{\"color\":\"#EF553B\",\"symbol\":\"circle\"},\"mode\":\"markers\",\"name\":\"lord\",\"scene\":\"scene\",\"showlegend\":true,\"x\":[0.38750282],\"y\":[-0.5581714],\"z\":[0.41218153],\"type\":\"scatter3d\"},{\"hovertemplate\":\"color=would\\u003cbr\\u003e0=%{x}\\u003cbr\\u003e1=%{y}\\u003cbr\\u003e2=%{z}\\u003cextra\\u003e\\u003c\\u002fextra\\u003e\",\"legendgroup\":\"would\",\"marker\":{\"color\":\"#00cc96\",\"symbol\":\"circle\"},\"mode\":\"markers\",\"name\":\"would\",\"scene\":\"scene\",\"showlegend\":true,\"x\":[0.5087006],\"y\":[0.03279981],\"z\":[-0.3390863],\"type\":\"scatter3d\"},{\"hovertemplate\":\"color=one\\u003cbr\\u003e0=%{x}\\u003cbr\\u003e1=%{y}\\u003cbr\\u003e2=%{z}\\u003cextra\\u003e\\u003c\\u002fextra\\u003e\",\"legendgroup\":\"one\",\"marker\":{\"color\":\"#ab63fa\",\"symbol\":\"circle\"},\"mode\":\"markers\",\"name\":\"one\",\"scene\":\"scene\",\"showlegend\":true,\"x\":[0.011687436],\"y\":[-0.1424324],\"z\":[-0.03326559],\"type\":\"scatter3d\"},{\"hovertemplate\":\"color=ser\\u003cbr\\u003e0=%{x}\\u003cbr\\u003e1=%{y}\\u003cbr\\u003e2=%{z}\\u003cextra\\u003e\\u003c\\u002fextra\\u003e\",\"legendgroup\":\"ser\",\"marker\":{\"color\":\"#FFA15A\",\"symbol\":\"circle\"},\"mode\":\"markers\",\"name\":\"ser\",\"scene\":\"scene\",\"showlegend\":true,\"x\":[0.29105672],\"y\":[-0.49973634],\"z\":[0.5466303],\"type\":\"scatter3d\"},{\"hovertemplate\":\"color=could\\u003cbr\\u003e0=%{x}\\u003cbr\\u003e1=%{y}\\u003cbr\\u003e2=%{z}\\u003cextra\\u003e\\u003c\\u002fextra\\u003e\",\"legendgroup\":\"could\",\"marker\":{\"color\":\"#19d3f3\",\"symbol\":\"circle\"},\"mode\":\"markers\",\"name\":\"could\",\"scene\":\"scene\",\"showlegend\":true,\"x\":[0.032186683],\"y\":[0.112812966],\"z\":[-0.27555037],\"type\":\"scatter3d\"},{\"hovertemplate\":\"color=man\\u003cbr\\u003e0=%{x}\\u003cbr\\u003e1=%{y}\\u003cbr\\u003e2=%{z}\\u003cextra\\u003e\\u003c\\u002fextra\\u003e\",\"legendgroup\":\"man\",\"marker\":{\"color\":\"#FF6692\",\"symbol\":\"circle\"},\"mode\":\"markers\",\"name\":\"man\",\"scene\":\"scene\",\"showlegend\":true,\"x\":[0.07206993],\"y\":[-0.09372795],\"z\":[0.18721522],\"type\":\"scatter3d\"},{\"hovertemplate\":\"color=king\\u003cbr\\u003e0=%{x}\\u003cbr\\u003e1=%{y}\\u003cbr\\u003e2=%{z}\\u003cextra\\u003e\\u003c\\u002fextra\\u003e\",\"legendgroup\":\"king\",\"marker\":{\"color\":\"#B6E880\",\"symbol\":\"circle\"},\"mode\":\"markers\",\"name\":\"king\",\"scene\":\"scene\",\"showlegend\":true,\"x\":[0.38499868],\"y\":[-0.5171639],\"z\":[0.11561884],\"type\":\"scatter3d\"},{\"hovertemplate\":\"color=men\\u003cbr\\u003e0=%{x}\\u003cbr\\u003e1=%{y}\\u003cbr\\u003e2=%{z}\\u003cextra\\u003e\\u003c\\u002fextra\\u003e\",\"legendgroup\":\"men\",\"marker\":{\"color\":\"#FF97FF\",\"symbol\":\"circle\"},\"mode\":\"markers\",\"name\":\"men\",\"scene\":\"scene\",\"showlegend\":true,\"x\":[0.06896318],\"y\":[-0.54891545],\"z\":[-0.30731717],\"type\":\"scatter3d\"},{\"hovertemplate\":\"color=back\\u003cbr\\u003e0=%{x}\\u003cbr\\u003e1=%{y}\\u003cbr\\u003e2=%{z}\\u003cextra\\u003e\\u003c\\u002fextra\\u003e\",\"legendgroup\":\"back\",\"marker\":{\"color\":\"#FECB52\",\"symbol\":\"circle\"},\"mode\":\"markers\",\"name\":\"back\",\"scene\":\"scene\",\"showlegend\":true,\"x\":[-0.22039782],\"y\":[-0.027128458],\"z\":[-0.01352711],\"type\":\"scatter3d\"},{\"hovertemplate\":\"color=well\\u003cbr\\u003e0=%{x}\\u003cbr\\u003e1=%{y}\\u003cbr\\u003e2=%{z}\\u003cextra\\u003e\\u003c\\u002fextra\\u003e\",\"legendgroup\":\"well\",\"marker\":{\"color\":\"#636efa\",\"symbol\":\"circle\"},\"mode\":\"markers\",\"name\":\"well\",\"scene\":\"scene\",\"showlegend\":true,\"x\":[0.46130523],\"y\":[-0.20390038],\"z\":[-0.17690411],\"type\":\"scatter3d\"},{\"hovertemplate\":\"color=like\\u003cbr\\u003e0=%{x}\\u003cbr\\u003e1=%{y}\\u003cbr\\u003e2=%{z}\\u003cextra\\u003e\\u003c\\u002fextra\\u003e\",\"legendgroup\":\"like\",\"marker\":{\"color\":\"#EF553B\",\"symbol\":\"circle\"},\"mode\":\"markers\",\"name\":\"like\",\"scene\":\"scene\",\"showlegend\":true,\"x\":[-0.26813376],\"y\":[0.1403445],\"z\":[-0.19187453],\"type\":\"scatter3d\"},{\"hovertemplate\":\"color=jon\\u003cbr\\u003e0=%{x}\\u003cbr\\u003e1=%{y}\\u003cbr\\u003e2=%{z}\\u003cextra\\u003e\\u003c\\u002fextra\\u003e\",\"legendgroup\":\"jon\",\"marker\":{\"color\":\"#00cc96\",\"symbol\":\"circle\"},\"mode\":\"markers\",\"name\":\"jon\",\"scene\":\"scene\",\"showlegend\":true,\"x\":[0.026712697],\"y\":[0.0015072674],\"z\":[0.10227048],\"type\":\"scatter3d\"},{\"hovertemplate\":\"color=father\\u003cbr\\u003e0=%{x}\\u003cbr\\u003e1=%{y}\\u003cbr\\u003e2=%{z}\\u003cextra\\u003e\\u003c\\u002fextra\\u003e\",\"legendgroup\":\"father\",\"marker\":{\"color\":\"#ab63fa\",\"symbol\":\"circle\"},\"mode\":\"markers\",\"name\":\"father\",\"scene\":\"scene\",\"showlegend\":true,\"x\":[0.63595945],\"y\":[-0.29442674],\"z\":[0.17232728],\"type\":\"scatter3d\"},{\"hovertemplate\":\"color=old\\u003cbr\\u003e0=%{x}\\u003cbr\\u003e1=%{y}\\u003cbr\\u003e2=%{z}\\u003cextra\\u003e\\u003c\\u002fextra\\u003e\",\"legendgroup\":\"old\",\"marker\":{\"color\":\"#FFA15A\",\"symbol\":\"circle\"},\"mode\":\"markers\",\"name\":\"old\",\"scene\":\"scene\",\"showlegend\":true,\"x\":[0.014708944],\"y\":[-0.286347],\"z\":[0.057523057],\"type\":\"scatter3d\"},{\"hovertemplate\":\"color=hand\\u003cbr\\u003e0=%{x}\\u003cbr\\u003e1=%{y}\\u003cbr\\u003e2=%{z}\\u003cextra\\u003e\\u003c\\u002fextra\\u003e\",\"legendgroup\":\"hand\",\"marker\":{\"color\":\"#19d3f3\",\"symbol\":\"circle\"},\"mode\":\"markers\",\"name\":\"hand\",\"scene\":\"scene\",\"showlegend\":true,\"x\":[-0.091695406],\"y\":[-0.079134166],\"z\":[0.38679734],\"type\":\"scatter3d\"},{\"hovertemplate\":\"color=even\\u003cbr\\u003e0=%{x}\\u003cbr\\u003e1=%{y}\\u003cbr\\u003e2=%{z}\\u003cextra\\u003e\\u003c\\u002fextra\\u003e\",\"legendgroup\":\"even\",\"marker\":{\"color\":\"#FF6692\",\"symbol\":\"circle\"},\"mode\":\"markers\",\"name\":\"even\",\"scene\":\"scene\",\"showlegend\":true,\"x\":[0.10133025],\"y\":[0.06493744],\"z\":[-0.4462893],\"type\":\"scatter3d\"},{\"hovertemplate\":\"color=tyrion\\u003cbr\\u003e0=%{x}\\u003cbr\\u003e1=%{y}\\u003cbr\\u003e2=%{z}\\u003cextra\\u003e\\u003c\\u002fextra\\u003e\",\"legendgroup\":\"tyrion\",\"marker\":{\"color\":\"#B6E880\",\"symbol\":\"circle\"},\"mode\":\"markers\",\"name\":\"tyrion\",\"scene\":\"scene\",\"showlegend\":true,\"x\":[0.08822359],\"y\":[0.22409877],\"z\":[0.25342694],\"type\":\"scatter3d\"},{\"hovertemplate\":\"color=never\\u003cbr\\u003e0=%{x}\\u003cbr\\u003e1=%{y}\\u003cbr\\u003e2=%{z}\\u003cextra\\u003e\\u003c\\u002fextra\\u003e\",\"legendgroup\":\"never\",\"marker\":{\"color\":\"#FF97FF\",\"symbol\":\"circle\"},\"mode\":\"markers\",\"name\":\"never\",\"scene\":\"scene\",\"showlegend\":true,\"x\":[0.45008764],\"y\":[0.17733622],\"z\":[-0.18487078],\"type\":\"scatter3d\"},{\"hovertemplate\":\"color=know\\u003cbr\\u003e0=%{x}\\u003cbr\\u003e1=%{y}\\u003cbr\\u003e2=%{z}\\u003cextra\\u003e\\u003c\\u002fextra\\u003e\",\"legendgroup\":\"know\",\"marker\":{\"color\":\"#FECB52\",\"symbol\":\"circle\"},\"mode\":\"markers\",\"name\":\"know\",\"scene\":\"scene\",\"showlegend\":true,\"x\":[0.65830374],\"y\":[0.074938],\"z\":[-0.1950261],\"type\":\"scatter3d\"},{\"hovertemplate\":\"color=see\\u003cbr\\u003e0=%{x}\\u003cbr\\u003e1=%{y}\\u003cbr\\u003e2=%{z}\\u003cextra\\u003e\\u003c\\u002fextra\\u003e\",\"legendgroup\":\"see\",\"marker\":{\"color\":\"#636efa\",\"symbol\":\"circle\"},\"mode\":\"markers\",\"name\":\"see\",\"scene\":\"scene\",\"showlegend\":true,\"x\":[0.07331281],\"y\":[0.040650174],\"z\":[-0.21150428],\"type\":\"scatter3d\"},{\"hovertemplate\":\"color=made\\u003cbr\\u003e0=%{x}\\u003cbr\\u003e1=%{y}\\u003cbr\\u003e2=%{z}\\u003cextra\\u003e\\u003c\\u002fextra\\u003e\",\"legendgroup\":\"made\",\"marker\":{\"color\":\"#EF553B\",\"symbol\":\"circle\"},\"mode\":\"markers\",\"name\":\"made\",\"scene\":\"scene\",\"showlegend\":true,\"x\":[-0.0858379],\"y\":[0.10510874],\"z\":[-0.115154885],\"type\":\"scatter3d\"},{\"hovertemplate\":\"color=eyes\\u003cbr\\u003e0=%{x}\\u003cbr\\u003e1=%{y}\\u003cbr\\u003e2=%{z}\\u003cextra\\u003e\\u003c\\u002fextra\\u003e\",\"legendgroup\":\"eyes\",\"marker\":{\"color\":\"#00cc96\",\"symbol\":\"circle\"},\"mode\":\"markers\",\"name\":\"eyes\",\"scene\":\"scene\",\"showlegend\":true,\"x\":[-0.2569698],\"y\":[0.20794952],\"z\":[0.19265664],\"type\":\"scatter3d\"},{\"hovertemplate\":\"color=black\\u003cbr\\u003e0=%{x}\\u003cbr\\u003e1=%{y}\\u003cbr\\u003e2=%{z}\\u003cextra\\u003e\\u003c\\u002fextra\\u003e\",\"legendgroup\":\"black\",\"marker\":{\"color\":\"#ab63fa\",\"symbol\":\"circle\"},\"mode\":\"markers\",\"name\":\"black\",\"scene\":\"scene\",\"showlegend\":true,\"x\":[-0.43841788],\"y\":[-0.43316105],\"z\":[0.09084064],\"type\":\"scatter3d\"},{\"hovertemplate\":\"color=told\\u003cbr\\u003e0=%{x}\\u003cbr\\u003e1=%{y}\\u003cbr\\u003e2=%{z}\\u003cextra\\u003e\\u003c\\u002fextra\\u003e\",\"legendgroup\":\"told\",\"marker\":{\"color\":\"#FFA15A\",\"symbol\":\"circle\"},\"mode\":\"markers\",\"name\":\"told\",\"scene\":\"scene\",\"showlegend\":true,\"x\":[0.5037198],\"y\":[0.0035685152],\"z\":[-0.100491054],\"type\":\"scatter3d\"},{\"hovertemplate\":\"color=lady\\u003cbr\\u003e0=%{x}\\u003cbr\\u003e1=%{y}\\u003cbr\\u003e2=%{z}\\u003cextra\\u003e\\u003c\\u002fextra\\u003e\",\"legendgroup\":\"lady\",\"marker\":{\"color\":\"#19d3f3\",\"symbol\":\"circle\"},\"mode\":\"markers\",\"name\":\"lady\",\"scene\":\"scene\",\"showlegend\":true,\"x\":[0.44351232],\"y\":[-0.38093716],\"z\":[0.5295912],\"type\":\"scatter3d\"},{\"hovertemplate\":\"color=thought\\u003cbr\\u003e0=%{x}\\u003cbr\\u003e1=%{y}\\u003cbr\\u003e2=%{z}\\u003cextra\\u003e\\u003c\\u002fextra\\u003e\",\"legendgroup\":\"thought\",\"marker\":{\"color\":\"#FF6692\",\"symbol\":\"circle\"},\"mode\":\"markers\",\"name\":\"thought\",\"scene\":\"scene\",\"showlegend\":true,\"x\":[0.26199204],\"y\":[0.22811389],\"z\":[-0.15070492],\"type\":\"scatter3d\"},{\"hovertemplate\":\"color=time\\u003cbr\\u003e0=%{x}\\u003cbr\\u003e1=%{y}\\u003cbr\\u003e2=%{z}\\u003cextra\\u003e\\u003c\\u002fextra\\u003e\",\"legendgroup\":\"time\",\"marker\":{\"color\":\"#B6E880\",\"symbol\":\"circle\"},\"mode\":\"markers\",\"name\":\"time\",\"scene\":\"scene\",\"showlegend\":true,\"x\":[0.02901362],\"y\":[0.040876195],\"z\":[-0.237793],\"type\":\"scatter3d\"},{\"hovertemplate\":\"color=long\\u003cbr\\u003e0=%{x}\\u003cbr\\u003e1=%{y}\\u003cbr\\u003e2=%{z}\\u003cextra\\u003e\\u003c\\u002fextra\\u003e\",\"legendgroup\":\"long\",\"marker\":{\"color\":\"#FF97FF\",\"symbol\":\"circle\"},\"mode\":\"markers\",\"name\":\"long\",\"scene\":\"scene\",\"showlegend\":true,\"x\":[-0.27670768],\"y\":[-0.27646488],\"z\":[-0.21847302],\"type\":\"scatter3d\"},{\"hovertemplate\":\"color=might\\u003cbr\\u003e0=%{x}\\u003cbr\\u003e1=%{y}\\u003cbr\\u003e2=%{z}\\u003cextra\\u003e\\u003c\\u002fextra\\u003e\",\"legendgroup\":\"might\",\"marker\":{\"color\":\"#FECB52\",\"symbol\":\"circle\"},\"mode\":\"markers\",\"name\":\"might\",\"scene\":\"scene\",\"showlegend\":true,\"x\":[0.5458206],\"y\":[0.027558908],\"z\":[-0.27680203],\"type\":\"scatter3d\"},{\"hovertemplate\":\"color=us\\u003cbr\\u003e0=%{x}\\u003cbr\\u003e1=%{y}\\u003cbr\\u003e2=%{z}\\u003cextra\\u003e\\u003c\\u002fextra\\u003e\",\"legendgroup\":\"us\",\"marker\":{\"color\":\"#636efa\",\"symbol\":\"circle\"},\"mode\":\"markers\",\"name\":\"us\",\"scene\":\"scene\",\"showlegend\":true,\"x\":[0.55022746],\"y\":[-0.20561306],\"z\":[-0.33522764],\"type\":\"scatter3d\"},{\"hovertemplate\":\"color=come\\u003cbr\\u003e0=%{x}\\u003cbr\\u003e1=%{y}\\u003cbr\\u003e2=%{z}\\u003cextra\\u003e\\u003c\\u002fextra\\u003e\",\"legendgroup\":\"come\",\"marker\":{\"color\":\"#EF553B\",\"symbol\":\"circle\"},\"mode\":\"markers\",\"name\":\"come\",\"scene\":\"scene\",\"showlegend\":true,\"x\":[0.3714989],\"y\":[-0.11051242],\"z\":[-0.48552364],\"type\":\"scatter3d\"},{\"hovertemplate\":\"color=face\\u003cbr\\u003e0=%{x}\\u003cbr\\u003e1=%{y}\\u003cbr\\u003e2=%{z}\\u003cextra\\u003e\\u003c\\u002fextra\\u003e\",\"legendgroup\":\"face\",\"marker\":{\"color\":\"#00cc96\",\"symbol\":\"circle\"},\"mode\":\"markers\",\"name\":\"face\",\"scene\":\"scene\",\"showlegend\":true,\"x\":[-0.34377417],\"y\":[0.28198233],\"z\":[0.35496262],\"type\":\"scatter3d\"},{\"hovertemplate\":\"color=still\\u003cbr\\u003e0=%{x}\\u003cbr\\u003e1=%{y}\\u003cbr\\u003e2=%{z}\\u003cextra\\u003e\\u003c\\u002fextra\\u003e\",\"legendgroup\":\"still\",\"marker\":{\"color\":\"#ab63fa\",\"symbol\":\"circle\"},\"mode\":\"markers\",\"name\":\"still\",\"scene\":\"scene\",\"showlegend\":true,\"x\":[-0.10494862],\"y\":[-0.07707895],\"z\":[-0.3522429],\"type\":\"scatter3d\"},{\"hovertemplate\":\"color=head\\u003cbr\\u003e0=%{x}\\u003cbr\\u003e1=%{y}\\u003cbr\\u003e2=%{z}\\u003cextra\\u003e\\u003c\\u002fextra\\u003e\",\"legendgroup\":\"head\",\"marker\":{\"color\":\"#FFA15A\",\"symbol\":\"circle\"},\"mode\":\"markers\",\"name\":\"head\",\"scene\":\"scene\",\"showlegend\":true,\"x\":[-0.31266344],\"y\":[0.063608676],\"z\":[0.51292366],\"type\":\"scatter3d\"},{\"hovertemplate\":\"color=red\\u003cbr\\u003e0=%{x}\\u003cbr\\u003e1=%{y}\\u003cbr\\u003e2=%{z}\\u003cextra\\u003e\\u003c\\u002fextra\\u003e\",\"legendgroup\":\"red\",\"marker\":{\"color\":\"#19d3f3\",\"symbol\":\"circle\"},\"mode\":\"markers\",\"name\":\"red\",\"scene\":\"scene\",\"showlegend\":true,\"x\":[-0.3283565],\"y\":[-0.34743887],\"z\":[0.27517077],\"type\":\"scatter3d\"},{\"hovertemplate\":\"color=way\\u003cbr\\u003e0=%{x}\\u003cbr\\u003e1=%{y}\\u003cbr\\u003e2=%{z}\\u003cextra\\u003e\\u003c\\u002fextra\\u003e\",\"legendgroup\":\"way\",\"marker\":{\"color\":\"#FF6692\",\"symbol\":\"circle\"},\"mode\":\"markers\",\"name\":\"way\",\"scene\":\"scene\",\"showlegend\":true,\"x\":[-0.08070824],\"y\":[-0.00089867413],\"z\":[-0.35632256],\"type\":\"scatter3d\"},{\"hovertemplate\":\"color=boy\\u003cbr\\u003e0=%{x}\\u003cbr\\u003e1=%{y}\\u003cbr\\u003e2=%{z}\\u003cextra\\u003e\\u003c\\u002fextra\\u003e\",\"legendgroup\":\"boy\",\"marker\":{\"color\":\"#B6E880\",\"symbol\":\"circle\"},\"mode\":\"markers\",\"name\":\"boy\",\"scene\":\"scene\",\"showlegend\":true,\"x\":[0.3033852],\"y\":[-0.17160842],\"z\":[0.4234661],\"type\":\"scatter3d\"},{\"hovertemplate\":\"color=page\\u003cbr\\u003e0=%{x}\\u003cbr\\u003e1=%{y}\\u003cbr\\u003e2=%{z}\\u003cextra\\u003e\\u003c\\u002fextra\\u003e\",\"legendgroup\":\"page\",\"marker\":{\"color\":\"#FF97FF\",\"symbol\":\"circle\"},\"mode\":\"markers\",\"name\":\"page\",\"scene\":\"scene\",\"showlegend\":true,\"x\":[0.120017685],\"y\":[-0.1279726],\"z\":[0.29832855],\"type\":\"scatter3d\"},{\"hovertemplate\":\"color=must\\u003cbr\\u003e0=%{x}\\u003cbr\\u003e1=%{y}\\u003cbr\\u003e2=%{z}\\u003cextra\\u003e\\u003c\\u002fextra\\u003e\",\"legendgroup\":\"must\",\"marker\":{\"color\":\"#FECB52\",\"symbol\":\"circle\"},\"mode\":\"markers\",\"name\":\"must\",\"scene\":\"scene\",\"showlegend\":true,\"x\":[0.62679666],\"y\":[-0.060345918],\"z\":[-0.28533405],\"type\":\"scatter3d\"},{\"hovertemplate\":\"color=queen\\u003cbr\\u003e0=%{x}\\u003cbr\\u003e1=%{y}\\u003cbr\\u003e2=%{z}\\u003cextra\\u003e\\u003c\\u002fextra\\u003e\",\"legendgroup\":\"queen\",\"marker\":{\"color\":\"#636efa\",\"symbol\":\"circle\"},\"mode\":\"markers\",\"name\":\"queen\",\"scene\":\"scene\",\"showlegend\":true,\"x\":[0.48884928],\"y\":[-0.29776627],\"z\":[0.24567479],\"type\":\"scatter3d\"},{\"hovertemplate\":\"color=good\\u003cbr\\u003e0=%{x}\\u003cbr\\u003e1=%{y}\\u003cbr\\u003e2=%{z}\\u003cextra\\u003e\\u003c\\u002fextra\\u003e\",\"legendgroup\":\"good\",\"marker\":{\"color\":\"#EF553B\",\"symbol\":\"circle\"},\"mode\":\"markers\",\"name\":\"good\",\"scene\":\"scene\",\"showlegend\":true,\"x\":[0.47333091],\"y\":[0.080857724],\"z\":[-0.16279069],\"type\":\"scatter3d\"},{\"hovertemplate\":\"color=two\\u003cbr\\u003e0=%{x}\\u003cbr\\u003e1=%{y}\\u003cbr\\u003e2=%{z}\\u003cextra\\u003e\\u003c\\u002fextra\\u003e\",\"legendgroup\":\"two\",\"marker\":{\"color\":\"#00cc96\",\"symbol\":\"circle\"},\"mode\":\"markers\",\"name\":\"two\",\"scene\":\"scene\",\"showlegend\":true,\"x\":[-0.18847965],\"y\":[-0.62035346],\"z\":[-0.12191733],\"type\":\"scatter3d\"},{\"hovertemplate\":\"color=brother\\u003cbr\\u003e0=%{x}\\u003cbr\\u003e1=%{y}\\u003cbr\\u003e2=%{z}\\u003cextra\\u003e\\u003c\\u002fextra\\u003e\",\"legendgroup\":\"brother\",\"marker\":{\"color\":\"#ab63fa\",\"symbol\":\"circle\"},\"mode\":\"markers\",\"name\":\"brother\",\"scene\":\"scene\",\"showlegend\":true,\"x\":[0.55895185],\"y\":[-0.46269622],\"z\":[0.34947652],\"type\":\"scatter3d\"},{\"hovertemplate\":\"color=night\\u003cbr\\u003e0=%{x}\\u003cbr\\u003e1=%{y}\\u003cbr\\u003e2=%{z}\\u003cextra\\u003e\\u003c\\u002fextra\\u003e\",\"legendgroup\":\"night\",\"marker\":{\"color\":\"#FFA15A\",\"symbol\":\"circle\"},\"mode\":\"markers\",\"name\":\"night\",\"scene\":\"scene\",\"showlegend\":true,\"x\":[-0.022350745],\"y\":[-0.14883767],\"z\":[-0.31459782],\"type\":\"scatter3d\"},{\"hovertemplate\":\"color=little\\u003cbr\\u003e0=%{x}\\u003cbr\\u003e1=%{y}\\u003cbr\\u003e2=%{z}\\u003cextra\\u003e\\u003c\\u002fextra\\u003e\",\"legendgroup\":\"little\",\"marker\":{\"color\":\"#19d3f3\",\"symbol\":\"circle\"},\"mode\":\"markers\",\"name\":\"little\",\"scene\":\"scene\",\"showlegend\":true,\"x\":[0.10485441],\"y\":[0.18690428],\"z\":[0.10418404],\"type\":\"scatter3d\"},{\"hovertemplate\":\"color=took\\u003cbr\\u003e0=%{x}\\u003cbr\\u003e1=%{y}\\u003cbr\\u003e2=%{z}\\u003cextra\\u003e\\u003c\\u002fextra\\u003e\",\"legendgroup\":\"took\",\"marker\":{\"color\":\"#FF6692\",\"symbol\":\"circle\"},\"mode\":\"markers\",\"name\":\"took\",\"scene\":\"scene\",\"showlegend\":true,\"x\":[-0.014113819],\"y\":[-0.20910712],\"z\":[0.13646935],\"type\":\"scatter3d\"},{\"hovertemplate\":\"color=came\\u003cbr\\u003e0=%{x}\\u003cbr\\u003e1=%{y}\\u003cbr\\u003e2=%{z}\\u003cextra\\u003e\\u003c\\u002fextra\\u003e\",\"legendgroup\":\"came\",\"marker\":{\"color\":\"#B6E880\",\"symbol\":\"circle\"},\"mode\":\"markers\",\"name\":\"came\",\"scene\":\"scene\",\"showlegend\":true,\"x\":[-0.2817587],\"y\":[-0.20775662],\"z\":[-0.3871917],\"type\":\"scatter3d\"},{\"hovertemplate\":\"color=though\\u003cbr\\u003e0=%{x}\\u003cbr\\u003e1=%{y}\\u003cbr\\u003e2=%{z}\\u003cextra\\u003e\\u003c\\u002fextra\\u003e\",\"legendgroup\":\"though\",\"marker\":{\"color\":\"#FF97FF\",\"symbol\":\"circle\"},\"mode\":\"markers\",\"name\":\"though\",\"scene\":\"scene\",\"showlegend\":true,\"x\":[0.1815176],\"y\":[0.16646251],\"z\":[-0.2199263],\"type\":\"scatter3d\"},{\"hovertemplate\":\"color=say\\u003cbr\\u003e0=%{x}\\u003cbr\\u003e1=%{y}\\u003cbr\\u003e2=%{z}\\u003cextra\\u003e\\u003c\\u002fextra\\u003e\",\"legendgroup\":\"say\",\"marker\":{\"color\":\"#FECB52\",\"symbol\":\"circle\"},\"mode\":\"markers\",\"name\":\"say\",\"scene\":\"scene\",\"showlegend\":true,\"x\":[0.62115914],\"y\":[0.17802814],\"z\":[-0.09799317],\"type\":\"scatter3d\"},{\"hovertemplate\":\"color=three\\u003cbr\\u003e0=%{x}\\u003cbr\\u003e1=%{y}\\u003cbr\\u003e2=%{z}\\u003cextra\\u003e\\u003c\\u002fextra\\u003e\",\"legendgroup\":\"three\",\"marker\":{\"color\":\"#636efa\",\"symbol\":\"circle\"},\"mode\":\"markers\",\"name\":\"three\",\"scene\":\"scene\",\"showlegend\":true,\"x\":[-0.076378524],\"y\":[-0.7194921],\"z\":[-0.13170943],\"type\":\"scatter3d\"},{\"hovertemplate\":\"color=away\\u003cbr\\u003e0=%{x}\\u003cbr\\u003e1=%{y}\\u003cbr\\u003e2=%{z}\\u003cextra\\u003e\\u003c\\u002fextra\\u003e\",\"legendgroup\":\"away\",\"marker\":{\"color\":\"#EF553B\",\"symbol\":\"circle\"},\"mode\":\"markers\",\"name\":\"away\",\"scene\":\"scene\",\"showlegend\":true,\"x\":[-0.26951903],\"y\":[0.15054971],\"z\":[-0.13422033],\"type\":\"scatter3d\"},{\"hovertemplate\":\"color=dead\\u003cbr\\u003e0=%{x}\\u003cbr\\u003e1=%{y}\\u003cbr\\u003e2=%{z}\\u003cextra\\u003e\\u003c\\u002fextra\\u003e\",\"legendgroup\":\"dead\",\"marker\":{\"color\":\"#00cc96\",\"symbol\":\"circle\"},\"mode\":\"markers\",\"name\":\"dead\",\"scene\":\"scene\",\"showlegend\":true,\"x\":[0.011422703],\"y\":[-0.12772533],\"z\":[-0.27995768],\"type\":\"scatter3d\"},{\"hovertemplate\":\"color=son\\u003cbr\\u003e0=%{x}\\u003cbr\\u003e1=%{y}\\u003cbr\\u003e2=%{z}\\u003cextra\\u003e\\u003c\\u002fextra\\u003e\",\"legendgroup\":\"son\",\"marker\":{\"color\":\"#ab63fa\",\"symbol\":\"circle\"},\"mode\":\"markers\",\"name\":\"son\",\"scene\":\"scene\",\"showlegend\":true,\"x\":[0.4428323],\"y\":[-0.6581758],\"z\":[0.5215761],\"type\":\"scatter3d\"},{\"hovertemplate\":\"color=blood\\u003cbr\\u003e0=%{x}\\u003cbr\\u003e1=%{y}\\u003cbr\\u003e2=%{z}\\u003cextra\\u003e\\u003c\\u002fextra\\u003e\",\"legendgroup\":\"blood\",\"marker\":{\"color\":\"#FFA15A\",\"symbol\":\"circle\"},\"mode\":\"markers\",\"name\":\"blood\",\"scene\":\"scene\",\"showlegend\":true,\"x\":[-0.2557478],\"y\":[0.13929218],\"z\":[-0.007854],\"type\":\"scatter3d\"},{\"hovertemplate\":\"color=take\\u003cbr\\u003e0=%{x}\\u003cbr\\u003e1=%{y}\\u003cbr\\u003e2=%{z}\\u003cextra\\u003e\\u003c\\u002fextra\\u003e\",\"legendgroup\":\"take\",\"marker\":{\"color\":\"#19d3f3\",\"symbol\":\"circle\"},\"mode\":\"markers\",\"name\":\"take\",\"scene\":\"scene\",\"showlegend\":true,\"x\":[0.4331065],\"y\":[-0.17631492],\"z\":[-0.17477423],\"type\":\"scatter3d\"},{\"hovertemplate\":\"color=go\\u003cbr\\u003e0=%{x}\\u003cbr\\u003e1=%{y}\\u003cbr\\u003e2=%{z}\\u003cextra\\u003e\\u003c\\u002fextra\\u003e\",\"legendgroup\":\"go\",\"marker\":{\"color\":\"#FF6692\",\"symbol\":\"circle\"},\"mode\":\"markers\",\"name\":\"go\",\"scene\":\"scene\",\"showlegend\":true,\"x\":[0.2958125],\"y\":[0.16421723],\"z\":[-0.38448587],\"type\":\"scatter3d\"},{\"hovertemplate\":\"color=half\\u003cbr\\u003e0=%{x}\\u003cbr\\u003e1=%{y}\\u003cbr\\u003e2=%{z}\\u003cextra\\u003e\\u003c\\u002fextra\\u003e\",\"legendgroup\":\"half\",\"marker\":{\"color\":\"#B6E880\",\"symbol\":\"circle\"},\"mode\":\"markers\",\"name\":\"half\",\"scene\":\"scene\",\"showlegend\":true,\"x\":[-0.2431887],\"y\":[-0.233068],\"z\":[-0.3108677],\"type\":\"scatter3d\"},{\"hovertemplate\":\"color=make\\u003cbr\\u003e0=%{x}\\u003cbr\\u003e1=%{y}\\u003cbr\\u003e2=%{z}\\u003cextra\\u003e\\u003c\\u002fextra\\u003e\",\"legendgroup\":\"make\",\"marker\":{\"color\":\"#FF97FF\",\"symbol\":\"circle\"},\"mode\":\"markers\",\"name\":\"make\",\"scene\":\"scene\",\"showlegend\":true,\"x\":[0.4477143],\"y\":[0.18960062],\"z\":[-0.2908788],\"type\":\"scatter3d\"},{\"hovertemplate\":\"color=arya\\u003cbr\\u003e0=%{x}\\u003cbr\\u003e1=%{y}\\u003cbr\\u003e2=%{z}\\u003cextra\\u003e\\u003c\\u002fextra\\u003e\",\"legendgroup\":\"arya\",\"marker\":{\"color\":\"#FECB52\",\"symbol\":\"circle\"},\"mode\":\"markers\",\"name\":\"arya\",\"scene\":\"scene\",\"showlegend\":true,\"x\":[-0.1196155],\"y\":[0.40248653],\"z\":[-0.0095241815],\"type\":\"scatter3d\"},{\"hovertemplate\":\"color=saw\\u003cbr\\u003e0=%{x}\\u003cbr\\u003e1=%{y}\\u003cbr\\u003e2=%{z}\\u003cextra\\u003e\\u003c\\u002fextra\\u003e\",\"legendgroup\":\"saw\",\"marker\":{\"color\":\"#636efa\",\"symbol\":\"circle\"},\"mode\":\"markers\",\"name\":\"saw\",\"scene\":\"scene\",\"showlegend\":true,\"x\":[-0.3362626],\"y\":[-0.07194498],\"z\":[-0.046707697],\"type\":\"scatter3d\"},{\"hovertemplate\":\"color=day\\u003cbr\\u003e0=%{x}\\u003cbr\\u003e1=%{y}\\u003cbr\\u003e2=%{z}\\u003cextra\\u003e\\u003c\\u002fextra\\u003e\",\"legendgroup\":\"day\",\"marker\":{\"color\":\"#EF553B\",\"symbol\":\"circle\"},\"mode\":\"markers\",\"name\":\"day\",\"scene\":\"scene\",\"showlegend\":true,\"x\":[0.09607828],\"y\":[-0.25681698],\"z\":[-0.3513015],\"type\":\"scatter3d\"},{\"hovertemplate\":\"color=white\\u003cbr\\u003e0=%{x}\\u003cbr\\u003e1=%{y}\\u003cbr\\u003e2=%{z}\\u003cextra\\u003e\\u003c\\u002fextra\\u003e\",\"legendgroup\":\"white\",\"marker\":{\"color\":\"#00cc96\",\"symbol\":\"circle\"},\"mode\":\"markers\",\"name\":\"white\",\"scene\":\"scene\",\"showlegend\":true,\"x\":[-0.3832292],\"y\":[-0.5125034],\"z\":[0.3729663],\"type\":\"scatter3d\"},{\"hovertemplate\":\"color=jaime\\u003cbr\\u003e0=%{x}\\u003cbr\\u003e1=%{y}\\u003cbr\\u003e2=%{z}\\u003cextra\\u003e\\u003c\\u002fextra\\u003e\",\"legendgroup\":\"jaime\",\"marker\":{\"color\":\"#ab63fa\",\"symbol\":\"circle\"},\"mode\":\"markers\",\"name\":\"jaime\",\"scene\":\"scene\",\"showlegend\":true,\"x\":[0.2237551],\"y\":[-0.057890326],\"z\":[0.2961086],\"type\":\"scatter3d\"},{\"hovertemplate\":\"color=first\\u003cbr\\u003e0=%{x}\\u003cbr\\u003e1=%{y}\\u003cbr\\u003e2=%{z}\\u003cextra\\u003e\\u003c\\u002fextra\\u003e\",\"legendgroup\":\"first\",\"marker\":{\"color\":\"#FFA15A\",\"symbol\":\"circle\"},\"mode\":\"markers\",\"name\":\"first\",\"scene\":\"scene\",\"showlegend\":true,\"x\":[0.19046701],\"y\":[-0.39695716],\"z\":[-0.21545747],\"type\":\"scatter3d\"},{\"hovertemplate\":\"color=look\\u003cbr\\u003e0=%{x}\\u003cbr\\u003e1=%{y}\\u003cbr\\u003e2=%{z}\\u003cextra\\u003e\\u003c\\u002fextra\\u003e\",\"legendgroup\":\"look\",\"marker\":{\"color\":\"#19d3f3\",\"symbol\":\"circle\"},\"mode\":\"markers\",\"name\":\"look\",\"scene\":\"scene\",\"showlegend\":true,\"x\":[0.02086455],\"y\":[0.28307462],\"z\":[0.15126236],\"type\":\"scatter3d\"},{\"hovertemplate\":\"color=want\\u003cbr\\u003e0=%{x}\\u003cbr\\u003e1=%{y}\\u003cbr\\u003e2=%{z}\\u003cextra\\u003e\\u003c\\u002fextra\\u003e\",\"legendgroup\":\"want\",\"marker\":{\"color\":\"#FF6692\",\"symbol\":\"circle\"},\"mode\":\"markers\",\"name\":\"want\",\"scene\":\"scene\",\"showlegend\":true,\"x\":[0.5285435],\"y\":[0.22740534],\"z\":[-0.1945732],\"type\":\"scatter3d\"},{\"hovertemplate\":\"color=much\\u003cbr\\u003e0=%{x}\\u003cbr\\u003e1=%{y}\\u003cbr\\u003e2=%{z}\\u003cextra\\u003e\\u003c\\u002fextra\\u003e\",\"legendgroup\":\"much\",\"marker\":{\"color\":\"#B6E880\",\"symbol\":\"circle\"},\"mode\":\"markers\",\"name\":\"much\",\"scene\":\"scene\",\"showlegend\":true,\"x\":[0.48842588],\"y\":[0.23563978],\"z\":[-0.24660185],\"type\":\"scatter3d\"},{\"hovertemplate\":\"color=enough\\u003cbr\\u003e0=%{x}\\u003cbr\\u003e1=%{y}\\u003cbr\\u003e2=%{z}\\u003cextra\\u003e\\u003c\\u002fextra\\u003e\",\"legendgroup\":\"enough\",\"marker\":{\"color\":\"#FF97FF\",\"symbol\":\"circle\"},\"mode\":\"markers\",\"name\":\"enough\",\"scene\":\"scene\",\"showlegend\":true,\"x\":[0.20035768],\"y\":[0.044053704],\"z\":[-0.3647175],\"type\":\"scatter3d\"},{\"hovertemplate\":\"color=sword\\u003cbr\\u003e0=%{x}\\u003cbr\\u003e1=%{y}\\u003cbr\\u003e2=%{z}\\u003cextra\\u003e\\u003c\\u002fextra\\u003e\",\"legendgroup\":\"sword\",\"marker\":{\"color\":\"#FECB52\",\"symbol\":\"circle\"},\"mode\":\"markers\",\"name\":\"sword\",\"scene\":\"scene\",\"showlegend\":true,\"x\":[-0.104891576],\"y\":[-0.1449829],\"z\":[0.2567096],\"type\":\"scatter3d\"},{\"hovertemplate\":\"color=tell\\u003cbr\\u003e0=%{x}\\u003cbr\\u003e1=%{y}\\u003cbr\\u003e2=%{z}\\u003cextra\\u003e\\u003c\\u002fextra\\u003e\",\"legendgroup\":\"tell\",\"marker\":{\"color\":\"#636efa\",\"symbol\":\"circle\"},\"mode\":\"markers\",\"name\":\"tell\",\"scene\":\"scene\",\"showlegend\":true,\"x\":[0.66240835],\"y\":[0.16373429],\"z\":[-0.18573579],\"type\":\"scatter3d\"},{\"hovertemplate\":\"color=girl\\u003cbr\\u003e0=%{x}\\u003cbr\\u003e1=%{y}\\u003cbr\\u003e2=%{z}\\u003cextra\\u003e\\u003c\\u002fextra\\u003e\",\"legendgroup\":\"girl\",\"marker\":{\"color\":\"#EF553B\",\"symbol\":\"circle\"},\"mode\":\"markers\",\"name\":\"girl\",\"scene\":\"scene\",\"showlegend\":true,\"x\":[0.23184766],\"y\":[0.023964971],\"z\":[0.3674824],\"type\":\"scatter3d\"},{\"hovertemplate\":\"color=bran\\u003cbr\\u003e0=%{x}\\u003cbr\\u003e1=%{y}\\u003cbr\\u003e2=%{z}\\u003cextra\\u003e\\u003c\\u002fextra\\u003e\",\"legendgroup\":\"bran\",\"marker\":{\"color\":\"#00cc96\",\"symbol\":\"circle\"},\"mode\":\"markers\",\"name\":\"bran\",\"scene\":\"scene\",\"showlegend\":true,\"x\":[-0.056661114],\"y\":[0.3377606],\"z\":[-0.10732088],\"type\":\"scatter3d\"},{\"hovertemplate\":\"color=great\\u003cbr\\u003e0=%{x}\\u003cbr\\u003e1=%{y}\\u003cbr\\u003e2=%{z}\\u003cextra\\u003e\\u003c\\u002fextra\\u003e\",\"legendgroup\":\"great\",\"marker\":{\"color\":\"#ab63fa\",\"symbol\":\"circle\"},\"mode\":\"markers\",\"name\":\"great\",\"scene\":\"scene\",\"showlegend\":true,\"x\":[-0.15386605],\"y\":[-0.7968514],\"z\":[-0.14038727],\"type\":\"scatter3d\"},{\"hovertemplate\":\"color=looked\\u003cbr\\u003e0=%{x}\\u003cbr\\u003e1=%{y}\\u003cbr\\u003e2=%{z}\\u003cextra\\u003e\\u003c\\u002fextra\\u003e\",\"legendgroup\":\"looked\",\"marker\":{\"color\":\"#FFA15A\",\"symbol\":\"circle\"},\"mode\":\"markers\",\"name\":\"looked\",\"scene\":\"scene\",\"showlegend\":true,\"x\":[-0.20233063],\"y\":[0.069274515],\"z\":[0.21219417],\"type\":\"scatter3d\"},{\"hovertemplate\":\"color=left\\u003cbr\\u003e0=%{x}\\u003cbr\\u003e1=%{y}\\u003cbr\\u003e2=%{z}\\u003cextra\\u003e\\u003c\\u002fextra\\u003e\",\"legendgroup\":\"left\",\"marker\":{\"color\":\"#19d3f3\",\"symbol\":\"circle\"},\"mode\":\"markers\",\"name\":\"left\",\"scene\":\"scene\",\"showlegend\":true,\"x\":[-0.23172723],\"y\":[-0.28791893],\"z\":[-0.027393453],\"type\":\"scatter3d\"},{\"hovertemplate\":\"color=knew\\u003cbr\\u003e0=%{x}\\u003cbr\\u003e1=%{y}\\u003cbr\\u003e2=%{z}\\u003cextra\\u003e\\u003c\\u002fextra\\u003e\",\"legendgroup\":\"knew\",\"marker\":{\"color\":\"#FF6692\",\"symbol\":\"circle\"},\"mode\":\"markers\",\"name\":\"knew\",\"scene\":\"scene\",\"showlegend\":true,\"x\":[0.32403764],\"y\":[0.17135775],\"z\":[-0.33935207],\"type\":\"scatter3d\"},{\"hovertemplate\":\"color=asked\\u003cbr\\u003e0=%{x}\\u003cbr\\u003e1=%{y}\\u003cbr\\u003e2=%{z}\\u003cextra\\u003e\\u003c\\u002fextra\\u003e\",\"legendgroup\":\"asked\",\"marker\":{\"color\":\"#B6E880\",\"symbol\":\"circle\"},\"mode\":\"markers\",\"name\":\"asked\",\"scene\":\"scene\",\"showlegend\":true,\"x\":[0.49375644],\"y\":[-0.0074832886],\"z\":[0.28386784],\"type\":\"scatter3d\"},{\"hovertemplate\":\"color=gave\\u003cbr\\u003e0=%{x}\\u003cbr\\u003e1=%{y}\\u003cbr\\u003e2=%{z}\\u003cextra\\u003e\\u003c\\u002fextra\\u003e\",\"legendgroup\":\"gave\",\"marker\":{\"color\":\"#FF97FF\",\"symbol\":\"circle\"},\"mode\":\"markers\",\"name\":\"gave\",\"scene\":\"scene\",\"showlegend\":true,\"x\":[0.07854726],\"y\":[0.17146844],\"z\":[0.49539164],\"type\":\"scatter3d\"},{\"hovertemplate\":\"color=maester\\u003cbr\\u003e0=%{x}\\u003cbr\\u003e1=%{y}\\u003cbr\\u003e2=%{z}\\u003cextra\\u003e\\u003c\\u002fextra\\u003e\",\"legendgroup\":\"maester\",\"marker\":{\"color\":\"#FECB52\",\"symbol\":\"circle\"},\"mode\":\"markers\",\"name\":\"maester\",\"scene\":\"scene\",\"showlegend\":true,\"x\":[0.15326369],\"y\":[-0.20647538],\"z\":[0.32177022],\"type\":\"scatter3d\"},{\"hovertemplate\":\"color=called\\u003cbr\\u003e0=%{x}\\u003cbr\\u003e1=%{y}\\u003cbr\\u003e2=%{z}\\u003cextra\\u003e\\u003c\\u002fextra\\u003e\",\"legendgroup\":\"called\",\"marker\":{\"color\":\"#636efa\",\"symbol\":\"circle\"},\"mode\":\"markers\",\"name\":\"called\",\"scene\":\"scene\",\"showlegend\":true,\"x\":[0.20892861],\"y\":[-0.65829873],\"z\":[0.46120787],\"type\":\"scatter3d\"},{\"hovertemplate\":\"color=wall\\u003cbr\\u003e0=%{x}\\u003cbr\\u003e1=%{y}\\u003cbr\\u003e2=%{z}\\u003cextra\\u003e\\u003c\\u002fextra\\u003e\",\"legendgroup\":\"wall\",\"marker\":{\"color\":\"#EF553B\",\"symbol\":\"circle\"},\"mode\":\"markers\",\"name\":\"wall\",\"scene\":\"scene\",\"showlegend\":true,\"x\":[-0.24639224],\"y\":[-0.34649253],\"z\":[-0.49610245],\"type\":\"scatter3d\"},{\"hovertemplate\":\"color=every\\u003cbr\\u003e0=%{x}\\u003cbr\\u003e1=%{y}\\u003cbr\\u003e2=%{z}\\u003cextra\\u003e\\u003c\\u002fextra\\u003e\",\"legendgroup\":\"every\",\"marker\":{\"color\":\"#00cc96\",\"symbol\":\"circle\"},\"mode\":\"markers\",\"name\":\"every\",\"scene\":\"scene\",\"showlegend\":true,\"x\":[-0.16281939],\"y\":[-0.21398214],\"z\":[-0.36758456],\"type\":\"scatter3d\"},{\"hovertemplate\":\"color=heard\\u003cbr\\u003e0=%{x}\\u003cbr\\u003e1=%{y}\\u003cbr\\u003e2=%{z}\\u003cextra\\u003e\\u003c\\u002fextra\\u003e\",\"legendgroup\":\"heard\",\"marker\":{\"color\":\"#ab63fa\",\"symbol\":\"circle\"},\"mode\":\"markers\",\"name\":\"heard\",\"scene\":\"scene\",\"showlegend\":true,\"x\":[0.02053321],\"y\":[0.09485346],\"z\":[-0.23858652],\"type\":\"scatter3d\"},{\"hovertemplate\":\"color=sansa\\u003cbr\\u003e0=%{x}\\u003cbr\\u003e1=%{y}\\u003cbr\\u003e2=%{z}\\u003cextra\\u003e\\u003c\\u002fextra\\u003e\",\"legendgroup\":\"sansa\",\"marker\":{\"color\":\"#FFA15A\",\"symbol\":\"circle\"},\"mode\":\"markers\",\"name\":\"sansa\",\"scene\":\"scene\",\"showlegend\":true,\"x\":[0.16132362],\"y\":[0.31571105],\"z\":[0.2679894],\"type\":\"scatter3d\"},{\"hovertemplate\":\"color=let\\u003cbr\\u003e0=%{x}\\u003cbr\\u003e1=%{y}\\u003cbr\\u003e2=%{z}\\u003cextra\\u003e\\u003c\\u002fextra\\u003e\",\"legendgroup\":\"let\",\"marker\":{\"color\":\"#19d3f3\",\"symbol\":\"circle\"},\"mode\":\"markers\",\"name\":\"let\",\"scene\":\"scene\",\"showlegend\":true,\"x\":[0.2472344],\"y\":[0.22651637],\"z\":[-0.23713946],\"type\":\"scatter3d\"},{\"hovertemplate\":\"color=yet\\u003cbr\\u003e0=%{x}\\u003cbr\\u003e1=%{y}\\u003cbr\\u003e2=%{z}\\u003cextra\\u003e\\u003c\\u002fextra\\u003e\",\"legendgroup\":\"yet\",\"marker\":{\"color\":\"#FF6692\",\"symbol\":\"circle\"},\"mode\":\"markers\",\"name\":\"yet\",\"scene\":\"scene\",\"showlegend\":true,\"x\":[0.26494288],\"y\":[0.00558649],\"z\":[-0.40831298],\"type\":\"scatter3d\"},{\"hovertemplate\":\"color=went\\u003cbr\\u003e0=%{x}\\u003cbr\\u003e1=%{y}\\u003cbr\\u003e2=%{z}\\u003cextra\\u003e\\u003c\\u002fextra\\u003e\",\"legendgroup\":\"went\",\"marker\":{\"color\":\"#B6E880\",\"symbol\":\"circle\"},\"mode\":\"markers\",\"name\":\"went\",\"scene\":\"scene\",\"showlegend\":true,\"x\":[-0.3897898],\"y\":[-0.06725803],\"z\":[-0.17275196],\"type\":\"scatter3d\"},{\"hovertemplate\":\"color=turned\\u003cbr\\u003e0=%{x}\\u003cbr\\u003e1=%{y}\\u003cbr\\u003e2=%{z}\\u003cextra\\u003e\\u003c\\u002fextra\\u003e\",\"legendgroup\":\"turned\",\"marker\":{\"color\":\"#FF97FF\",\"symbol\":\"circle\"},\"mode\":\"markers\",\"name\":\"turned\",\"scene\":\"scene\",\"showlegend\":true,\"x\":[-0.27064243],\"y\":[-0.062079683],\"z\":[0.17268541],\"type\":\"scatter3d\"},{\"hovertemplate\":\"color=dany\\u003cbr\\u003e0=%{x}\\u003cbr\\u003e1=%{y}\\u003cbr\\u003e2=%{z}\\u003cextra\\u003e\\u003c\\u002fextra\\u003e\",\"legendgroup\":\"dany\",\"marker\":{\"color\":\"#FECB52\",\"symbol\":\"circle\"},\"mode\":\"markers\",\"name\":\"dany\",\"scene\":\"scene\",\"showlegend\":true,\"x\":[-0.093676865],\"y\":[0.21073326],\"z\":[-0.07182949],\"type\":\"scatter3d\"},{\"hovertemplate\":\"color=need\\u003cbr\\u003e0=%{x}\\u003cbr\\u003e1=%{y}\\u003cbr\\u003e2=%{z}\\u003cextra\\u003e\\u003c\\u002fextra\\u003e\",\"legendgroup\":\"need\",\"marker\":{\"color\":\"#636efa\",\"symbol\":\"circle\"},\"mode\":\"markers\",\"name\":\"need\",\"scene\":\"scene\",\"showlegend\":true,\"x\":[0.46573398],\"y\":[-0.0439879],\"z\":[-0.34121907],\"type\":\"scatter3d\"},{\"hovertemplate\":\"color=behind\\u003cbr\\u003e0=%{x}\\u003cbr\\u003e1=%{y}\\u003cbr\\u003e2=%{z}\\u003cextra\\u003e\\u003c\\u002fextra\\u003e\",\"legendgroup\":\"behind\",\"marker\":{\"color\":\"#EF553B\",\"symbol\":\"circle\"},\"mode\":\"markers\",\"name\":\"behind\",\"scene\":\"scene\",\"showlegend\":true,\"x\":[-0.5458303],\"y\":[-0.40000635],\"z\":[-0.13135391],\"type\":\"scatter3d\"},{\"hovertemplate\":\"color=around\\u003cbr\\u003e0=%{x}\\u003cbr\\u003e1=%{y}\\u003cbr\\u003e2=%{z}\\u003cextra\\u003e\\u003c\\u002fextra\\u003e\",\"legendgroup\":\"around\",\"marker\":{\"color\":\"#00cc96\",\"symbol\":\"circle\"},\"mode\":\"markers\",\"name\":\"around\",\"scene\":\"scene\",\"showlegend\":true,\"x\":[-0.7542662],\"y\":[-0.118664555],\"z\":[-0.07936252],\"type\":\"scatter3d\"},{\"hovertemplate\":\"color=woman\\u003cbr\\u003e0=%{x}\\u003cbr\\u003e1=%{y}\\u003cbr\\u003e2=%{z}\\u003cextra\\u003e\\u003c\\u002fextra\\u003e\",\"legendgroup\":\"woman\",\"marker\":{\"color\":\"#ab63fa\",\"symbol\":\"circle\"},\"mode\":\"markers\",\"name\":\"woman\",\"scene\":\"scene\",\"showlegend\":true,\"x\":[0.07910014],\"y\":[0.122231305],\"z\":[0.26983517],\"type\":\"scatter3d\"},{\"hovertemplate\":\"color=another\\u003cbr\\u003e0=%{x}\\u003cbr\\u003e1=%{y}\\u003cbr\\u003e2=%{z}\\u003cextra\\u003e\\u003c\\u002fextra\\u003e\",\"legendgroup\":\"another\",\"marker\":{\"color\":\"#FFA15A\",\"symbol\":\"circle\"},\"mode\":\"markers\",\"name\":\"another\",\"scene\":\"scene\",\"showlegend\":true,\"x\":[-0.022179967],\"y\":[-0.041117385],\"z\":[-0.13758591],\"type\":\"scatter3d\"},{\"hovertemplate\":\"color=snow\\u003cbr\\u003e0=%{x}\\u003cbr\\u003e1=%{y}\\u003cbr\\u003e2=%{z}\\u003cextra\\u003e\\u003c\\u002fextra\\u003e\",\"legendgroup\":\"snow\",\"marker\":{\"color\":\"#19d3f3\",\"symbol\":\"circle\"},\"mode\":\"markers\",\"name\":\"snow\",\"scene\":\"scene\",\"showlegend\":true,\"x\":[-0.27190912],\"y\":[-0.043930992],\"z\":[-0.079049565],\"type\":\"scatter3d\"},{\"hovertemplate\":\"color=beneath\\u003cbr\\u003e0=%{x}\\u003cbr\\u003e1=%{y}\\u003cbr\\u003e2=%{z}\\u003cextra\\u003e\\u003c\\u002fextra\\u003e\",\"legendgroup\":\"beneath\",\"marker\":{\"color\":\"#FF6692\",\"symbol\":\"circle\"},\"mode\":\"markers\",\"name\":\"beneath\",\"scene\":\"scene\",\"showlegend\":true,\"x\":[-0.7603676],\"y\":[-0.32883066],\"z\":[-0.12539595],\"type\":\"scatter3d\"},{\"hovertemplate\":\"color=across\\u003cbr\\u003e0=%{x}\\u003cbr\\u003e1=%{y}\\u003cbr\\u003e2=%{z}\\u003cextra\\u003e\\u003c\\u002fextra\\u003e\",\"legendgroup\":\"across\",\"marker\":{\"color\":\"#B6E880\",\"symbol\":\"circle\"},\"mode\":\"markers\",\"name\":\"across\",\"scene\":\"scene\",\"showlegend\":true,\"x\":[-0.6796045],\"y\":[-0.3089673],\"z\":[-0.06368988],\"type\":\"scatter3d\"},{\"hovertemplate\":\"color=knight\\u003cbr\\u003e0=%{x}\\u003cbr\\u003e1=%{y}\\u003cbr\\u003e2=%{z}\\u003cextra\\u003e\\u003c\\u002fextra\\u003e\",\"legendgroup\":\"knight\",\"marker\":{\"color\":\"#FF97FF\",\"symbol\":\"circle\"},\"mode\":\"markers\",\"name\":\"knight\",\"scene\":\"scene\",\"showlegend\":true,\"x\":[0.26141137],\"y\":[-0.4437077],\"z\":[0.5872217],\"type\":\"scatter3d\"},{\"hovertemplate\":\"color=keep\\u003cbr\\u003e0=%{x}\\u003cbr\\u003e1=%{y}\\u003cbr\\u003e2=%{z}\\u003cextra\\u003e\\u003c\\u002fextra\\u003e\",\"legendgroup\":\"keep\",\"marker\":{\"color\":\"#FECB52\",\"symbol\":\"circle\"},\"mode\":\"markers\",\"name\":\"keep\",\"scene\":\"scene\",\"showlegend\":true,\"x\":[0.059251092],\"y\":[-0.17641042],\"z\":[-0.35818997],\"type\":\"scatter3d\"},{\"hovertemplate\":\"color=grace\\u003cbr\\u003e0=%{x}\\u003cbr\\u003e1=%{y}\\u003cbr\\u003e2=%{z}\\u003cextra\\u003e\\u003c\\u002fextra\\u003e\",\"legendgroup\":\"grace\",\"marker\":{\"color\":\"#636efa\",\"symbol\":\"circle\"},\"mode\":\"markers\",\"name\":\"grace\",\"scene\":\"scene\",\"showlegend\":true,\"x\":[0.7132633],\"y\":[-0.21393338],\"z\":[0.20613188],\"type\":\"scatter3d\"},{\"hovertemplate\":\"color=found\\u003cbr\\u003e0=%{x}\\u003cbr\\u003e1=%{y}\\u003cbr\\u003e2=%{z}\\u003cextra\\u003e\\u003c\\u002fextra\\u003e\",\"legendgroup\":\"found\",\"marker\":{\"color\":\"#EF553B\",\"symbol\":\"circle\"},\"mode\":\"markers\",\"name\":\"found\",\"scene\":\"scene\",\"showlegend\":true,\"x\":[-0.29571334],\"y\":[-0.12195576],\"z\":[-0.19017413],\"type\":\"scatter3d\"},{\"hovertemplate\":\"color=gold\\u003cbr\\u003e0=%{x}\\u003cbr\\u003e1=%{y}\\u003cbr\\u003e2=%{z}\\u003cextra\\u003e\\u003c\\u002fextra\\u003e\",\"legendgroup\":\"gold\",\"marker\":{\"color\":\"#00cc96\",\"symbol\":\"circle\"},\"mode\":\"markers\",\"name\":\"gold\",\"scene\":\"scene\",\"showlegend\":true,\"x\":[-0.12824148],\"y\":[-0.44455358],\"z\":[0.18528265],\"type\":\"scatter3d\"},{\"hovertemplate\":\"color=last\\u003cbr\\u003e0=%{x}\\u003cbr\\u003e1=%{y}\\u003cbr\\u003e2=%{z}\\u003cextra\\u003e\\u003c\\u002fextra\\u003e\",\"legendgroup\":\"last\",\"marker\":{\"color\":\"#ab63fa\",\"symbol\":\"circle\"},\"mode\":\"markers\",\"name\":\"last\",\"scene\":\"scene\",\"showlegend\":true,\"x\":[0.08347752],\"y\":[-0.19606987],\"z\":[-0.13399109],\"type\":\"scatter3d\"},{\"hovertemplate\":\"color=cersei\\u003cbr\\u003e0=%{x}\\u003cbr\\u003e1=%{y}\\u003cbr\\u003e2=%{z}\\u003cextra\\u003e\\u003c\\u002fextra\\u003e\",\"legendgroup\":\"cersei\",\"marker\":{\"color\":\"#FFA15A\",\"symbol\":\"circle\"},\"mode\":\"markers\",\"name\":\"cersei\",\"scene\":\"scene\",\"showlegend\":true,\"x\":[0.37313196],\"y\":[0.069794],\"z\":[0.3262867],\"type\":\"scatter3d\"},{\"hovertemplate\":\"color=castle\\u003cbr\\u003e0=%{x}\\u003cbr\\u003e1=%{y}\\u003cbr\\u003e2=%{z}\\u003cextra\\u003e\\u003c\\u002fextra\\u003e\",\"legendgroup\":\"castle\",\"marker\":{\"color\":\"#19d3f3\",\"symbol\":\"circle\"},\"mode\":\"markers\",\"name\":\"castle\",\"scene\":\"scene\",\"showlegend\":true,\"x\":[0.05789458],\"y\":[-0.6699749],\"z\":[-0.27276656],\"type\":\"scatter3d\"},{\"hovertemplate\":\"color=stark\\u003cbr\\u003e0=%{x}\\u003cbr\\u003e1=%{y}\\u003cbr\\u003e2=%{z}\\u003cextra\\u003e\\u003c\\u002fextra\\u003e\",\"legendgroup\":\"stark\",\"marker\":{\"color\":\"#FF6692\",\"symbol\":\"circle\"},\"mode\":\"markers\",\"name\":\"stark\",\"scene\":\"scene\",\"showlegend\":true,\"x\":[0.35860035],\"y\":[-0.39950916],\"z\":[0.2672893],\"type\":\"scatter3d\"},{\"hovertemplate\":\"color=gods\\u003cbr\\u003e0=%{x}\\u003cbr\\u003e1=%{y}\\u003cbr\\u003e2=%{z}\\u003cextra\\u003e\\u003c\\u002fextra\\u003e\",\"legendgroup\":\"gods\",\"marker\":{\"color\":\"#B6E880\",\"symbol\":\"circle\"},\"mode\":\"markers\",\"name\":\"gods\",\"scene\":\"scene\",\"showlegend\":true,\"x\":[0.44129986],\"y\":[-0.121909015],\"z\":[-0.24306521],\"type\":\"scatter3d\"},{\"hovertemplate\":\"color=think\\u003cbr\\u003e0=%{x}\\u003cbr\\u003e1=%{y}\\u003cbr\\u003e2=%{z}\\u003cextra\\u003e\\u003c\\u002fextra\\u003e\",\"legendgroup\":\"think\",\"marker\":{\"color\":\"#FF97FF\",\"symbol\":\"circle\"},\"mode\":\"markers\",\"name\":\"think\",\"scene\":\"scene\",\"showlegend\":true,\"x\":[0.58331555],\"y\":[0.2853509],\"z\":[-0.26098117],\"type\":\"scatter3d\"},{\"hovertemplate\":\"color=hair\\u003cbr\\u003e0=%{x}\\u003cbr\\u003e1=%{y}\\u003cbr\\u003e2=%{z}\\u003cextra\\u003e\\u003c\\u002fextra\\u003e\",\"legendgroup\":\"hair\",\"marker\":{\"color\":\"#FECB52\",\"symbol\":\"circle\"},\"mode\":\"markers\",\"name\":\"hair\",\"scene\":\"scene\",\"showlegend\":true,\"x\":[-0.45716622],\"y\":[0.11926687],\"z\":[0.35278597],\"type\":\"scatter3d\"},{\"hovertemplate\":\"color=many\\u003cbr\\u003e0=%{x}\\u003cbr\\u003e1=%{y}\\u003cbr\\u003e2=%{z}\\u003cextra\\u003e\\u003c\\u002fextra\\u003e\",\"legendgroup\":\"many\",\"marker\":{\"color\":\"#636efa\",\"symbol\":\"circle\"},\"mode\":\"markers\",\"name\":\"many\",\"scene\":\"scene\",\"showlegend\":true,\"x\":[0.2342673],\"y\":[-0.54529774],\"z\":[-0.4743874],\"type\":\"scatter3d\"},{\"hovertemplate\":\"color=feet\\u003cbr\\u003e0=%{x}\\u003cbr\\u003e1=%{y}\\u003cbr\\u003e2=%{z}\\u003cextra\\u003e\\u003c\\u002fextra\\u003e\",\"legendgroup\":\"feet\",\"marker\":{\"color\":\"#EF553B\",\"symbol\":\"circle\"},\"mode\":\"markers\",\"name\":\"feet\",\"scene\":\"scene\",\"showlegend\":true,\"x\":[-0.5990288],\"y\":[-0.21548453],\"z\":[-0.021288775],\"type\":\"scatter3d\"},{\"hovertemplate\":\"color=hands\\u003cbr\\u003e0=%{x}\\u003cbr\\u003e1=%{y}\\u003cbr\\u003e2=%{z}\\u003cextra\\u003e\\u003c\\u002fextra\\u003e\",\"legendgroup\":\"hands\",\"marker\":{\"color\":\"#00cc96\",\"symbol\":\"circle\"},\"mode\":\"markers\",\"name\":\"hands\",\"scene\":\"scene\",\"showlegend\":true,\"x\":[-0.50048333],\"y\":[0.14962491],\"z\":[0.24204981],\"type\":\"scatter3d\"},{\"hovertemplate\":\"color=stannis\\u003cbr\\u003e0=%{x}\\u003cbr\\u003e1=%{y}\\u003cbr\\u003e2=%{z}\\u003cextra\\u003e\\u003c\\u002fextra\\u003e\",\"legendgroup\":\"stannis\",\"marker\":{\"color\":\"#ab63fa\",\"symbol\":\"circle\"},\"mode\":\"markers\",\"name\":\"stannis\",\"scene\":\"scene\",\"showlegend\":true,\"x\":[0.42965454],\"y\":[-0.5333718],\"z\":[0.04764293],\"type\":\"scatter3d\"},{\"hovertemplate\":\"color=mother\\u003cbr\\u003e0=%{x}\\u003cbr\\u003e1=%{y}\\u003cbr\\u003e2=%{z}\\u003cextra\\u003e\\u003c\\u002fextra\\u003e\",\"legendgroup\":\"mother\",\"marker\":{\"color\":\"#FFA15A\",\"symbol\":\"circle\"},\"mode\":\"markers\",\"name\":\"mother\",\"scene\":\"scene\",\"showlegend\":true,\"x\":[0.5080253],\"y\":[-0.18813851],\"z\":[0.14947388],\"type\":\"scatter3d\"},{\"hovertemplate\":\"color=catelyn\\u003cbr\\u003e0=%{x}\\u003cbr\\u003e1=%{y}\\u003cbr\\u003e2=%{z}\\u003cextra\\u003e\\u003c\\u002fextra\\u003e\",\"legendgroup\":\"catelyn\",\"marker\":{\"color\":\"#19d3f3\",\"symbol\":\"circle\"},\"mode\":\"markers\",\"name\":\"catelyn\",\"scene\":\"scene\",\"showlegend\":true,\"x\":[0.22305965],\"y\":[0.051296532],\"z\":[0.2795582],\"type\":\"scatter3d\"},{\"hovertemplate\":\"color=robert\\u003cbr\\u003e0=%{x}\\u003cbr\\u003e1=%{y}\\u003cbr\\u003e2=%{z}\\u003cextra\\u003e\\u003c\\u002fextra\\u003e\",\"legendgroup\":\"robert\",\"marker\":{\"color\":\"#FF6692\",\"symbol\":\"circle\"},\"mode\":\"markers\",\"name\":\"robert\",\"scene\":\"scene\",\"showlegend\":true,\"x\":[0.51382077],\"y\":[-0.39352816],\"z\":[0.22785425],\"type\":\"scatter3d\"},{\"hovertemplate\":\"color=seemed\\u003cbr\\u003e0=%{x}\\u003cbr\\u003e1=%{y}\\u003cbr\\u003e2=%{z}\\u003cextra\\u003e\\u003c\\u002fextra\\u003e\",\"legendgroup\":\"seemed\",\"marker\":{\"color\":\"#B6E880\",\"symbol\":\"circle\"},\"mode\":\"markers\",\"name\":\"seemed\",\"scene\":\"scene\",\"showlegend\":true,\"x\":[-0.13319589],\"y\":[0.17715809],\"z\":[-0.36548835],\"type\":\"scatter3d\"},{\"hovertemplate\":\"color=prince\\u003cbr\\u003e0=%{x}\\u003cbr\\u003e1=%{y}\\u003cbr\\u003e2=%{z}\\u003cextra\\u003e\\u003c\\u002fextra\\u003e\",\"legendgroup\":\"prince\",\"marker\":{\"color\":\"#FF97FF\",\"symbol\":\"circle\"},\"mode\":\"markers\",\"name\":\"prince\",\"scene\":\"scene\",\"showlegend\":true,\"x\":[0.51799154],\"y\":[-0.50359654],\"z\":[0.44621974],\"type\":\"scatter3d\"},{\"hovertemplate\":\"color=may\\u003cbr\\u003e0=%{x}\\u003cbr\\u003e1=%{y}\\u003cbr\\u003e2=%{z}\\u003cextra\\u003e\\u003c\\u002fextra\\u003e\",\"legendgroup\":\"may\",\"marker\":{\"color\":\"#FECB52\",\"symbol\":\"circle\"},\"mode\":\"markers\",\"name\":\"may\",\"scene\":\"scene\",\"showlegend\":true,\"x\":[0.714077],\"y\":[-0.10263929],\"z\":[-0.26399088],\"type\":\"scatter3d\"},{\"hovertemplate\":\"color=ever\\u003cbr\\u003e0=%{x}\\u003cbr\\u003e1=%{y}\\u003cbr\\u003e2=%{z}\\u003cextra\\u003e\\u003c\\u002fextra\\u003e\",\"legendgroup\":\"ever\",\"marker\":{\"color\":\"#636efa\",\"symbol\":\"circle\"},\"mode\":\"markers\",\"name\":\"ever\",\"scene\":\"scene\",\"showlegend\":true,\"x\":[0.41604912],\"y\":[0.11961493],\"z\":[-0.1987279],\"type\":\"scatter3d\"},{\"hovertemplate\":\"color=robb\\u003cbr\\u003e0=%{x}\\u003cbr\\u003e1=%{y}\\u003cbr\\u003e2=%{z}\\u003cextra\\u003e\\u003c\\u002fextra\\u003e\",\"legendgroup\":\"robb\",\"marker\":{\"color\":\"#EF553B\",\"symbol\":\"circle\"},\"mode\":\"markers\",\"name\":\"robb\",\"scene\":\"scene\",\"showlegend\":true,\"x\":[0.3735729],\"y\":[-0.22091553],\"z\":[0.22708419],\"type\":\"scatter3d\"},{\"hovertemplate\":\"color=done\\u003cbr\\u003e0=%{x}\\u003cbr\\u003e1=%{y}\\u003cbr\\u003e2=%{z}\\u003cextra\\u003e\\u003c\\u002fextra\\u003e\",\"legendgroup\":\"done\",\"marker\":{\"color\":\"#00cc96\",\"symbol\":\"circle\"},\"mode\":\"markers\",\"name\":\"done\",\"scene\":\"scene\",\"showlegend\":true,\"x\":[0.61644864],\"y\":[0.09289542],\"z\":[-0.20940241],\"type\":\"scatter3d\"},{\"hovertemplate\":\"color=find\\u003cbr\\u003e0=%{x}\\u003cbr\\u003e1=%{y}\\u003cbr\\u003e2=%{z}\\u003cextra\\u003e\\u003c\\u002fextra\\u003e\",\"legendgroup\":\"find\",\"marker\":{\"color\":\"#ab63fa\",\"symbol\":\"circle\"},\"mode\":\"markers\",\"name\":\"find\",\"scene\":\"scene\",\"showlegend\":true,\"x\":[0.41288212],\"y\":[0.054827183],\"z\":[-0.41739315],\"type\":\"scatter3d\"},{\"hovertemplate\":\"color=lannister\\u003cbr\\u003e0=%{x}\\u003cbr\\u003e1=%{y}\\u003cbr\\u003e2=%{z}\\u003cextra\\u003e\\u003c\\u002fextra\\u003e\",\"legendgroup\":\"lannister\",\"marker\":{\"color\":\"#FFA15A\",\"symbol\":\"circle\"},\"mode\":\"markers\",\"name\":\"lannister\",\"scene\":\"scene\",\"showlegend\":true,\"x\":[0.3039412],\"y\":[-0.51506567],\"z\":[0.38412276],\"type\":\"scatter3d\"},{\"hovertemplate\":\"color=hear\\u003cbr\\u003e0=%{x}\\u003cbr\\u003e1=%{y}\\u003cbr\\u003e2=%{z}\\u003cextra\\u003e\\u003c\\u002fextra\\u003e\",\"legendgroup\":\"hear\",\"marker\":{\"color\":\"#19d3f3\",\"symbol\":\"circle\"},\"mode\":\"markers\",\"name\":\"hear\",\"scene\":\"scene\",\"showlegend\":true,\"x\":[0.08769343],\"y\":[0.24698594],\"z\":[-0.27328697],\"type\":\"scatter3d\"},{\"hovertemplate\":\"color=name\\u003cbr\\u003e0=%{x}\\u003cbr\\u003e1=%{y}\\u003cbr\\u003e2=%{z}\\u003cextra\\u003e\\u003c\\u002fextra\\u003e\",\"legendgroup\":\"name\",\"marker\":{\"color\":\"#FF6692\",\"symbol\":\"circle\"},\"mode\":\"markers\",\"name\":\"name\",\"scene\":\"scene\",\"showlegend\":true,\"x\":[0.6087605],\"y\":[-0.2171687],\"z\":[0.20349413],\"type\":\"scatter3d\"},{\"hovertemplate\":\"color=grey\\u003cbr\\u003e0=%{x}\\u003cbr\\u003e1=%{y}\\u003cbr\\u003e2=%{z}\\u003cextra\\u003e\\u003c\\u002fextra\\u003e\",\"legendgroup\":\"grey\",\"marker\":{\"color\":\"#B6E880\",\"symbol\":\"circle\"},\"mode\":\"markers\",\"name\":\"grey\",\"scene\":\"scene\",\"showlegend\":true,\"x\":[-0.5246678],\"y\":[-0.3261737],\"z\":[0.12797078],\"type\":\"scatter3d\"},{\"hovertemplate\":\"color=horse\\u003cbr\\u003e0=%{x}\\u003cbr\\u003e1=%{y}\\u003cbr\\u003e2=%{z}\\u003cextra\\u003e\\u003c\\u002fextra\\u003e\",\"legendgroup\":\"horse\",\"marker\":{\"color\":\"#FF97FF\",\"symbol\":\"circle\"},\"mode\":\"markers\",\"name\":\"horse\",\"scene\":\"scene\",\"showlegend\":true,\"x\":[-0.43163386],\"y\":[-0.091056205],\"z\":[-0.053272262],\"type\":\"scatter3d\"},{\"hovertemplate\":\"color=high\\u003cbr\\u003e0=%{x}\\u003cbr\\u003e1=%{y}\\u003cbr\\u003e2=%{z}\\u003cextra\\u003e\\u003c\\u002fextra\\u003e\",\"legendgroup\":\"high\",\"marker\":{\"color\":\"#FECB52\",\"symbol\":\"circle\"},\"mode\":\"markers\",\"name\":\"high\",\"scene\":\"scene\",\"showlegend\":true,\"x\":[-0.19534118],\"y\":[-0.69436556],\"z\":[0.017342579],\"type\":\"scatter3d\"},{\"hovertemplate\":\"color=put\\u003cbr\\u003e0=%{x}\\u003cbr\\u003e1=%{y}\\u003cbr\\u003e2=%{z}\\u003cextra\\u003e\\u003c\\u002fextra\\u003e\",\"legendgroup\":\"put\",\"marker\":{\"color\":\"#636efa\",\"symbol\":\"circle\"},\"mode\":\"markers\",\"name\":\"put\",\"scene\":\"scene\",\"showlegend\":true,\"x\":[0.15166794],\"y\":[-0.093240984],\"z\":[0.08501464],\"type\":\"scatter3d\"},{\"hovertemplate\":\"color=wine\\u003cbr\\u003e0=%{x}\\u003cbr\\u003e1=%{y}\\u003cbr\\u003e2=%{z}\\u003cextra\\u003e\\u003c\\u002fextra\\u003e\",\"legendgroup\":\"wine\",\"marker\":{\"color\":\"#EF553B\",\"symbol\":\"circle\"},\"mode\":\"markers\",\"name\":\"wine\",\"scene\":\"scene\",\"showlegend\":true,\"x\":[-0.12597518],\"y\":[0.24295175],\"z\":[0.21925548],\"type\":\"scatter3d\"},{\"hovertemplate\":\"color=stone\\u003cbr\\u003e0=%{x}\\u003cbr\\u003e1=%{y}\\u003cbr\\u003e2=%{z}\\u003cextra\\u003e\\u003c\\u002fextra\\u003e\",\"legendgroup\":\"stone\",\"marker\":{\"color\":\"#00cc96\",\"symbol\":\"circle\"},\"mode\":\"markers\",\"name\":\"stone\",\"scene\":\"scene\",\"showlegend\":true,\"x\":[-0.64401555],\"y\":[-0.4319597],\"z\":[-0.22531247],\"type\":\"scatter3d\"},{\"hovertemplate\":\"color=hard\\u003cbr\\u003e0=%{x}\\u003cbr\\u003e1=%{y}\\u003cbr\\u003e2=%{z}\\u003cextra\\u003e\\u003c\\u002fextra\\u003e\",\"legendgroup\":\"hard\",\"marker\":{\"color\":\"#ab63fa\",\"symbol\":\"circle\"},\"mode\":\"markers\",\"name\":\"hard\",\"scene\":\"scene\",\"showlegend\":true,\"x\":[-0.48434386],\"y\":[0.35819253],\"z\":[-0.17822611],\"type\":\"scatter3d\"},{\"hovertemplate\":\"color=water\\u003cbr\\u003e0=%{x}\\u003cbr\\u003e1=%{y}\\u003cbr\\u003e2=%{z}\\u003cextra\\u003e\\u003c\\u002fextra\\u003e\",\"legendgroup\":\"water\",\"marker\":{\"color\":\"#FFA15A\",\"symbol\":\"circle\"},\"mode\":\"markers\",\"name\":\"water\",\"scene\":\"scene\",\"showlegend\":true,\"x\":[-0.6013286],\"y\":[0.18432581],\"z\":[-0.33739346],\"type\":\"scatter3d\"},{\"hovertemplate\":\"color=fire\\u003cbr\\u003e0=%{x}\\u003cbr\\u003e1=%{y}\\u003cbr\\u003e2=%{z}\\u003cextra\\u003e\\u003c\\u002fextra\\u003e\",\"legendgroup\":\"fire\",\"marker\":{\"color\":\"#19d3f3\",\"symbol\":\"circle\"},\"mode\":\"markers\",\"name\":\"fire\",\"scene\":\"scene\",\"showlegend\":true,\"x\":[-0.5410785],\"y\":[0.04705906],\"z\":[-0.42586008],\"type\":\"scatter3d\"},{\"hovertemplate\":\"color=upon\\u003cbr\\u003e0=%{x}\\u003cbr\\u003e1=%{y}\\u003cbr\\u003e2=%{z}\\u003cextra\\u003e\\u003c\\u002fextra\\u003e\",\"legendgroup\":\"upon\",\"marker\":{\"color\":\"#FF6692\",\"symbol\":\"circle\"},\"mode\":\"markers\",\"name\":\"upon\",\"scene\":\"scene\",\"showlegend\":true,\"x\":[-0.34365577],\"y\":[-0.4903797],\"z\":[-0.090744294],\"type\":\"scatter3d\"},{\"hovertemplate\":\"color=iron\\u003cbr\\u003e0=%{x}\\u003cbr\\u003e1=%{y}\\u003cbr\\u003e2=%{z}\\u003cextra\\u003e\\u003c\\u002fextra\\u003e\",\"legendgroup\":\"iron\",\"marker\":{\"color\":\"#B6E880\",\"symbol\":\"circle\"},\"mode\":\"markers\",\"name\":\"iron\",\"scene\":\"scene\",\"showlegend\":true,\"x\":[-0.23895742],\"y\":[-0.68787885],\"z\":[0.07797027],\"type\":\"scatter3d\"},{\"hovertemplate\":\"color=voice\\u003cbr\\u003e0=%{x}\\u003cbr\\u003e1=%{y}\\u003cbr\\u003e2=%{z}\\u003cextra\\u003e\\u003c\\u002fextra\\u003e\",\"legendgroup\":\"voice\",\"marker\":{\"color\":\"#FF97FF\",\"symbol\":\"circle\"},\"mode\":\"markers\",\"name\":\"voice\",\"scene\":\"scene\",\"showlegend\":true,\"x\":[0.0015239529],\"y\":[0.35055563],\"z\":[0.31198078],\"type\":\"scatter3d\"},{\"hovertemplate\":\"color=gone\\u003cbr\\u003e0=%{x}\\u003cbr\\u003e1=%{y}\\u003cbr\\u003e2=%{z}\\u003cextra\\u003e\\u003c\\u002fextra\\u003e\",\"legendgroup\":\"gone\",\"marker\":{\"color\":\"#FECB52\",\"symbol\":\"circle\"},\"mode\":\"markers\",\"name\":\"gone\",\"scene\":\"scene\",\"showlegend\":true,\"x\":[0.01785026],\"y\":[0.02346833],\"z\":[-0.38897836],\"type\":\"scatter3d\"},{\"hovertemplate\":\"color=give\\u003cbr\\u003e0=%{x}\\u003cbr\\u003e1=%{y}\\u003cbr\\u003e2=%{z}\\u003cextra\\u003e\\u003c\\u002fextra\\u003e\",\"legendgroup\":\"give\",\"marker\":{\"color\":\"#636efa\",\"symbol\":\"circle\"},\"mode\":\"markers\",\"name\":\"give\",\"scene\":\"scene\",\"showlegend\":true,\"x\":[0.62718755],\"y\":[-0.029426739],\"z\":[-0.13982376],\"type\":\"scatter3d\"},{\"hovertemplate\":\"color=sam\\u003cbr\\u003e0=%{x}\\u003cbr\\u003e1=%{y}\\u003cbr\\u003e2=%{z}\\u003cextra\\u003e\\u003c\\u002fextra\\u003e\",\"legendgroup\":\"sam\",\"marker\":{\"color\":\"#EF553B\",\"symbol\":\"circle\"},\"mode\":\"markers\",\"name\":\"sam\",\"scene\":\"scene\",\"showlegend\":true,\"x\":[-0.05003482],\"y\":[0.43119934],\"z\":[-0.033676907],\"type\":\"scatter3d\"},{\"hovertemplate\":\"color=seen\\u003cbr\\u003e0=%{x}\\u003cbr\\u003e1=%{y}\\u003cbr\\u003e2=%{z}\\u003cextra\\u003e\\u003c\\u002fextra\\u003e\",\"legendgroup\":\"seen\",\"marker\":{\"color\":\"#00cc96\",\"symbol\":\"circle\"},\"mode\":\"markers\",\"name\":\"seen\",\"scene\":\"scene\",\"showlegend\":true,\"x\":[0.0090795355],\"y\":[-0.20197617],\"z\":[-0.31363302],\"type\":\"scatter3d\"},{\"hovertemplate\":\"color=better\\u003cbr\\u003e0=%{x}\\u003cbr\\u003e1=%{y}\\u003cbr\\u003e2=%{z}\\u003cextra\\u003e\\u003c\\u002fextra\\u003e\",\"legendgroup\":\"better\",\"marker\":{\"color\":\"#ab63fa\",\"symbol\":\"circle\"},\"mode\":\"markers\",\"name\":\"better\",\"scene\":\"scene\",\"showlegend\":true,\"x\":[0.59008455],\"y\":[0.16933152],\"z\":[-0.2612653],\"type\":\"scatter3d\"},{\"hovertemplate\":\"color=shall\\u003cbr\\u003e0=%{x}\\u003cbr\\u003e1=%{y}\\u003cbr\\u003e2=%{z}\\u003cextra\\u003e\\u003c\\u002fextra\\u003e\",\"legendgroup\":\"shall\",\"marker\":{\"color\":\"#FFA15A\",\"symbol\":\"circle\"},\"mode\":\"markers\",\"name\":\"shall\",\"scene\":\"scene\",\"showlegend\":true,\"x\":[0.61135113],\"y\":[-0.324574],\"z\":[-0.17608371],\"type\":\"scatter3d\"},{\"hovertemplate\":\"color=ned\\u003cbr\\u003e0=%{x}\\u003cbr\\u003e1=%{y}\\u003cbr\\u003e2=%{z}\\u003cextra\\u003e\\u003c\\u002fextra\\u003e\",\"legendgroup\":\"ned\",\"marker\":{\"color\":\"#19d3f3\",\"symbol\":\"circle\"},\"mode\":\"markers\",\"name\":\"ned\",\"scene\":\"scene\",\"showlegend\":true,\"x\":[0.27479637],\"y\":[0.07609013],\"z\":[0.30672744],\"type\":\"scatter3d\"},{\"hovertemplate\":\"color=always\\u003cbr\\u003e0=%{x}\\u003cbr\\u003e1=%{y}\\u003cbr\\u003e2=%{z}\\u003cextra\\u003e\\u003c\\u002fextra\\u003e\",\"legendgroup\":\"always\",\"marker\":{\"color\":\"#FF6692\",\"symbol\":\"circle\"},\"mode\":\"markers\",\"name\":\"always\",\"scene\":\"scene\",\"showlegend\":true,\"x\":[0.5545148],\"y\":[0.18779865],\"z\":[-0.1341202],\"type\":\"scatter3d\"},{\"hovertemplate\":\"color=years\\u003cbr\\u003e0=%{x}\\u003cbr\\u003e1=%{y}\\u003cbr\\u003e2=%{z}\\u003cextra\\u003e\\u003c\\u002fextra\\u003e\",\"legendgroup\":\"years\",\"marker\":{\"color\":\"#B6E880\",\"symbol\":\"circle\"},\"mode\":\"markers\",\"name\":\"years\",\"scene\":\"scene\",\"showlegend\":true,\"x\":[0.27763575],\"y\":[-0.63438815],\"z\":[-0.11580125],\"type\":\"scatter3d\"},{\"hovertemplate\":\"color=dark\\u003cbr\\u003e0=%{x}\\u003cbr\\u003e1=%{y}\\u003cbr\\u003e2=%{z}\\u003cextra\\u003e\\u003c\\u002fextra\\u003e\",\"legendgroup\":\"dark\",\"marker\":{\"color\":\"#FF97FF\",\"symbol\":\"circle\"},\"mode\":\"markers\",\"name\":\"dark\",\"scene\":\"scene\",\"showlegend\":true,\"x\":[-0.58444643],\"y\":[0.0132985115],\"z\":[-0.14395356],\"type\":\"scatter3d\"},{\"hovertemplate\":\"color=place\\u003cbr\\u003e0=%{x}\\u003cbr\\u003e1=%{y}\\u003cbr\\u003e2=%{z}\\u003cextra\\u003e\\u003c\\u002fextra\\u003e\",\"legendgroup\":\"place\",\"marker\":{\"color\":\"#FECB52\",\"symbol\":\"circle\"},\"mode\":\"markers\",\"name\":\"place\",\"scene\":\"scene\",\"showlegend\":true,\"x\":[0.32872766],\"y\":[-0.35023028],\"z\":[-0.3933552],\"type\":\"scatter3d\"},{\"hovertemplate\":\"color=small\\u003cbr\\u003e0=%{x}\\u003cbr\\u003e1=%{y}\\u003cbr\\u003e2=%{z}\\u003cextra\\u003e\\u003c\\u002fextra\\u003e\",\"legendgroup\":\"small\",\"marker\":{\"color\":\"#636efa\",\"symbol\":\"circle\"},\"mode\":\"markers\",\"name\":\"small\",\"scene\":\"scene\",\"showlegend\":true,\"x\":[-0.32462767],\"y\":[-0.31976408],\"z\":[-0.11613817],\"type\":\"scatter3d\"},{\"hovertemplate\":\"color=cold\\u003cbr\\u003e0=%{x}\\u003cbr\\u003e1=%{y}\\u003cbr\\u003e2=%{z}\\u003cextra\\u003e\\u003c\\u002fextra\\u003e\",\"legendgroup\":\"cold\",\"marker\":{\"color\":\"#EF553B\",\"symbol\":\"circle\"},\"mode\":\"markers\",\"name\":\"cold\",\"scene\":\"scene\",\"showlegend\":true,\"x\":[-0.4414612],\"y\":[0.26308146],\"z\":[-0.39807278],\"type\":\"scatter3d\"},{\"hovertemplate\":\"color=winterfell\\u003cbr\\u003e0=%{x}\\u003cbr\\u003e1=%{y}\\u003cbr\\u003e2=%{z}\\u003cextra\\u003e\\u003c\\u002fextra\\u003e\",\"legendgroup\":\"winterfell\",\"marker\":{\"color\":\"#00cc96\",\"symbol\":\"circle\"},\"mode\":\"markers\",\"name\":\"winterfell\",\"scene\":\"scene\",\"showlegend\":true,\"x\":[0.3249379],\"y\":[-0.49812004],\"z\":[-0.13008791],\"type\":\"scatter3d\"},{\"hovertemplate\":\"color=hundred\\u003cbr\\u003e0=%{x}\\u003cbr\\u003e1=%{y}\\u003cbr\\u003e2=%{z}\\u003cextra\\u003e\\u003c\\u002fextra\\u003e\",\"legendgroup\":\"hundred\",\"marker\":{\"color\":\"#ab63fa\",\"symbol\":\"circle\"},\"mode\":\"markers\",\"name\":\"hundred\",\"scene\":\"scene\",\"showlegend\":true,\"x\":[-0.0690851],\"y\":[-0.7063549],\"z\":[-0.35061464],\"type\":\"scatter3d\"},{\"hovertemplate\":\"color=stood\\u003cbr\\u003e0=%{x}\\u003cbr\\u003e1=%{y}\\u003cbr\\u003e2=%{z}\\u003cextra\\u003e\\u003c\\u002fextra\\u003e\",\"legendgroup\":\"stood\",\"marker\":{\"color\":\"#FFA15A\",\"symbol\":\"circle\"},\"mode\":\"markers\",\"name\":\"stood\",\"scene\":\"scene\",\"showlegend\":true,\"x\":[-0.43794316],\"y\":[-0.6566077],\"z\":[0.19673193],\"type\":\"scatter3d\"},{\"hovertemplate\":\"color=end\\u003cbr\\u003e0=%{x}\\u003cbr\\u003e1=%{y}\\u003cbr\\u003e2=%{z}\\u003cextra\\u003e\\u003c\\u002fextra\\u003e\",\"legendgroup\":\"end\",\"marker\":{\"color\":\"#19d3f3\",\"symbol\":\"circle\"},\"mode\":\"markers\",\"name\":\"end\",\"scene\":\"scene\",\"showlegend\":true,\"x\":[0.10433648],\"y\":[-0.5908779],\"z\":[-0.22301573],\"type\":\"scatter3d\"},{\"hovertemplate\":\"color=sister\\u003cbr\\u003e0=%{x}\\u003cbr\\u003e1=%{y}\\u003cbr\\u003e2=%{z}\\u003cextra\\u003e\\u003c\\u002fextra\\u003e\",\"legendgroup\":\"sister\",\"marker\":{\"color\":\"#FF6692\",\"symbol\":\"circle\"},\"mode\":\"markers\",\"name\":\"sister\",\"scene\":\"scene\",\"showlegend\":true,\"x\":[0.6354571],\"y\":[-0.101799205],\"z\":[0.36703992],\"type\":\"scatter3d\"},{\"hovertemplate\":\"color=words\\u003cbr\\u003e0=%{x}\\u003cbr\\u003e1=%{y}\\u003cbr\\u003e2=%{z}\\u003cextra\\u003e\\u003c\\u002fextra\\u003e\",\"legendgroup\":\"words\",\"marker\":{\"color\":\"#B6E880\",\"symbol\":\"circle\"},\"mode\":\"markers\",\"name\":\"words\",\"scene\":\"scene\",\"showlegend\":true,\"x\":[0.33313003],\"y\":[0.49786052],\"z\":[0.013470713],\"type\":\"scatter3d\"},{\"hovertemplate\":\"color=sea\\u003cbr\\u003e0=%{x}\\u003cbr\\u003e1=%{y}\\u003cbr\\u003e2=%{z}\\u003cextra\\u003e\\u003c\\u002fextra\\u003e\",\"legendgroup\":\"sea\",\"marker\":{\"color\":\"#FF97FF\",\"symbol\":\"circle\"},\"mode\":\"markers\",\"name\":\"sea\",\"scene\":\"scene\",\"showlegend\":true,\"x\":[-0.14863877],\"y\":[-0.5941415],\"z\":[-0.4824922],\"type\":\"scatter3d\"},{\"hovertemplate\":\"color=right\\u003cbr\\u003e0=%{x}\\u003cbr\\u003e1=%{y}\\u003cbr\\u003e2=%{z}\\u003cextra\\u003e\\u003c\\u002fextra\\u003e\",\"legendgroup\":\"right\",\"marker\":{\"color\":\"#FECB52\",\"symbol\":\"circle\"},\"mode\":\"markers\",\"name\":\"right\",\"scene\":\"scene\",\"showlegend\":true,\"x\":[-0.1701602],\"y\":[0.040090695],\"z\":[0.17510954],\"type\":\"scatter3d\"},{\"hovertemplate\":\"color=nothing\\u003cbr\\u003e0=%{x}\\u003cbr\\u003e1=%{y}\\u003cbr\\u003e2=%{z}\\u003cextra\\u003e\\u003c\\u002fextra\\u003e\",\"legendgroup\":\"nothing\",\"marker\":{\"color\":\"#636efa\",\"symbol\":\"circle\"},\"mode\":\"markers\",\"name\":\"nothing\",\"scene\":\"scene\",\"showlegend\":true,\"x\":[0.25807846],\"y\":[0.40623596],\"z\":[-0.3833682],\"type\":\"scatter3d\"},{\"hovertemplate\":\"color=walls\\u003cbr\\u003e0=%{x}\\u003cbr\\u003e1=%{y}\\u003cbr\\u003e2=%{z}\\u003cextra\\u003e\\u003c\\u002fextra\\u003e\",\"legendgroup\":\"walls\",\"marker\":{\"color\":\"#EF553B\",\"symbol\":\"circle\"},\"mode\":\"markers\",\"name\":\"walls\",\"scene\":\"scene\",\"showlegend\":true,\"x\":[-0.45286864],\"y\":[-0.553728],\"z\":[-0.43807828],\"type\":\"scatter3d\"},{\"hovertemplate\":\"color=fingers\\u003cbr\\u003e0=%{x}\\u003cbr\\u003e1=%{y}\\u003cbr\\u003e2=%{z}\\u003cextra\\u003e\\u003c\\u002fextra\\u003e\",\"legendgroup\":\"fingers\",\"marker\":{\"color\":\"#00cc96\",\"symbol\":\"circle\"},\"mode\":\"markers\",\"name\":\"fingers\",\"scene\":\"scene\",\"showlegend\":true,\"x\":[-0.6457019],\"y\":[0.18207797],\"z\":[0.20290792],\"type\":\"scatter3d\"},{\"hovertemplate\":\"color=cloak\\u003cbr\\u003e0=%{x}\\u003cbr\\u003e1=%{y}\\u003cbr\\u003e2=%{z}\\u003cextra\\u003e\\u003c\\u002fextra\\u003e\",\"legendgroup\":\"cloak\",\"marker\":{\"color\":\"#ab63fa\",\"symbol\":\"circle\"},\"mode\":\"markers\",\"name\":\"cloak\",\"scene\":\"scene\",\"showlegend\":true,\"x\":[-0.53798956],\"y\":[-0.24650219],\"z\":[0.50777876],\"type\":\"scatter3d\"},{\"hovertemplate\":\"color=house\\u003cbr\\u003e0=%{x}\\u003cbr\\u003e1=%{y}\\u003cbr\\u003e2=%{z}\\u003cextra\\u003e\\u003c\\u002fextra\\u003e\",\"legendgroup\":\"house\",\"marker\":{\"color\":\"#FFA15A\",\"symbol\":\"circle\"},\"mode\":\"markers\",\"name\":\"house\",\"scene\":\"scene\",\"showlegend\":true,\"x\":[0.21805201],\"y\":[-0.77258646],\"z\":[0.40606064],\"type\":\"scatter3d\"},{\"hovertemplate\":\"color=young\\u003cbr\\u003e0=%{x}\\u003cbr\\u003e1=%{y}\\u003cbr\\u003e2=%{z}\\u003cextra\\u003e\\u003c\\u002fextra\\u003e\",\"legendgroup\":\"young\",\"marker\":{\"color\":\"#19d3f3\",\"symbol\":\"circle\"},\"mode\":\"markers\",\"name\":\"young\",\"scene\":\"scene\",\"showlegend\":true,\"x\":[0.41923717],\"y\":[-0.4387777],\"z\":[0.41540647],\"type\":\"scatter3d\"},{\"hovertemplate\":\"color=beside\\u003cbr\\u003e0=%{x}\\u003cbr\\u003e1=%{y}\\u003cbr\\u003e2=%{z}\\u003cextra\\u003e\\u003c\\u002fextra\\u003e\",\"legendgroup\":\"beside\",\"marker\":{\"color\":\"#FF6692\",\"symbol\":\"circle\"},\"mode\":\"markers\",\"name\":\"beside\",\"scene\":\"scene\",\"showlegend\":true,\"x\":[-0.47447765],\"y\":[-0.46545365],\"z\":[0.26281038],\"type\":\"scatter3d\"},{\"hovertemplate\":\"color=get\\u003cbr\\u003e0=%{x}\\u003cbr\\u003e1=%{y}\\u003cbr\\u003e2=%{z}\\u003cextra\\u003e\\u003c\\u002fextra\\u003e\",\"legendgroup\":\"get\",\"marker\":{\"color\":\"#B6E880\",\"symbol\":\"circle\"},\"mode\":\"markers\",\"name\":\"get\",\"scene\":\"scene\",\"showlegend\":true,\"x\":[0.12969264],\"y\":[0.3323951],\"z\":[-0.37119964],\"type\":\"scatter3d\"},{\"hovertemplate\":\"color=seven\\u003cbr\\u003e0=%{x}\\u003cbr\\u003e1=%{y}\\u003cbr\\u003e2=%{z}\\u003cextra\\u003e\\u003c\\u002fextra\\u003e\",\"legendgroup\":\"seven\",\"marker\":{\"color\":\"#FF97FF\",\"symbol\":\"circle\"},\"mode\":\"markers\",\"name\":\"seven\",\"scene\":\"scene\",\"showlegend\":true,\"x\":[0.25404724],\"y\":[-0.67481476],\"z\":[-0.18662608],\"type\":\"scatter3d\"},{\"hovertemplate\":\"color=mouth\\u003cbr\\u003e0=%{x}\\u003cbr\\u003e1=%{y}\\u003cbr\\u003e2=%{z}\\u003cextra\\u003e\\u003c\\u002fextra\\u003e\",\"legendgroup\":\"mouth\",\"marker\":{\"color\":\"#FECB52\",\"symbol\":\"circle\"},\"mode\":\"markers\",\"name\":\"mouth\",\"scene\":\"scene\",\"showlegend\":true,\"x\":[-0.455386],\"y\":[0.49482748],\"z\":[0.28510317],\"type\":\"scatter3d\"},{\"hovertemplate\":\"color=watch\\u003cbr\\u003e0=%{x}\\u003cbr\\u003e1=%{y}\\u003cbr\\u003e2=%{z}\\u003cextra\\u003e\\u003c\\u002fextra\\u003e\",\"legendgroup\":\"watch\",\"marker\":{\"color\":\"#636efa\",\"symbol\":\"circle\"},\"mode\":\"markers\",\"name\":\"watch\",\"scene\":\"scene\",\"showlegend\":true,\"x\":[0.23056118],\"y\":[-0.44614708],\"z\":[-0.15745792],\"type\":\"scatter3d\"},{\"hovertemplate\":\"color=door\\u003cbr\\u003e0=%{x}\\u003cbr\\u003e1=%{y}\\u003cbr\\u003e2=%{z}\\u003cextra\\u003e\\u003c\\u002fextra\\u003e\",\"legendgroup\":\"door\",\"marker\":{\"color\":\"#EF553B\",\"symbol\":\"circle\"},\"mode\":\"markers\",\"name\":\"door\",\"scene\":\"scene\",\"showlegend\":true,\"x\":[-0.49284706],\"y\":[-0.11556947],\"z\":[0.118496574],\"type\":\"scatter3d\"},{\"hovertemplate\":\"color=joffrey\\u003cbr\\u003e0=%{x}\\u003cbr\\u003e1=%{y}\\u003cbr\\u003e2=%{z}\\u003cextra\\u003e\\u003c\\u002fextra\\u003e\",\"legendgroup\":\"joffrey\",\"marker\":{\"color\":\"#00cc96\",\"symbol\":\"circle\"},\"mode\":\"markers\",\"name\":\"joffrey\",\"scene\":\"scene\",\"showlegend\":true,\"x\":[0.47876135],\"y\":[-0.14010438],\"z\":[0.32908937],\"type\":\"scatter3d\"},{\"hovertemplate\":\"color=green\\u003cbr\\u003e0=%{x}\\u003cbr\\u003e1=%{y}\\u003cbr\\u003e2=%{z}\\u003cextra\\u003e\\u003c\\u002fextra\\u003e\",\"legendgroup\":\"green\",\"marker\":{\"color\":\"#ab63fa\",\"symbol\":\"circle\"},\"mode\":\"markers\",\"name\":\"green\",\"scene\":\"scene\",\"showlegend\":true,\"x\":[-0.51032627],\"y\":[-0.36961275],\"z\":[0.1674211],\"type\":\"scatter3d\"},{\"hovertemplate\":\"color=big\\u003cbr\\u003e0=%{x}\\u003cbr\\u003e1=%{y}\\u003cbr\\u003e2=%{z}\\u003cextra\\u003e\\u003c\\u002fextra\\u003e\",\"legendgroup\":\"big\",\"marker\":{\"color\":\"#FFA15A\",\"symbol\":\"circle\"},\"mode\":\"markers\",\"name\":\"big\",\"scene\":\"scene\",\"showlegend\":true,\"x\":[-0.37566638],\"y\":[-0.041243598],\"z\":[0.24397922],\"type\":\"scatter3d\"},{\"hovertemplate\":\"color=sent\\u003cbr\\u003e0=%{x}\\u003cbr\\u003e1=%{y}\\u003cbr\\u003e2=%{z}\\u003cextra\\u003e\\u003c\\u002fextra\\u003e\",\"legendgroup\":\"sent\",\"marker\":{\"color\":\"#19d3f3\",\"symbol\":\"circle\"},\"mode\":\"markers\",\"name\":\"sent\",\"scene\":\"scene\",\"showlegend\":true,\"x\":[0.2714301],\"y\":[-0.47364667],\"z\":[-0.09212872],\"type\":\"scatter3d\"},{\"hovertemplate\":\"color=perhaps\\u003cbr\\u003e0=%{x}\\u003cbr\\u003e1=%{y}\\u003cbr\\u003e2=%{z}\\u003cextra\\u003e\\u003c\\u002fextra\\u003e\",\"legendgroup\":\"perhaps\",\"marker\":{\"color\":\"#FF6692\",\"symbol\":\"circle\"},\"mode\":\"markers\",\"name\":\"perhaps\",\"scene\":\"scene\",\"showlegend\":true,\"x\":[0.7037772],\"y\":[0.06601983],\"z\":[-0.3018386],\"type\":\"scatter3d\"},{\"hovertemplate\":\"color=almost\\u003cbr\\u003e0=%{x}\\u003cbr\\u003e1=%{y}\\u003cbr\\u003e2=%{z}\\u003cextra\\u003e\\u003c\\u002fextra\\u003e\",\"legendgroup\":\"almost\",\"marker\":{\"color\":\"#B6E880\",\"symbol\":\"circle\"},\"mode\":\"markers\",\"name\":\"almost\",\"scene\":\"scene\",\"showlegend\":true,\"x\":[-0.32597],\"y\":[0.37705252],\"z\":[-0.12064419],\"type\":\"scatter3d\"},{\"hovertemplate\":\"color=wanted\\u003cbr\\u003e0=%{x}\\u003cbr\\u003e1=%{y}\\u003cbr\\u003e2=%{z}\\u003cextra\\u003e\\u003c\\u002fextra\\u003e\",\"legendgroup\":\"wanted\",\"marker\":{\"color\":\"#FF97FF\",\"symbol\":\"circle\"},\"mode\":\"markers\",\"name\":\"wanted\",\"scene\":\"scene\",\"showlegend\":true,\"x\":[0.50322515],\"y\":[0.38427463],\"z\":[-0.24221697],\"type\":\"scatter3d\"},{\"hovertemplate\":\"color=daughter\\u003cbr\\u003e0=%{x}\\u003cbr\\u003e1=%{y}\\u003cbr\\u003e2=%{z}\\u003cextra\\u003e\\u003c\\u002fextra\\u003e\",\"legendgroup\":\"daughter\",\"marker\":{\"color\":\"#FECB52\",\"symbol\":\"circle\"},\"mode\":\"markers\",\"name\":\"daughter\",\"scene\":\"scene\",\"showlegend\":true,\"x\":[0.4624899],\"y\":[-0.56907195],\"z\":[0.5756042],\"type\":\"scatter3d\"},{\"hovertemplate\":\"color=true\\u003cbr\\u003e0=%{x}\\u003cbr\\u003e1=%{y}\\u003cbr\\u003e2=%{z}\\u003cextra\\u003e\\u003c\\u002fextra\\u003e\",\"legendgroup\":\"true\",\"marker\":{\"color\":\"#636efa\",\"symbol\":\"circle\"},\"mode\":\"markers\",\"name\":\"true\",\"scene\":\"scene\",\"showlegend\":true,\"x\":[0.72808474],\"y\":[-0.104047485],\"z\":[-0.06437061],\"type\":\"scatter3d\"},{\"hovertemplate\":\"color=leave\\u003cbr\\u003e0=%{x}\\u003cbr\\u003e1=%{y}\\u003cbr\\u003e2=%{z}\\u003cextra\\u003e\\u003c\\u002fextra\\u003e\",\"legendgroup\":\"leave\",\"marker\":{\"color\":\"#EF553B\",\"symbol\":\"circle\"},\"mode\":\"markers\",\"name\":\"leave\",\"scene\":\"scene\",\"showlegend\":true,\"x\":[0.50032765],\"y\":[-0.075510785],\"z\":[-0.21074137],\"type\":\"scatter3d\"},{\"hovertemplate\":\"color=city\\u003cbr\\u003e0=%{x}\\u003cbr\\u003e1=%{y}\\u003cbr\\u003e2=%{z}\\u003cextra\\u003e\\u003c\\u002fextra\\u003e\",\"legendgroup\":\"city\",\"marker\":{\"color\":\"#00cc96\",\"symbol\":\"circle\"},\"mode\":\"markers\",\"name\":\"city\",\"scene\":\"scene\",\"showlegend\":true,\"x\":[0.11563593],\"y\":[-0.59472835],\"z\":[-0.43896335],\"type\":\"scatter3d\"},{\"hovertemplate\":\"color=wind\\u003cbr\\u003e0=%{x}\\u003cbr\\u003e1=%{y}\\u003cbr\\u003e2=%{z}\\u003cextra\\u003e\\u003c\\u002fextra\\u003e\",\"legendgroup\":\"wind\",\"marker\":{\"color\":\"#ab63fa\",\"symbol\":\"circle\"},\"mode\":\"markers\",\"name\":\"wind\",\"scene\":\"scene\",\"showlegend\":true,\"x\":[-0.6291342],\"y\":[-0.033849627],\"z\":[-0.30500478],\"type\":\"scatter3d\"},{\"hovertemplate\":\"color=light\\u003cbr\\u003e0=%{x}\\u003cbr\\u003e1=%{y}\\u003cbr\\u003e2=%{z}\\u003cextra\\u003e\\u003c\\u002fextra\\u003e\",\"legendgroup\":\"light\",\"marker\":{\"color\":\"#FFA15A\",\"symbol\":\"circle\"},\"mode\":\"markers\",\"name\":\"light\",\"scene\":\"scene\",\"showlegend\":true,\"x\":[-0.49769542],\"y\":[-0.14717403],\"z\":[-0.24089035],\"type\":\"scatter3d\"},{\"hovertemplate\":\"color=arms\\u003cbr\\u003e0=%{x}\\u003cbr\\u003e1=%{y}\\u003cbr\\u003e2=%{z}\\u003cextra\\u003e\\u003c\\u002fextra\\u003e\",\"legendgroup\":\"arms\",\"marker\":{\"color\":\"#19d3f3\",\"symbol\":\"circle\"},\"mode\":\"markers\",\"name\":\"arms\",\"scene\":\"scene\",\"showlegend\":true,\"x\":[-0.33423465],\"y\":[-0.42563486],\"z\":[0.38883665],\"type\":\"scatter3d\"},{\"hovertemplate\":\"color=children\\u003cbr\\u003e0=%{x}\\u003cbr\\u003e1=%{y}\\u003cbr\\u003e2=%{z}\\u003cextra\\u003e\\u003c\\u002fextra\\u003e\",\"legendgroup\":\"children\",\"marker\":{\"color\":\"#FF6692\",\"symbol\":\"circle\"},\"mode\":\"markers\",\"name\":\"children\",\"scene\":\"scene\",\"showlegend\":true,\"x\":[0.45202625],\"y\":[-0.45052797],\"z\":[-0.29435083],\"type\":\"scatter3d\"},{\"hovertemplate\":\"color=sweet\\u003cbr\\u003e0=%{x}\\u003cbr\\u003e1=%{y}\\u003cbr\\u003e2=%{z}\\u003cextra\\u003e\\u003c\\u002fextra\\u003e\",\"legendgroup\":\"sweet\",\"marker\":{\"color\":\"#B6E880\",\"symbol\":\"circle\"},\"mode\":\"markers\",\"name\":\"sweet\",\"scene\":\"scene\",\"showlegend\":true,\"x\":[0.28082228],\"y\":[0.3824623],\"z\":[0.2091653],\"type\":\"scatter3d\"},{\"hovertemplate\":\"color=others\\u003cbr\\u003e0=%{x}\\u003cbr\\u003e1=%{y}\\u003cbr\\u003e2=%{z}\\u003cextra\\u003e\\u003c\\u002fextra\\u003e\",\"legendgroup\":\"others\",\"marker\":{\"color\":\"#FF97FF\",\"symbol\":\"circle\"},\"mode\":\"markers\",\"name\":\"others\",\"scene\":\"scene\",\"showlegend\":true,\"x\":[0.093567036],\"y\":[-0.30233252],\"z\":[-0.27501133],\"type\":\"scatter3d\"},{\"hovertemplate\":\"color=lost\\u003cbr\\u003e0=%{x}\\u003cbr\\u003e1=%{y}\\u003cbr\\u003e2=%{z}\\u003cextra\\u003e\\u003c\\u002fextra\\u003e\",\"legendgroup\":\"lost\",\"marker\":{\"color\":\"#FECB52\",\"symbol\":\"circle\"},\"mode\":\"markers\",\"name\":\"lost\",\"scene\":\"scene\",\"showlegend\":true,\"x\":[0.21484643],\"y\":[-0.42063582],\"z\":[-0.16997612],\"type\":\"scatter3d\"},{\"hovertemplate\":\"color=theon\\u003cbr\\u003e0=%{x}\\u003cbr\\u003e1=%{y}\\u003cbr\\u003e2=%{z}\\u003cextra\\u003e\\u003c\\u002fextra\\u003e\",\"legendgroup\":\"theon\",\"marker\":{\"color\":\"#636efa\",\"symbol\":\"circle\"},\"mode\":\"markers\",\"name\":\"theon\",\"scene\":\"scene\",\"showlegend\":true,\"x\":[0.20520295],\"y\":[0.016888991],\"z\":[0.2857233],\"type\":\"scatter3d\"},{\"hovertemplate\":\"color=felt\\u003cbr\\u003e0=%{x}\\u003cbr\\u003e1=%{y}\\u003cbr\\u003e2=%{z}\\u003cextra\\u003e\\u003c\\u002fextra\\u003e\",\"legendgroup\":\"felt\",\"marker\":{\"color\":\"#EF553B\",\"symbol\":\"circle\"},\"mode\":\"markers\",\"name\":\"felt\",\"scene\":\"scene\",\"showlegend\":true,\"x\":[-0.28928134],\"y\":[0.503935],\"z\":[-0.068254314],\"type\":\"scatter3d\"},{\"hovertemplate\":\"color=side\\u003cbr\\u003e0=%{x}\\u003cbr\\u003e1=%{y}\\u003cbr\\u003e2=%{z}\\u003cextra\\u003e\\u003c\\u002fextra\\u003e\",\"legendgroup\":\"side\",\"marker\":{\"color\":\"#00cc96\",\"symbol\":\"circle\"},\"mode\":\"markers\",\"name\":\"side\",\"scene\":\"scene\",\"showlegend\":true,\"x\":[-0.42070347],\"y\":[-0.39922735],\"z\":[-0.08954347],\"type\":\"scatter3d\"},{\"hovertemplate\":\"color=yes\\u003cbr\\u003e0=%{x}\\u003cbr\\u003e1=%{y}\\u003cbr\\u003e2=%{z}\\u003cextra\\u003e\\u003c\\u002fextra\\u003e\",\"legendgroup\":\"yes\",\"marker\":{\"color\":\"#ab63fa\",\"symbol\":\"circle\"},\"mode\":\"markers\",\"name\":\"yes\",\"scene\":\"scene\",\"showlegend\":true,\"x\":[0.71358275],\"y\":[0.23532528],\"z\":[0.17256288],\"type\":\"scatter3d\"},{\"hovertemplate\":\"color=brothers\\u003cbr\\u003e0=%{x}\\u003cbr\\u003e1=%{y}\\u003cbr\\u003e2=%{z}\\u003cextra\\u003e\\u003c\\u002fextra\\u003e\",\"legendgroup\":\"brothers\",\"marker\":{\"color\":\"#FFA15A\",\"symbol\":\"circle\"},\"mode\":\"markers\",\"name\":\"brothers\",\"scene\":\"scene\",\"showlegend\":true,\"x\":[0.3070451],\"y\":[-0.63145804],\"z\":[-0.088760026],\"type\":\"scatter3d\"},{\"hovertemplate\":\"color=best\\u003cbr\\u003e0=%{x}\\u003cbr\\u003e1=%{y}\\u003cbr\\u003e2=%{z}\\u003cextra\\u003e\\u003c\\u002fextra\\u003e\",\"legendgroup\":\"best\",\"marker\":{\"color\":\"#19d3f3\",\"symbol\":\"circle\"},\"mode\":\"markers\",\"name\":\"best\",\"scene\":\"scene\",\"showlegend\":true,\"x\":[0.5642822],\"y\":[0.10434708],\"z\":[-0.46657544],\"type\":\"scatter3d\"},{\"hovertemplate\":\"color=die\\u003cbr\\u003e0=%{x}\\u003cbr\\u003e1=%{y}\\u003cbr\\u003e2=%{z}\\u003cextra\\u003e\\u003c\\u002fextra\\u003e\",\"legendgroup\":\"die\",\"marker\":{\"color\":\"#FF6692\",\"symbol\":\"circle\"},\"mode\":\"markers\",\"name\":\"die\",\"scene\":\"scene\",\"showlegend\":true,\"x\":[0.5664095],\"y\":[0.03657636],\"z\":[-0.43088534],\"type\":\"scatter3d\"},{\"hovertemplate\":\"color=brought\\u003cbr\\u003e0=%{x}\\u003cbr\\u003e1=%{y}\\u003cbr\\u003e2=%{z}\\u003cextra\\u003e\\u003c\\u002fextra\\u003e\",\"legendgroup\":\"brought\",\"marker\":{\"color\":\"#B6E880\",\"symbol\":\"circle\"},\"mode\":\"markers\",\"name\":\"brought\",\"scene\":\"scene\",\"showlegend\":true,\"x\":[0.03251917],\"y\":[-0.34206116],\"z\":[0.08130629],\"type\":\"scatter3d\"},{\"hovertemplate\":\"color=soon\\u003cbr\\u003e0=%{x}\\u003cbr\\u003e1=%{y}\\u003cbr\\u003e2=%{z}\\u003cextra\\u003e\\u003c\\u002fextra\\u003e\",\"legendgroup\":\"soon\",\"marker\":{\"color\":\"#FF97FF\",\"symbol\":\"circle\"},\"mode\":\"markers\",\"name\":\"soon\",\"scene\":\"scene\",\"showlegend\":true,\"x\":[0.36230776],\"y\":[-0.016879737],\"z\":[-0.4947083],\"type\":\"scatter3d\"},{\"hovertemplate\":\"color=far\\u003cbr\\u003e0=%{x}\\u003cbr\\u003e1=%{y}\\u003cbr\\u003e2=%{z}\\u003cextra\\u003e\\u003c\\u002fextra\\u003e\",\"legendgroup\":\"far\",\"marker\":{\"color\":\"#FECB52\",\"symbol\":\"circle\"},\"mode\":\"markers\",\"name\":\"far\",\"scene\":\"scene\",\"showlegend\":true,\"x\":[-0.035590857],\"y\":[-0.12897506],\"z\":[-0.5876446],\"type\":\"scatter3d\"},{\"hovertemplate\":\"color=died\\u003cbr\\u003e0=%{x}\\u003cbr\\u003e1=%{y}\\u003cbr\\u003e2=%{z}\\u003cextra\\u003e\\u003c\\u002fextra\\u003e\",\"legendgroup\":\"died\",\"marker\":{\"color\":\"#636efa\",\"symbol\":\"circle\"},\"mode\":\"markers\",\"name\":\"died\",\"scene\":\"scene\",\"showlegend\":true,\"x\":[0.38088378],\"y\":[-0.5495494],\"z\":[0.075490735],\"type\":\"scatter3d\"},{\"hovertemplate\":\"color=north\\u003cbr\\u003e0=%{x}\\u003cbr\\u003e1=%{y}\\u003cbr\\u003e2=%{z}\\u003cextra\\u003e\\u003c\\u002fextra\\u003e\",\"legendgroup\":\"north\",\"marker\":{\"color\":\"#EF553B\",\"symbol\":\"circle\"},\"mode\":\"markers\",\"name\":\"north\",\"scene\":\"scene\",\"showlegend\":true,\"x\":[0.14101803],\"y\":[-0.68950635],\"z\":[-0.32207796],\"type\":\"scatter3d\"},{\"hovertemplate\":\"color=child\\u003cbr\\u003e0=%{x}\\u003cbr\\u003e1=%{y}\\u003cbr\\u003e2=%{z}\\u003cextra\\u003e\\u003c\\u002fextra\\u003e\",\"legendgroup\":\"child\",\"marker\":{\"color\":\"#00cc96\",\"symbol\":\"circle\"},\"mode\":\"markers\",\"name\":\"child\",\"scene\":\"scene\",\"showlegend\":true,\"x\":[0.566742],\"y\":[0.111127496],\"z\":[0.07604751],\"type\":\"scatter3d\"},{\"hovertemplate\":\"color=fear\\u003cbr\\u003e0=%{x}\\u003cbr\\u003e1=%{y}\\u003cbr\\u003e2=%{z}\\u003cextra\\u003e\\u003c\\u002fextra\\u003e\",\"legendgroup\":\"fear\",\"marker\":{\"color\":\"#ab63fa\",\"symbol\":\"circle\"},\"mode\":\"markers\",\"name\":\"fear\",\"scene\":\"scene\",\"showlegend\":true,\"x\":[0.37286597],\"y\":[0.42358193],\"z\":[-0.31986704],\"type\":\"scatter3d\"},{\"hovertemplate\":\"color=along\\u003cbr\\u003e0=%{x}\\u003cbr\\u003e1=%{y}\\u003cbr\\u003e2=%{z}\\u003cextra\\u003e\\u003c\\u002fextra\\u003e\",\"legendgroup\":\"along\",\"marker\":{\"color\":\"#FFA15A\",\"symbol\":\"circle\"},\"mode\":\"markers\",\"name\":\"along\",\"scene\":\"scene\",\"showlegend\":true,\"x\":[-0.500411],\"y\":[-0.53199303],\"z\":[-0.39784685],\"type\":\"scatter3d\"},{\"hovertemplate\":\"color=word\\u003cbr\\u003e0=%{x}\\u003cbr\\u003e1=%{y}\\u003cbr\\u003e2=%{z}\\u003cextra\\u003e\\u003c\\u002fextra\\u003e\",\"legendgroup\":\"word\",\"marker\":{\"color\":\"#19d3f3\",\"symbol\":\"circle\"},\"mode\":\"markers\",\"name\":\"word\",\"scene\":\"scene\",\"showlegend\":true,\"x\":[0.63538843],\"y\":[0.022897616],\"z\":[-0.0023473501],\"type\":\"scatter3d\"},{\"hovertemplate\":\"color=brienne\\u003cbr\\u003e0=%{x}\\u003cbr\\u003e1=%{y}\\u003cbr\\u003e2=%{z}\\u003cextra\\u003e\\u003c\\u002fextra\\u003e\",\"legendgroup\":\"brienne\",\"marker\":{\"color\":\"#FF6692\",\"symbol\":\"circle\"},\"mode\":\"markers\",\"name\":\"brienne\",\"scene\":\"scene\",\"showlegend\":true,\"x\":[-0.016682977],\"y\":[0.29178563],\"z\":[0.18845166],\"type\":\"scatter3d\"},{\"hovertemplate\":\"color=taken\\u003cbr\\u003e0=%{x}\\u003cbr\\u003e1=%{y}\\u003cbr\\u003e2=%{z}\\u003cextra\\u003e\\u003c\\u002fextra\\u003e\",\"legendgroup\":\"taken\",\"marker\":{\"color\":\"#B6E880\",\"symbol\":\"circle\"},\"mode\":\"markers\",\"name\":\"taken\",\"scene\":\"scene\",\"showlegend\":true,\"x\":[0.4052936],\"y\":[-0.62295157],\"z\":[-0.095245816],\"type\":\"scatter3d\"},{\"hovertemplate\":\"color=battle\\u003cbr\\u003e0=%{x}\\u003cbr\\u003e1=%{y}\\u003cbr\\u003e2=%{z}\\u003cextra\\u003e\\u003c\\u002fextra\\u003e\",\"legendgroup\":\"battle\",\"marker\":{\"color\":\"#FF97FF\",\"symbol\":\"circle\"},\"mode\":\"markers\",\"name\":\"battle\",\"scene\":\"scene\",\"showlegend\":true,\"x\":[0.40841368],\"y\":[-0.66639966],\"z\":[-0.15554479],\"type\":\"scatter3d\"},{\"hovertemplate\":\"color=help\\u003cbr\\u003e0=%{x}\\u003cbr\\u003e1=%{y}\\u003cbr\\u003e2=%{z}\\u003cextra\\u003e\\u003c\\u002fextra\\u003e\",\"legendgroup\":\"help\",\"marker\":{\"color\":\"#FECB52\",\"symbol\":\"circle\"},\"mode\":\"markers\",\"name\":\"help\",\"scene\":\"scene\",\"showlegend\":true,\"x\":[0.51202524],\"y\":[0.25155595],\"z\":[-0.22100362],\"type\":\"scatter3d\"},{\"hovertemplate\":\"color=new\\u003cbr\\u003e0=%{x}\\u003cbr\\u003e1=%{y}\\u003cbr\\u003e2=%{z}\\u003cextra\\u003e\\u003c\\u002fextra\\u003e\",\"legendgroup\":\"new\",\"marker\":{\"color\":\"#636efa\",\"symbol\":\"circle\"},\"mode\":\"markers\",\"name\":\"new\",\"scene\":\"scene\",\"showlegend\":true,\"x\":[0.34356147],\"y\":[-0.6523788],\"z\":[-0.08088482],\"type\":\"scatter3d\"},{\"hovertemplate\":\"color=tywin\\u003cbr\\u003e0=%{x}\\u003cbr\\u003e1=%{y}\\u003cbr\\u003e2=%{z}\\u003cextra\\u003e\\u003c\\u002fextra\\u003e\",\"legendgroup\":\"tywin\",\"marker\":{\"color\":\"#EF553B\",\"symbol\":\"circle\"},\"mode\":\"markers\",\"name\":\"tywin\",\"scene\":\"scene\",\"showlegend\":true,\"x\":[0.4131444],\"y\":[-0.34382063],\"z\":[0.2369948],\"type\":\"scatter3d\"},{\"hovertemplate\":\"color=lords\\u003cbr\\u003e0=%{x}\\u003cbr\\u003e1=%{y}\\u003cbr\\u003e2=%{z}\\u003cextra\\u003e\\u003c\\u002fextra\\u003e\",\"legendgroup\":\"lords\",\"marker\":{\"color\":\"#00cc96\",\"symbol\":\"circle\"},\"mode\":\"markers\",\"name\":\"lords\",\"scene\":\"scene\",\"showlegend\":true,\"x\":[0.45049173],\"y\":[-0.82447267],\"z\":[-0.0053153485],\"type\":\"scatter3d\"},{\"hovertemplate\":\"color=davos\\u003cbr\\u003e0=%{x}\\u003cbr\\u003e1=%{y}\\u003cbr\\u003e2=%{z}\\u003cextra\\u003e\\u003c\\u002fextra\\u003e\",\"legendgroup\":\"davos\",\"marker\":{\"color\":\"#ab63fa\",\"symbol\":\"circle\"},\"mode\":\"markers\",\"name\":\"davos\",\"scene\":\"scene\",\"showlegend\":true,\"x\":[0.18455604],\"y\":[0.057813913],\"z\":[0.123755656],\"type\":\"scatter3d\"},{\"hovertemplate\":\"color=something\\u003cbr\\u003e0=%{x}\\u003cbr\\u003e1=%{y}\\u003cbr\\u003e2=%{z}\\u003cextra\\u003e\\u003c\\u002fextra\\u003e\",\"legendgroup\":\"something\",\"marker\":{\"color\":\"#FFA15A\",\"symbol\":\"circle\"},\"mode\":\"markers\",\"name\":\"something\",\"scene\":\"scene\",\"showlegend\":true,\"x\":[0.0993455],\"y\":[0.67793477],\"z\":[-0.10981468],\"type\":\"scatter3d\"},{\"hovertemplate\":\"color=mean\\u003cbr\\u003e0=%{x}\\u003cbr\\u003e1=%{y}\\u003cbr\\u003e2=%{z}\\u003cextra\\u003e\\u003c\\u002fextra\\u003e\",\"legendgroup\":\"mean\",\"marker\":{\"color\":\"#19d3f3\",\"symbol\":\"circle\"},\"mode\":\"markers\",\"name\":\"mean\",\"scene\":\"scene\",\"showlegend\":true,\"x\":[0.7336012],\"y\":[-0.013272628],\"z\":[-0.23092747],\"type\":\"scatter3d\"},{\"hovertemplate\":\"color=wife\\u003cbr\\u003e0=%{x}\\u003cbr\\u003e1=%{y}\\u003cbr\\u003e2=%{z}\\u003cextra\\u003e\\u003c\\u002fextra\\u003e\",\"legendgroup\":\"wife\",\"marker\":{\"color\":\"#FF6692\",\"symbol\":\"circle\"},\"mode\":\"markers\",\"name\":\"wife\",\"scene\":\"scene\",\"showlegend\":true,\"x\":[0.5863913],\"y\":[-0.4502526],\"z\":[0.34225997],\"type\":\"scatter3d\"},{\"hovertemplate\":\"color=hall\\u003cbr\\u003e0=%{x}\\u003cbr\\u003e1=%{y}\\u003cbr\\u003e2=%{z}\\u003cextra\\u003e\\u003c\\u002fextra\\u003e\",\"legendgroup\":\"hall\",\"marker\":{\"color\":\"#B6E880\",\"symbol\":\"circle\"},\"mode\":\"markers\",\"name\":\"hall\",\"scene\":\"scene\",\"showlegend\":true,\"x\":[-0.33483753],\"y\":[-0.5693459],\"z\":[-0.10567816],\"type\":\"scatter3d\"},{\"hovertemplate\":\"color=rest\\u003cbr\\u003e0=%{x}\\u003cbr\\u003e1=%{y}\\u003cbr\\u003e2=%{z}\\u003cextra\\u003e\\u003c\\u002fextra\\u003e\",\"legendgroup\":\"rest\",\"marker\":{\"color\":\"#FF97FF\",\"symbol\":\"circle\"},\"mode\":\"markers\",\"name\":\"rest\",\"scene\":\"scene\",\"showlegend\":true,\"x\":[0.2139199],\"y\":[-0.2966504],\"z\":[-0.4380806],\"type\":\"scatter3d\"},{\"hovertemplate\":\"color=kill\\u003cbr\\u003e0=%{x}\\u003cbr\\u003e1=%{y}\\u003cbr\\u003e2=%{z}\\u003cextra\\u003e\\u003c\\u002fextra\\u003e\",\"legendgroup\":\"kill\",\"marker\":{\"color\":\"#FECB52\",\"symbol\":\"circle\"},\"mode\":\"markers\",\"name\":\"kill\",\"scene\":\"scene\",\"showlegend\":true,\"x\":[0.6493464],\"y\":[0.23076186],\"z\":[-0.18278813],\"type\":\"scatter3d\"},{\"hovertemplate\":\"color=strong\\u003cbr\\u003e0=%{x}\\u003cbr\\u003e1=%{y}\\u003cbr\\u003e2=%{z}\\u003cextra\\u003e\\u003c\\u002fextra\\u003e\",\"legendgroup\":\"strong\",\"marker\":{\"color\":\"#636efa\",\"symbol\":\"circle\"},\"mode\":\"markers\",\"name\":\"strong\",\"scene\":\"scene\",\"showlegend\":true,\"x\":[0.2107185],\"y\":[-0.021390826],\"z\":[-0.14709052],\"type\":\"scatter3d\"},{\"hovertemplate\":\"color=steel\\u003cbr\\u003e0=%{x}\\u003cbr\\u003e1=%{y}\\u003cbr\\u003e2=%{z}\\u003cextra\\u003e\\u003c\\u002fextra\\u003e\",\"legendgroup\":\"steel\",\"marker\":{\"color\":\"#EF553B\",\"symbol\":\"circle\"},\"mode\":\"markers\",\"name\":\"steel\",\"scene\":\"scene\",\"showlegend\":true,\"x\":[-0.67019045],\"y\":[-0.10596766],\"z\":[0.10830812],\"type\":\"scatter3d\"},{\"hovertemplate\":\"color=began\\u003cbr\\u003e0=%{x}\\u003cbr\\u003e1=%{y}\\u003cbr\\u003e2=%{z}\\u003cextra\\u003e\\u003c\\u002fextra\\u003e\",\"legendgroup\":\"began\",\"marker\":{\"color\":\"#00cc96\",\"symbol\":\"circle\"},\"mode\":\"markers\",\"name\":\"began\",\"scene\":\"scene\",\"showlegend\":true,\"x\":[-0.46568236],\"y\":[0.16879794],\"z\":[-0.2563097],\"type\":\"scatter3d\"},{\"hovertemplate\":\"color=sound\\u003cbr\\u003e0=%{x}\\u003cbr\\u003e1=%{y}\\u003cbr\\u003e2=%{z}\\u003cextra\\u003e\\u003c\\u002fextra\\u003e\",\"legendgroup\":\"sound\",\"marker\":{\"color\":\"#ab63fa\",\"symbol\":\"circle\"},\"mode\":\"markers\",\"name\":\"sound\",\"scene\":\"scene\",\"showlegend\":true,\"x\":[-0.46423644],\"y\":[0.30526897],\"z\":[-0.2582253],\"type\":\"scatter3d\"},{\"hovertemplate\":\"color=dragon\\u003cbr\\u003e0=%{x}\\u003cbr\\u003e1=%{y}\\u003cbr\\u003e2=%{z}\\u003cextra\\u003e\\u003c\\u002fextra\\u003e\",\"legendgroup\":\"dragon\",\"marker\":{\"color\":\"#FFA15A\",\"symbol\":\"circle\"},\"mode\":\"markers\",\"name\":\"dragon\",\"scene\":\"scene\",\"showlegend\":true,\"x\":[-0.115965895],\"y\":[-0.30453798],\"z\":[-0.3006169],\"type\":\"scatter3d\"},{\"hovertemplate\":\"color=past\\u003cbr\\u003e0=%{x}\\u003cbr\\u003e1=%{y}\\u003cbr\\u003e2=%{z}\\u003cextra\\u003e\\u003c\\u002fextra\\u003e\",\"legendgroup\":\"past\",\"marker\":{\"color\":\"#19d3f3\",\"symbol\":\"circle\"},\"mode\":\"markers\",\"name\":\"past\",\"scene\":\"scene\",\"showlegend\":true,\"x\":[-0.42035288],\"y\":[-0.4888989],\"z\":[-0.2533404],\"type\":\"scatter3d\"},{\"hovertemplate\":\"color=life\\u003cbr\\u003e0=%{x}\\u003cbr\\u003e1=%{y}\\u003cbr\\u003e2=%{z}\\u003cextra\\u003e\\u003c\\u002fextra\\u003e\",\"legendgroup\":\"life\",\"marker\":{\"color\":\"#FF6692\",\"symbol\":\"circle\"},\"mode\":\"markers\",\"name\":\"life\",\"scene\":\"scene\",\"showlegend\":true,\"x\":[0.59352064],\"y\":[-0.08880825],\"z\":[-0.38267407],\"type\":\"scatter3d\"},{\"hovertemplate\":\"color=tower\\u003cbr\\u003e0=%{x}\\u003cbr\\u003e1=%{y}\\u003cbr\\u003e2=%{z}\\u003cextra\\u003e\\u003c\\u002fextra\\u003e\",\"legendgroup\":\"tower\",\"marker\":{\"color\":\"#B6E880\",\"symbol\":\"circle\"},\"mode\":\"markers\",\"name\":\"tower\",\"scene\":\"scene\",\"showlegend\":true,\"x\":[-0.37237227],\"y\":[-0.645512],\"z\":[-0.16360605],\"type\":\"scatter3d\"},{\"hovertemplate\":\"color=killed\\u003cbr\\u003e0=%{x}\\u003cbr\\u003e1=%{y}\\u003cbr\\u003e2=%{z}\\u003cextra\\u003e\\u003c\\u002fextra\\u003e\",\"legendgroup\":\"killed\",\"marker\":{\"color\":\"#FF97FF\",\"symbol\":\"circle\"},\"mode\":\"markers\",\"name\":\"killed\",\"scene\":\"scene\",\"showlegend\":true,\"x\":[0.562965],\"y\":[-0.18216549],\"z\":[0.15185107],\"type\":\"scatter3d\"},{\"hovertemplate\":\"color=arm\\u003cbr\\u003e0=%{x}\\u003cbr\\u003e1=%{y}\\u003cbr\\u003e2=%{z}\\u003cextra\\u003e\\u003c\\u002fextra\\u003e\",\"legendgroup\":\"arm\",\"marker\":{\"color\":\"#FECB52\",\"symbol\":\"circle\"},\"mode\":\"markers\",\"name\":\"arm\",\"scene\":\"scene\",\"showlegend\":true,\"x\":[-0.41867313],\"y\":[0.05445075],\"z\":[0.35950792],\"type\":\"scatter3d\"},{\"hovertemplate\":\"color=tried\\u003cbr\\u003e0=%{x}\\u003cbr\\u003e1=%{y}\\u003cbr\\u003e2=%{z}\\u003cextra\\u003e\\u003c\\u002fextra\\u003e\",\"legendgroup\":\"tried\",\"marker\":{\"color\":\"#636efa\",\"symbol\":\"circle\"},\"mode\":\"markers\",\"name\":\"tried\",\"scene\":\"scene\",\"showlegend\":true,\"x\":[0.02961424],\"y\":[0.415458],\"z\":[-0.1258766],\"type\":\"scatter3d\"},{\"hovertemplate\":\"color=free\\u003cbr\\u003e0=%{x}\\u003cbr\\u003e1=%{y}\\u003cbr\\u003e2=%{z}\\u003cextra\\u003e\\u003c\\u002fextra\\u003e\",\"legendgroup\":\"free\",\"marker\":{\"color\":\"#EF553B\",\"symbol\":\"circle\"},\"mode\":\"markers\",\"name\":\"free\",\"scene\":\"scene\",\"showlegend\":true,\"x\":[0.11945513],\"y\":[-0.35733518],\"z\":[-0.56380546],\"type\":\"scatter3d\"},{\"hovertemplate\":\"color=sons\\u003cbr\\u003e0=%{x}\\u003cbr\\u003e1=%{y}\\u003cbr\\u003e2=%{z}\\u003cextra\\u003e\\u003c\\u002fextra\\u003e\",\"legendgroup\":\"sons\",\"marker\":{\"color\":\"#00cc96\",\"symbol\":\"circle\"},\"mode\":\"markers\",\"name\":\"sons\",\"scene\":\"scene\",\"showlegend\":true,\"x\":[0.49274355],\"y\":[-0.7923415],\"z\":[0.122853175],\"type\":\"scatter3d\"},{\"hovertemplate\":\"color=thing\\u003cbr\\u003e0=%{x}\\u003cbr\\u003e1=%{y}\\u003cbr\\u003e2=%{z}\\u003cextra\\u003e\\u003c\\u002fextra\\u003e\",\"legendgroup\":\"thing\",\"marker\":{\"color\":\"#ab63fa\",\"symbol\":\"circle\"},\"mode\":\"markers\",\"name\":\"thing\",\"scene\":\"scene\",\"showlegend\":true,\"x\":[0.24311218],\"y\":[0.31243774],\"z\":[-0.2458804],\"type\":\"scatter3d\"},{\"hovertemplate\":\"color=bear\\u003cbr\\u003e0=%{x}\\u003cbr\\u003e1=%{y}\\u003cbr\\u003e2=%{z}\\u003cextra\\u003e\\u003c\\u002fextra\\u003e\",\"legendgroup\":\"bear\",\"marker\":{\"color\":\"#FFA15A\",\"symbol\":\"circle\"},\"mode\":\"markers\",\"name\":\"bear\",\"scene\":\"scene\",\"showlegend\":true,\"x\":[0.09079151],\"y\":[-0.087159865],\"z\":[0.11048714],\"type\":\"scatter3d\"},{\"hovertemplate\":\"color=days\\u003cbr\\u003e0=%{x}\\u003cbr\\u003e1=%{y}\\u003cbr\\u003e2=%{z}\\u003cextra\\u003e\\u003c\\u002fextra\\u003e\",\"legendgroup\":\"days\",\"marker\":{\"color\":\"#19d3f3\",\"symbol\":\"circle\"},\"mode\":\"markers\",\"name\":\"days\",\"scene\":\"scene\",\"showlegend\":true,\"x\":[0.13896477],\"y\":[-0.44786963],\"z\":[-0.5823237],\"type\":\"scatter3d\"},{\"hovertemplate\":\"color=bloody\\u003cbr\\u003e0=%{x}\\u003cbr\\u003e1=%{y}\\u003cbr\\u003e2=%{z}\\u003cextra\\u003e\\u003c\\u002fextra\\u003e\",\"legendgroup\":\"bloody\",\"marker\":{\"color\":\"#FF6692\",\"symbol\":\"circle\"},\"mode\":\"markers\",\"name\":\"bloody\",\"scene\":\"scene\",\"showlegend\":true,\"x\":[-0.049868666],\"y\":[0.21065989],\"z\":[-0.22714832],\"type\":\"scatter3d\"},{\"hovertemplate\":\"color=heart\\u003cbr\\u003e0=%{x}\\u003cbr\\u003e1=%{y}\\u003cbr\\u003e2=%{z}\\u003cextra\\u003e\\u003c\\u002fextra\\u003e\",\"legendgroup\":\"heart\",\"marker\":{\"color\":\"#B6E880\",\"symbol\":\"circle\"},\"mode\":\"markers\",\"name\":\"heart\",\"scene\":\"scene\",\"showlegend\":true,\"x\":[-0.22567648],\"y\":[0.111243546],\"z\":[-0.024481803],\"type\":\"scatter3d\"},{\"hovertemplate\":\"color=pale\\u003cbr\\u003e0=%{x}\\u003cbr\\u003e1=%{y}\\u003cbr\\u003e2=%{z}\\u003cextra\\u003e\\u003c\\u002fextra\\u003e\",\"legendgroup\":\"pale\",\"marker\":{\"color\":\"#FF97FF\",\"symbol\":\"circle\"},\"mode\":\"markers\",\"name\":\"pale\",\"scene\":\"scene\",\"showlegend\":true,\"x\":[-0.6851968],\"y\":[-0.114550486],\"z\":[0.20750448],\"type\":\"scatter3d\"},{\"hovertemplate\":\"color=love\\u003cbr\\u003e0=%{x}\\u003cbr\\u003e1=%{y}\\u003cbr\\u003e2=%{z}\\u003cextra\\u003e\\u003c\\u002fextra\\u003e\",\"legendgroup\":\"love\",\"marker\":{\"color\":\"#FECB52\",\"symbol\":\"circle\"},\"mode\":\"markers\",\"name\":\"love\",\"scene\":\"scene\",\"showlegend\":true,\"x\":[0.76828796],\"y\":[0.07036695],\"z\":[-0.029146865],\"type\":\"scatter3d\"},{\"hovertemplate\":\"color=moment\\u003cbr\\u003e0=%{x}\\u003cbr\\u003e1=%{y}\\u003cbr\\u003e2=%{z}\\u003cextra\\u003e\\u003c\\u002fextra\\u003e\",\"legendgroup\":\"moment\",\"marker\":{\"color\":\"#636efa\",\"symbol\":\"circle\"},\"mode\":\"markers\",\"name\":\"moment\",\"scene\":\"scene\",\"showlegend\":true,\"x\":[0.01317116],\"y\":[0.50544345],\"z\":[0.09018302],\"type\":\"scatter3d\"},{\"hovertemplate\":\"color=sat\\u003cbr\\u003e0=%{x}\\u003cbr\\u003e1=%{y}\\u003cbr\\u003e2=%{z}\\u003cextra\\u003e\\u003c\\u002fextra\\u003e\",\"legendgroup\":\"sat\",\"marker\":{\"color\":\"#EF553B\",\"symbol\":\"circle\"},\"mode\":\"markers\",\"name\":\"sat\",\"scene\":\"scene\",\"showlegend\":true,\"x\":[-0.4900016],\"y\":[-0.4292702],\"z\":[0.25170103],\"type\":\"scatter3d\"},{\"hovertemplate\":\"color=bring\\u003cbr\\u003e0=%{x}\\u003cbr\\u003e1=%{y}\\u003cbr\\u003e2=%{z}\\u003cextra\\u003e\\u003c\\u002fextra\\u003e\",\"legendgroup\":\"bring\",\"marker\":{\"color\":\"#00cc96\",\"symbol\":\"circle\"},\"mode\":\"markers\",\"name\":\"bring\",\"scene\":\"scene\",\"showlegend\":true,\"x\":[0.5403929],\"y\":[-0.06660633],\"z\":[-0.18113756],\"type\":\"scatter3d\"},{\"hovertemplate\":\"color=bed\\u003cbr\\u003e0=%{x}\\u003cbr\\u003e1=%{y}\\u003cbr\\u003e2=%{z}\\u003cextra\\u003e\\u003c\\u002fextra\\u003e\",\"legendgroup\":\"bed\",\"marker\":{\"color\":\"#ab63fa\",\"symbol\":\"circle\"},\"mode\":\"markers\",\"name\":\"bed\",\"scene\":\"scene\",\"showlegend\":true,\"x\":[-0.11747634],\"y\":[0.26250917],\"z\":[-0.04637663],\"type\":\"scatter3d\"},{\"hovertemplate\":\"color=close\\u003cbr\\u003e0=%{x}\\u003cbr\\u003e1=%{y}\\u003cbr\\u003e2=%{z}\\u003cextra\\u003e\\u003c\\u002fextra\\u003e\",\"legendgroup\":\"close\",\"marker\":{\"color\":\"#FFA15A\",\"symbol\":\"circle\"},\"mode\":\"markers\",\"name\":\"close\",\"scene\":\"scene\",\"showlegend\":true,\"x\":[-0.31301367],\"y\":[0.18366459],\"z\":[-0.16529313],\"type\":\"scatter3d\"},{\"hovertemplate\":\"color=knights\\u003cbr\\u003e0=%{x}\\u003cbr\\u003e1=%{y}\\u003cbr\\u003e2=%{z}\\u003cextra\\u003e\\u003c\\u002fextra\\u003e\",\"legendgroup\":\"knights\",\"marker\":{\"color\":\"#19d3f3\",\"symbol\":\"circle\"},\"mode\":\"markers\",\"name\":\"knights\",\"scene\":\"scene\",\"showlegend\":true,\"x\":[0.25856608],\"y\":[-0.8727765],\"z\":[0.0368287],\"type\":\"scatter3d\"},{\"hovertemplate\":\"color=cut\\u003cbr\\u003e0=%{x}\\u003cbr\\u003e1=%{y}\\u003cbr\\u003e2=%{z}\\u003cextra\\u003e\\u003c\\u002fextra\\u003e\",\"legendgroup\":\"cut\",\"marker\":{\"color\":\"#FF6692\",\"symbol\":\"circle\"},\"mode\":\"markers\",\"name\":\"cut\",\"scene\":\"scene\",\"showlegend\":true,\"x\":[-0.34277162],\"y\":[0.1610783],\"z\":[0.01544252],\"type\":\"scatter3d\"},{\"hovertemplate\":\"color=wolf\\u003cbr\\u003e0=%{x}\\u003cbr\\u003e1=%{y}\\u003cbr\\u003e2=%{z}\\u003cextra\\u003e\\u003c\\u002fextra\\u003e\",\"legendgroup\":\"wolf\",\"marker\":{\"color\":\"#B6E880\",\"symbol\":\"circle\"},\"mode\":\"markers\",\"name\":\"wolf\",\"scene\":\"scene\",\"showlegend\":true,\"x\":[-0.022194022],\"y\":[0.14181012],\"z\":[-0.021699011],\"type\":\"scatter3d\"},{\"hovertemplate\":\"color=death\\u003cbr\\u003e0=%{x}\\u003cbr\\u003e1=%{y}\\u003cbr\\u003e2=%{z}\\u003cextra\\u003e\\u003c\\u002fextra\\u003e\",\"legendgroup\":\"death\",\"marker\":{\"color\":\"#FF97FF\",\"symbol\":\"circle\"},\"mode\":\"markers\",\"name\":\"death\",\"scene\":\"scene\",\"showlegend\":true,\"x\":[0.48889437],\"y\":[-0.046397656],\"z\":[-0.1929707],\"type\":\"scatter3d\"},{\"hovertemplate\":\"color=smile\\u003cbr\\u003e0=%{x}\\u003cbr\\u003e1=%{y}\\u003cbr\\u003e2=%{z}\\u003cextra\\u003e\\u003c\\u002fextra\\u003e\",\"legendgroup\":\"smile\",\"marker\":{\"color\":\"#FECB52\",\"symbol\":\"circle\"},\"mode\":\"markers\",\"name\":\"smile\",\"scene\":\"scene\",\"showlegend\":true,\"x\":[0.059287637],\"y\":[0.48757544],\"z\":[0.5328053],\"type\":\"scatter3d\"},{\"hovertemplate\":\"color=horses\\u003cbr\\u003e0=%{x}\\u003cbr\\u003e1=%{y}\\u003cbr\\u003e2=%{z}\\u003cextra\\u003e\\u003c\\u002fextra\\u003e\",\"legendgroup\":\"horses\",\"marker\":{\"color\":\"#636efa\",\"symbol\":\"circle\"},\"mode\":\"markers\",\"name\":\"horses\",\"scene\":\"scene\",\"showlegend\":true,\"x\":[-0.38434902],\"y\":[-0.19537082],\"z\":[-0.55432254],\"type\":\"scatter3d\"},{\"hovertemplate\":\"color=inside\\u003cbr\\u003e0=%{x}\\u003cbr\\u003e1=%{y}\\u003cbr\\u003e2=%{z}\\u003cextra\\u003e\\u003c\\u002fextra\\u003e\",\"legendgroup\":\"inside\",\"marker\":{\"color\":\"#EF553B\",\"symbol\":\"circle\"},\"mode\":\"markers\",\"name\":\"inside\",\"scene\":\"scene\",\"showlegend\":true,\"x\":[-0.67381394],\"y\":[0.022749215],\"z\":[-0.28877446],\"type\":\"scatter3d\"},{\"hovertemplate\":\"color=four\\u003cbr\\u003e0=%{x}\\u003cbr\\u003e1=%{y}\\u003cbr\\u003e2=%{z}\\u003cextra\\u003e\\u003c\\u002fextra\\u003e\",\"legendgroup\":\"four\",\"marker\":{\"color\":\"#00cc96\",\"symbol\":\"circle\"},\"mode\":\"markers\",\"name\":\"four\",\"scene\":\"scene\",\"showlegend\":true,\"x\":[-0.018780684],\"y\":[-0.7258147],\"z\":[-0.16468495],\"type\":\"scatter3d\"},{\"hovertemplate\":\"color=brown\\u003cbr\\u003e0=%{x}\\u003cbr\\u003e1=%{y}\\u003cbr\\u003e2=%{z}\\u003cextra\\u003e\\u003c\\u002fextra\\u003e\",\"legendgroup\":\"brown\",\"marker\":{\"color\":\"#ab63fa\",\"symbol\":\"circle\"},\"mode\":\"markers\",\"name\":\"brown\",\"scene\":\"scene\",\"showlegend\":true,\"x\":[-0.6007365],\"y\":[-0.06175737],\"z\":[0.29409122],\"type\":\"scatter3d\"},{\"hovertemplate\":\"color=dragons\\u003cbr\\u003e0=%{x}\\u003cbr\\u003e1=%{y}\\u003cbr\\u003e2=%{z}\\u003cextra\\u003e\\u003c\\u002fextra\\u003e\",\"legendgroup\":\"dragons\",\"marker\":{\"color\":\"#FFA15A\",\"symbol\":\"circle\"},\"mode\":\"markers\",\"name\":\"dragons\",\"scene\":\"scene\",\"showlegend\":true,\"x\":[0.22129963],\"y\":[-0.26390398],\"z\":[-0.48372847],\"type\":\"scatter3d\"},{\"hovertemplate\":\"color=hot\\u003cbr\\u003e0=%{x}\\u003cbr\\u003e1=%{y}\\u003cbr\\u003e2=%{z}\\u003cextra\\u003e\\u003c\\u002fextra\\u003e\",\"legendgroup\":\"hot\",\"marker\":{\"color\":\"#19d3f3\",\"symbol\":\"circle\"},\"mode\":\"markers\",\"name\":\"hot\",\"scene\":\"scene\",\"showlegend\":true,\"x\":[-0.43413225],\"y\":[0.44550392],\"z\":[-0.26564693],\"type\":\"scatter3d\"},{\"hovertemplate\":\"color=silver\\u003cbr\\u003e0=%{x}\\u003cbr\\u003e1=%{y}\\u003cbr\\u003e2=%{z}\\u003cextra\\u003e\\u003c\\u002fextra\\u003e\",\"legendgroup\":\"silver\",\"marker\":{\"color\":\"#FF6692\",\"symbol\":\"circle\"},\"mode\":\"markers\",\"name\":\"silver\",\"scene\":\"scene\",\"showlegend\":true,\"x\":[-0.4903789],\"y\":[-0.38869613],\"z\":[0.2649009],\"type\":\"scatter3d\"},{\"hovertemplate\":\"color=part\\u003cbr\\u003e0=%{x}\\u003cbr\\u003e1=%{y}\\u003cbr\\u003e2=%{z}\\u003cextra\\u003e\\u003c\\u002fextra\\u003e\",\"legendgroup\":\"part\",\"marker\":{\"color\":\"#B6E880\",\"symbol\":\"circle\"},\"mode\":\"markers\",\"name\":\"part\",\"scene\":\"scene\",\"showlegend\":true,\"x\":[0.6144698],\"y\":[-0.14173467],\"z\":[-0.35271353],\"type\":\"scatter3d\"},{\"hovertemplate\":\"color=bastard\\u003cbr\\u003e0=%{x}\\u003cbr\\u003e1=%{y}\\u003cbr\\u003e2=%{z}\\u003cextra\\u003e\\u003c\\u002fextra\\u003e\",\"legendgroup\":\"bastard\",\"marker\":{\"color\":\"#FF97FF\",\"symbol\":\"circle\"},\"mode\":\"markers\",\"name\":\"bastard\",\"scene\":\"scene\",\"showlegend\":true,\"x\":[0.59958243],\"y\":[-0.46957755],\"z\":[0.36459324],\"type\":\"scatter3d\"},{\"hovertemplate\":\"color=open\\u003cbr\\u003e0=%{x}\\u003cbr\\u003e1=%{y}\\u003cbr\\u003e2=%{z}\\u003cextra\\u003e\\u003c\\u002fextra\\u003e\",\"legendgroup\":\"open\",\"marker\":{\"color\":\"#FECB52\",\"symbol\":\"circle\"},\"mode\":\"markers\",\"name\":\"open\",\"scene\":\"scene\",\"showlegend\":true,\"x\":[-0.5395847],\"y\":[-0.055775598],\"z\":[-0.0055832565],\"type\":\"scatter3d\"},{\"hovertemplate\":\"color=thousand\\u003cbr\\u003e0=%{x}\\u003cbr\\u003e1=%{y}\\u003cbr\\u003e2=%{z}\\u003cextra\\u003e\\u003c\\u002fextra\\u003e\",\"legendgroup\":\"thousand\",\"marker\":{\"color\":\"#636efa\",\"symbol\":\"circle\"},\"mode\":\"markers\",\"name\":\"thousand\",\"scene\":\"scene\",\"showlegend\":true,\"x\":[0.020706328],\"y\":[-0.6380261],\"z\":[-0.46387142],\"type\":\"scatter3d\"},{\"hovertemplate\":\"color=landing\\u003cbr\\u003e0=%{x}\\u003cbr\\u003e1=%{y}\\u003cbr\\u003e2=%{z}\\u003cextra\\u003e\\u003c\\u002fextra\\u003e\",\"legendgroup\":\"landing\",\"marker\":{\"color\":\"#EF553B\",\"symbol\":\"circle\"},\"mode\":\"markers\",\"name\":\"landing\",\"scene\":\"scene\",\"showlegend\":true,\"x\":[0.30831957],\"y\":[-0.48840058],\"z\":[-0.08846242],\"type\":\"scatter3d\"},{\"hovertemplate\":\"color=uncle\\u003cbr\\u003e0=%{x}\\u003cbr\\u003e1=%{y}\\u003cbr\\u003e2=%{z}\\u003cextra\\u003e\\u003c\\u002fextra\\u003e\",\"legendgroup\":\"uncle\",\"marker\":{\"color\":\"#00cc96\",\"symbol\":\"circle\"},\"mode\":\"markers\",\"name\":\"uncle\",\"scene\":\"scene\",\"showlegend\":true,\"x\":[0.6808158],\"y\":[-0.47352776],\"z\":[0.33152503],\"type\":\"scatter3d\"},{\"hovertemplate\":\"color=going\\u003cbr\\u003e0=%{x}\\u003cbr\\u003e1=%{y}\\u003cbr\\u003e2=%{z}\\u003cextra\\u003e\\u003c\\u002fextra\\u003e\",\"legendgroup\":\"going\",\"marker\":{\"color\":\"#ab63fa\",\"symbol\":\"circle\"},\"mode\":\"markers\",\"name\":\"going\",\"scene\":\"scene\",\"showlegend\":true,\"x\":[0.2506093],\"y\":[0.26892725],\"z\":[-0.5220329],\"type\":\"scatter3d\"},{\"hovertemplate\":\"color=blue\\u003cbr\\u003e0=%{x}\\u003cbr\\u003e1=%{y}\\u003cbr\\u003e2=%{z}\\u003cextra\\u003e\\u003c\\u002fextra\\u003e\",\"legendgroup\":\"blue\",\"marker\":{\"color\":\"#FFA15A\",\"symbol\":\"circle\"},\"mode\":\"markers\",\"name\":\"blue\",\"scene\":\"scene\",\"showlegend\":true,\"x\":[-0.51818055],\"y\":[-0.23428318],\"z\":[0.21717685],\"type\":\"scatter3d\"},{\"hovertemplate\":\"color=air\\u003cbr\\u003e0=%{x}\\u003cbr\\u003e1=%{y}\\u003cbr\\u003e2=%{z}\\u003cextra\\u003e\\u003c\\u002fextra\\u003e\",\"legendgroup\":\"air\",\"marker\":{\"color\":\"#19d3f3\",\"symbol\":\"circle\"},\"mode\":\"markers\",\"name\":\"air\",\"scene\":\"scene\",\"showlegend\":true,\"x\":[-0.7099253],\"y\":[0.19636825],\"z\":[-0.23067355],\"type\":\"scatter3d\"},{\"hovertemplate\":\"color=captain\\u003cbr\\u003e0=%{x}\\u003cbr\\u003e1=%{y}\\u003cbr\\u003e2=%{z}\\u003cextra\\u003e\\u003c\\u002fextra\\u003e\",\"legendgroup\":\"captain\",\"marker\":{\"color\":\"#FF6692\",\"symbol\":\"circle\"},\"mode\":\"markers\",\"name\":\"captain\",\"scene\":\"scene\",\"showlegend\":true,\"x\":[0.3379584],\"y\":[-0.60409963],\"z\":[0.40212625],\"type\":\"scatter3d\"},{\"hovertemplate\":\"color=please\\u003cbr\\u003e0=%{x}\\u003cbr\\u003e1=%{y}\\u003cbr\\u003e2=%{z}\\u003cextra\\u003e\\u003c\\u002fextra\\u003e\",\"legendgroup\":\"please\",\"marker\":{\"color\":\"#B6E880\",\"symbol\":\"circle\"},\"mode\":\"markers\",\"name\":\"please\",\"scene\":\"scene\",\"showlegend\":true,\"x\":[0.69199914],\"y\":[0.14984006],\"z\":[0.11737729],\"type\":\"scatter3d\"},{\"hovertemplate\":\"color=laughed\\u003cbr\\u003e0=%{x}\\u003cbr\\u003e1=%{y}\\u003cbr\\u003e2=%{z}\\u003cextra\\u003e\\u003c\\u002fextra\\u003e\",\"legendgroup\":\"laughed\",\"marker\":{\"color\":\"#FF97FF\",\"symbol\":\"circle\"},\"mode\":\"markers\",\"name\":\"laughed\",\"scene\":\"scene\",\"showlegend\":true,\"x\":[0.36162317],\"y\":[0.22957909],\"z\":[0.4062678],\"type\":\"scatter3d\"},{\"hovertemplate\":\"color=river\\u003cbr\\u003e0=%{x}\\u003cbr\\u003e1=%{y}\\u003cbr\\u003e2=%{z}\\u003cextra\\u003e\\u003c\\u002fextra\\u003e\",\"legendgroup\":\"river\",\"marker\":{\"color\":\"#FECB52\",\"symbol\":\"circle\"},\"mode\":\"markers\",\"name\":\"river\",\"scene\":\"scene\",\"showlegend\":true,\"x\":[-0.41546872],\"y\":[-0.4420492],\"z\":[-0.4933328],\"type\":\"scatter3d\"},{\"hovertemplate\":\"color=sun\\u003cbr\\u003e0=%{x}\\u003cbr\\u003e1=%{y}\\u003cbr\\u003e2=%{z}\\u003cextra\\u003e\\u003c\\u002fextra\\u003e\",\"legendgroup\":\"sun\",\"marker\":{\"color\":\"#636efa\",\"symbol\":\"circle\"},\"mode\":\"markers\",\"name\":\"sun\",\"scene\":\"scene\",\"showlegend\":true,\"x\":[-0.5341807],\"y\":[-0.21037544],\"z\":[-0.3761776],\"type\":\"scatter3d\"},{\"hovertemplate\":\"color=rose\\u003cbr\\u003e0=%{x}\\u003cbr\\u003e1=%{y}\\u003cbr\\u003e2=%{z}\\u003cextra\\u003e\\u003c\\u002fextra\\u003e\",\"legendgroup\":\"rose\",\"marker\":{\"color\":\"#EF553B\",\"symbol\":\"circle\"},\"mode\":\"markers\",\"name\":\"rose\",\"scene\":\"scene\",\"showlegend\":true,\"x\":[-0.64884084],\"y\":[-0.38009414],\"z\":[0.11606538],\"type\":\"scatter3d\"},{\"hovertemplate\":\"color=fell\\u003cbr\\u003e0=%{x}\\u003cbr\\u003e1=%{y}\\u003cbr\\u003e2=%{z}\\u003cextra\\u003e\\u003c\\u002fextra\\u003e\",\"legendgroup\":\"fell\",\"marker\":{\"color\":\"#00cc96\",\"symbol\":\"circle\"},\"mode\":\"markers\",\"name\":\"fell\",\"scene\":\"scene\",\"showlegend\":true,\"x\":[-0.58694375],\"y\":[-0.12212151],\"z\":[0.0648487],\"type\":\"scatter3d\"},{\"hovertemplate\":\"color=war\\u003cbr\\u003e0=%{x}\\u003cbr\\u003e1=%{y}\\u003cbr\\u003e2=%{z}\\u003cextra\\u003e\\u003c\\u002fextra\\u003e\",\"legendgroup\":\"war\",\"marker\":{\"color\":\"#ab63fa\",\"symbol\":\"circle\"},\"mode\":\"markers\",\"name\":\"war\",\"scene\":\"scene\",\"showlegend\":true,\"x\":[0.6097452],\"y\":[-0.5748291],\"z\":[-0.29504436],\"type\":\"scatter3d\"},{\"hovertemplate\":\"color=golden\\u003cbr\\u003e0=%{x}\\u003cbr\\u003e1=%{y}\\u003cbr\\u003e2=%{z}\\u003cextra\\u003e\\u003c\\u002fextra\\u003e\",\"legendgroup\":\"golden\",\"marker\":{\"color\":\"#FFA15A\",\"symbol\":\"circle\"},\"mode\":\"markers\",\"name\":\"golden\",\"scene\":\"scene\",\"showlegend\":true,\"x\":[-0.40540147],\"y\":[-0.5534303],\"z\":[0.34089792],\"type\":\"scatter3d\"},{\"hovertemplate\":\"color=sleep\\u003cbr\\u003e0=%{x}\\u003cbr\\u003e1=%{y}\\u003cbr\\u003e2=%{z}\\u003cextra\\u003e\\u003c\\u002fextra\\u003e\",\"legendgroup\":\"sleep\",\"marker\":{\"color\":\"#19d3f3\",\"symbol\":\"circle\"},\"mode\":\"markers\",\"name\":\"sleep\",\"scene\":\"scene\",\"showlegend\":true,\"x\":[-0.042071715],\"y\":[0.5077168],\"z\":[-0.3353978],\"type\":\"scatter3d\"},{\"hovertemplate\":\"color=without\\u003cbr\\u003e0=%{x}\\u003cbr\\u003e1=%{y}\\u003cbr\\u003e2=%{z}\\u003cextra\\u003e\\u003c\\u002fextra\\u003e\",\"legendgroup\":\"without\",\"marker\":{\"color\":\"#FF6692\",\"symbol\":\"circle\"},\"mode\":\"markers\",\"name\":\"without\",\"scene\":\"scene\",\"showlegend\":true,\"x\":[0.5036341],\"y\":[-0.039910033],\"z\":[-0.44098514],\"type\":\"scatter3d\"},{\"hovertemplate\":\"color=swords\\u003cbr\\u003e0=%{x}\\u003cbr\\u003e1=%{y}\\u003cbr\\u003e2=%{z}\\u003cextra\\u003e\\u003c\\u002fextra\\u003e\",\"legendgroup\":\"swords\",\"marker\":{\"color\":\"#B6E880\",\"symbol\":\"circle\"},\"mode\":\"markers\",\"name\":\"swords\",\"scene\":\"scene\",\"showlegend\":true,\"x\":[0.104650065],\"y\":[-0.7224883],\"z\":[-0.28853342],\"type\":\"scatter3d\"},{\"hovertemplate\":\"color=renly\\u003cbr\\u003e0=%{x}\\u003cbr\\u003e1=%{y}\\u003cbr\\u003e2=%{z}\\u003cextra\\u003e\\u003c\\u002fextra\\u003e\",\"legendgroup\":\"renly\",\"marker\":{\"color\":\"#FF97FF\",\"symbol\":\"circle\"},\"mode\":\"markers\",\"name\":\"renly\",\"scene\":\"scene\",\"showlegend\":true,\"x\":[0.48133227],\"y\":[-0.496612],\"z\":[0.30603477],\"type\":\"scatter3d\"},{\"hovertemplate\":\"color=speak\\u003cbr\\u003e0=%{x}\\u003cbr\\u003e1=%{y}\\u003cbr\\u003e2=%{z}\\u003cextra\\u003e\\u003c\\u002fextra\\u003e\",\"legendgroup\":\"speak\",\"marker\":{\"color\":\"#FECB52\",\"symbol\":\"circle\"},\"mode\":\"markers\",\"name\":\"speak\",\"scene\":\"scene\",\"showlegend\":true,\"x\":[0.6848749],\"y\":[0.17529863],\"z\":[-0.15327495],\"type\":\"scatter3d\"},{\"hovertemplate\":\"color=certain\\u003cbr\\u003e0=%{x}\\u003cbr\\u003e1=%{y}\\u003cbr\\u003e2=%{z}\\u003cextra\\u003e\\u003c\\u002fextra\\u003e\",\"legendgroup\":\"certain\",\"marker\":{\"color\":\"#636efa\",\"symbol\":\"circle\"},\"mode\":\"markers\",\"name\":\"certain\",\"scene\":\"scene\",\"showlegend\":true,\"x\":[0.62905675],\"y\":[0.16143805],\"z\":[-0.21259329],\"type\":\"scatter3d\"},{\"hovertemplate\":\"color=fool\\u003cbr\\u003e0=%{x}\\u003cbr\\u003e1=%{y}\\u003cbr\\u003e2=%{z}\\u003cextra\\u003e\\u003c\\u002fextra\\u003e\",\"legendgroup\":\"fool\",\"marker\":{\"color\":\"#EF553B\",\"symbol\":\"circle\"},\"mode\":\"markers\",\"name\":\"fool\",\"scene\":\"scene\",\"showlegend\":true,\"x\":[0.603314],\"y\":[0.24750409],\"z\":[0.23868287],\"type\":\"scatter3d\"},{\"hovertemplate\":\"color=full\\u003cbr\\u003e0=%{x}\\u003cbr\\u003e1=%{y}\\u003cbr\\u003e2=%{z}\\u003cextra\\u003e\\u003c\\u002fextra\\u003e\",\"legendgroup\":\"full\",\"marker\":{\"color\":\"#00cc96\",\"symbol\":\"circle\"},\"mode\":\"markers\",\"name\":\"full\",\"scene\":\"scene\",\"showlegend\":true,\"x\":[-0.43235976],\"y\":[0.122936726],\"z\":[-0.34187233],\"type\":\"scatter3d\"},{\"hovertemplate\":\"color=beyond\\u003cbr\\u003e0=%{x}\\u003cbr\\u003e1=%{y}\\u003cbr\\u003e2=%{z}\\u003cextra\\u003e\\u003c\\u002fextra\\u003e\",\"legendgroup\":\"beyond\",\"marker\":{\"color\":\"#ab63fa\",\"symbol\":\"circle\"},\"mode\":\"markers\",\"name\":\"beyond\",\"scene\":\"scene\",\"showlegend\":true,\"x\":[-0.06531764],\"y\":[-0.4988359],\"z\":[-0.5966479],\"type\":\"scatter3d\"},{\"hovertemplate\":\"color=feel\\u003cbr\\u003e0=%{x}\\u003cbr\\u003e1=%{y}\\u003cbr\\u003e2=%{z}\\u003cextra\\u003e\\u003c\\u002fextra\\u003e\",\"legendgroup\":\"feel\",\"marker\":{\"color\":\"#FFA15A\",\"symbol\":\"circle\"},\"mode\":\"markers\",\"name\":\"feel\",\"scene\":\"scene\",\"showlegend\":true,\"x\":[-0.22129497],\"y\":[0.4586651],\"z\":[-0.20278558],\"type\":\"scatter3d\"},{\"hovertemplate\":\"color=send\\u003cbr\\u003e0=%{x}\\u003cbr\\u003e1=%{y}\\u003cbr\\u003e2=%{z}\\u003cextra\\u003e\\u003c\\u002fextra\\u003e\",\"legendgroup\":\"send\",\"marker\":{\"color\":\"#19d3f3\",\"symbol\":\"circle\"},\"mode\":\"markers\",\"name\":\"send\",\"scene\":\"scene\",\"showlegend\":true,\"x\":[0.59677553],\"y\":[-0.1588784],\"z\":[-0.15813243],\"type\":\"scatter3d\"},{\"hovertemplate\":\"color=got\\u003cbr\\u003e0=%{x}\\u003cbr\\u003e1=%{y}\\u003cbr\\u003e2=%{z}\\u003cextra\\u003e\\u003c\\u002fextra\\u003e\",\"legendgroup\":\"got\",\"marker\":{\"color\":\"#FF6692\",\"symbol\":\"circle\"},\"mode\":\"markers\",\"name\":\"got\",\"scene\":\"scene\",\"showlegend\":true,\"x\":[0.019653803],\"y\":[0.32421336],\"z\":[-0.14182258],\"type\":\"scatter3d\"},{\"hovertemplate\":\"color=tongue\\u003cbr\\u003e0=%{x}\\u003cbr\\u003e1=%{y}\\u003cbr\\u003e2=%{z}\\u003cextra\\u003e\\u003c\\u002fextra\\u003e\",\"legendgroup\":\"tongue\",\"marker\":{\"color\":\"#B6E880\",\"symbol\":\"circle\"},\"mode\":\"markers\",\"name\":\"tongue\",\"scene\":\"scene\",\"showlegend\":true,\"x\":[0.1524623],\"y\":[0.48808268],\"z\":[0.1362434],\"type\":\"scatter3d\"},{\"hovertemplate\":\"color=fight\\u003cbr\\u003e0=%{x}\\u003cbr\\u003e1=%{y}\\u003cbr\\u003e2=%{z}\\u003cextra\\u003e\\u003c\\u002fextra\\u003e\",\"legendgroup\":\"fight\",\"marker\":{\"color\":\"#FF97FF\",\"symbol\":\"circle\"},\"mode\":\"markers\",\"name\":\"fight\",\"scene\":\"scene\",\"showlegend\":true,\"x\":[0.45964763],\"y\":[-0.06666504],\"z\":[-0.4610244],\"type\":\"scatter3d\"},{\"hovertemplate\":\"color=rode\\u003cbr\\u003e0=%{x}\\u003cbr\\u003e1=%{y}\\u003cbr\\u003e2=%{z}\\u003cextra\\u003e\\u003c\\u002fextra\\u003e\",\"legendgroup\":\"rode\",\"marker\":{\"color\":\"#FECB52\",\"symbol\":\"circle\"},\"mode\":\"markers\",\"name\":\"rode\",\"scene\":\"scene\",\"showlegend\":true,\"x\":[-0.33749422],\"y\":[-0.6011237],\"z\":[-0.007642247],\"type\":\"scatter3d\"},{\"hovertemplate\":\"color=set\\u003cbr\\u003e0=%{x}\\u003cbr\\u003e1=%{y}\\u003cbr\\u003e2=%{z}\\u003cextra\\u003e\\u003c\\u002fextra\\u003e\",\"legendgroup\":\"set\",\"marker\":{\"color\":\"#636efa\",\"symbol\":\"circle\"},\"mode\":\"markers\",\"name\":\"set\",\"scene\":\"scene\",\"showlegend\":true,\"x\":[-0.32164186],\"y\":[-0.3737452],\"z\":[-0.20732695],\"type\":\"scatter3d\"},{\"hovertemplate\":\"color=thick\\u003cbr\\u003e0=%{x}\\u003cbr\\u003e1=%{y}\\u003cbr\\u003e2=%{z}\\u003cextra\\u003e\\u003c\\u002fextra\\u003e\",\"legendgroup\":\"thick\",\"marker\":{\"color\":\"#EF553B\",\"symbol\":\"circle\"},\"mode\":\"markers\",\"name\":\"thick\",\"scene\":\"scene\",\"showlegend\":true,\"x\":[-0.75675005],\"y\":[-0.072035685],\"z\":[0.09374606],\"type\":\"scatter3d\"},{\"hovertemplate\":\"color=world\\u003cbr\\u003e0=%{x}\\u003cbr\\u003e1=%{y}\\u003cbr\\u003e2=%{z}\\u003cextra\\u003e\\u003c\\u002fextra\\u003e\",\"legendgroup\":\"world\",\"marker\":{\"color\":\"#00cc96\",\"symbol\":\"circle\"},\"mode\":\"markers\",\"name\":\"world\",\"scene\":\"scene\",\"showlegend\":true,\"x\":[-0.04607691],\"y\":[-0.0028413385],\"z\":[-0.71922314],\"type\":\"scatter3d\"},{\"hovertemplate\":\"color=throat\\u003cbr\\u003e0=%{x}\\u003cbr\\u003e1=%{y}\\u003cbr\\u003e2=%{z}\\u003cextra\\u003e\\u003c\\u002fextra\\u003e\",\"legendgroup\":\"throat\",\"marker\":{\"color\":\"#ab63fa\",\"symbol\":\"circle\"},\"mode\":\"markers\",\"name\":\"throat\",\"scene\":\"scene\",\"showlegend\":true,\"x\":[-0.49037084],\"y\":[0.4244981],\"z\":[0.33844873],\"type\":\"scatter3d\"},{\"hovertemplate\":\"color=deep\\u003cbr\\u003e0=%{x}\\u003cbr\\u003e1=%{y}\\u003cbr\\u003e2=%{z}\\u003cextra\\u003e\\u003c\\u002fextra\\u003e\",\"legendgroup\":\"deep\",\"marker\":{\"color\":\"#FFA15A\",\"symbol\":\"circle\"},\"mode\":\"markers\",\"name\":\"deep\",\"scene\":\"scene\",\"showlegend\":true,\"x\":[-0.74910724],\"y\":[-0.04764077],\"z\":[-0.04178276],\"type\":\"scatter3d\"},{\"hovertemplate\":\"color=legs\\u003cbr\\u003e0=%{x}\\u003cbr\\u003e1=%{y}\\u003cbr\\u003e2=%{z}\\u003cextra\\u003e\\u003c\\u002fextra\\u003e\",\"legendgroup\":\"legs\",\"marker\":{\"color\":\"#19d3f3\",\"symbol\":\"circle\"},\"mode\":\"markers\",\"name\":\"legs\",\"scene\":\"scene\",\"showlegend\":true,\"x\":[-0.69753903],\"y\":[0.18672687],\"z\":[0.042118095],\"type\":\"scatter3d\"},{\"hovertemplate\":\"color=call\\u003cbr\\u003e0=%{x}\\u003cbr\\u003e1=%{y}\\u003cbr\\u003e2=%{z}\\u003cextra\\u003e\\u003c\\u002fextra\\u003e\",\"legendgroup\":\"call\",\"marker\":{\"color\":\"#FF6692\",\"symbol\":\"circle\"},\"mode\":\"markers\",\"name\":\"call\",\"scene\":\"scene\",\"showlegend\":true,\"x\":[0.6586177],\"y\":[-0.010159999],\"z\":[-0.060187265],\"type\":\"scatter3d\"},{\"hovertemplate\":\"color=honor\\u003cbr\\u003e0=%{x}\\u003cbr\\u003e1=%{y}\\u003cbr\\u003e2=%{z}\\u003cextra\\u003e\\u003c\\u002fextra\\u003e\",\"legendgroup\":\"honor\",\"marker\":{\"color\":\"#B6E880\",\"symbol\":\"circle\"},\"mode\":\"markers\",\"name\":\"honor\",\"scene\":\"scene\",\"showlegend\":true,\"x\":[0.729418],\"y\":[-0.43297985],\"z\":[0.12383543],\"type\":\"scatter3d\"},{\"hovertemplate\":\"color=rock\\u003cbr\\u003e0=%{x}\\u003cbr\\u003e1=%{y}\\u003cbr\\u003e2=%{z}\\u003cextra\\u003e\\u003c\\u002fextra\\u003e\",\"legendgroup\":\"rock\",\"marker\":{\"color\":\"#FF97FF\",\"symbol\":\"circle\"},\"mode\":\"markers\",\"name\":\"rock\",\"scene\":\"scene\",\"showlegend\":true,\"x\":[-0.08117161],\"y\":[-0.6073824],\"z\":[-0.019989312],\"type\":\"scatter3d\"},{\"hovertemplate\":\"color=trees\\u003cbr\\u003e0=%{x}\\u003cbr\\u003e1=%{y}\\u003cbr\\u003e2=%{z}\\u003cextra\\u003e\\u003c\\u002fextra\\u003e\",\"legendgroup\":\"trees\",\"marker\":{\"color\":\"#FECB52\",\"symbol\":\"circle\"},\"mode\":\"markers\",\"name\":\"trees\",\"scene\":\"scene\",\"showlegend\":true,\"x\":[-0.69452465],\"y\":[-0.16408598],\"z\":[-0.37076944],\"type\":\"scatter3d\"},{\"hovertemplate\":\"color=tall\\u003cbr\\u003e0=%{x}\\u003cbr\\u003e1=%{y}\\u003cbr\\u003e2=%{z}\\u003cextra\\u003e\\u003c\\u002fextra\\u003e\",\"legendgroup\":\"tall\",\"marker\":{\"color\":\"#636efa\",\"symbol\":\"circle\"},\"mode\":\"markers\",\"name\":\"tall\",\"scene\":\"scene\",\"showlegend\":true,\"x\":[-0.5189575],\"y\":[-0.529849],\"z\":[0.14596137],\"type\":\"scatter3d\"},{\"hovertemplate\":\"color=table\\u003cbr\\u003e0=%{x}\\u003cbr\\u003e1=%{y}\\u003cbr\\u003e2=%{z}\\u003cextra\\u003e\\u003c\\u002fextra\\u003e\",\"legendgroup\":\"table\",\"marker\":{\"color\":\"#EF553B\",\"symbol\":\"circle\"},\"mode\":\"markers\",\"name\":\"table\",\"scene\":\"scene\",\"showlegend\":true,\"x\":[-0.40921444],\"y\":[-0.38040882],\"z\":[0.36274588],\"type\":\"scatter3d\"},{\"hovertemplate\":\"color=pulled\\u003cbr\\u003e0=%{x}\\u003cbr\\u003e1=%{y}\\u003cbr\\u003e2=%{z}\\u003cextra\\u003e\\u003c\\u002fextra\\u003e\",\"legendgroup\":\"pulled\",\"marker\":{\"color\":\"#00cc96\",\"symbol\":\"circle\"},\"mode\":\"markers\",\"name\":\"pulled\",\"scene\":\"scene\",\"showlegend\":true,\"x\":[-0.6188793],\"y\":[0.0076383054],\"z\":[0.34236455],\"type\":\"scatter3d\"},{\"hovertemplate\":\"color=mormont\\u003cbr\\u003e0=%{x}\\u003cbr\\u003e1=%{y}\\u003cbr\\u003e2=%{z}\\u003cextra\\u003e\\u003c\\u002fextra\\u003e\",\"legendgroup\":\"mormont\",\"marker\":{\"color\":\"#ab63fa\",\"symbol\":\"circle\"},\"mode\":\"markers\",\"name\":\"mormont\",\"scene\":\"scene\",\"showlegend\":true,\"x\":[0.08658871],\"y\":[-0.25385553],\"z\":[0.4635521],\"type\":\"scatter3d\"},{\"hovertemplate\":\"color=women\\u003cbr\\u003e0=%{x}\\u003cbr\\u003e1=%{y}\\u003cbr\\u003e2=%{z}\\u003cextra\\u003e\\u003c\\u002fextra\\u003e\",\"legendgroup\":\"women\",\"marker\":{\"color\":\"#FFA15A\",\"symbol\":\"circle\"},\"mode\":\"markers\",\"name\":\"women\",\"scene\":\"scene\",\"showlegend\":true,\"x\":[0.114161365],\"y\":[-0.20747623],\"z\":[-0.39280722],\"type\":\"scatter3d\"},{\"hovertemplate\":\"color=broken\\u003cbr\\u003e0=%{x}\\u003cbr\\u003e1=%{y}\\u003cbr\\u003e2=%{z}\\u003cextra\\u003e\\u003c\\u002fextra\\u003e\",\"legendgroup\":\"broken\",\"marker\":{\"color\":\"#19d3f3\",\"symbol\":\"circle\"},\"mode\":\"markers\",\"name\":\"broken\",\"scene\":\"scene\",\"showlegend\":true,\"x\":[-0.72542244],\"y\":[-0.21309182],\"z\":[-0.16988623],\"type\":\"scatter3d\"},{\"hovertemplate\":\"color=steps\\u003cbr\\u003e0=%{x}\\u003cbr\\u003e1=%{y}\\u003cbr\\u003e2=%{z}\\u003cextra\\u003e\\u003c\\u002fextra\\u003e\",\"legendgroup\":\"steps\",\"marker\":{\"color\":\"#FF6692\",\"symbol\":\"circle\"},\"mode\":\"markers\",\"name\":\"steps\",\"scene\":\"scene\",\"showlegend\":true,\"x\":[-0.6013874],\"y\":[-0.32710037],\"z\":[-0.17420307],\"type\":\"scatter3d\"},{\"hovertemplate\":\"color=things\\u003cbr\\u003e0=%{x}\\u003cbr\\u003e1=%{y}\\u003cbr\\u003e2=%{z}\\u003cextra\\u003e\\u003c\\u002fextra\\u003e\",\"legendgroup\":\"things\",\"marker\":{\"color\":\"#B6E880\",\"symbol\":\"circle\"},\"mode\":\"markers\",\"name\":\"things\",\"scene\":\"scene\",\"showlegend\":true,\"x\":[0.33381268],\"y\":[0.311766],\"z\":[-0.47241157],\"type\":\"scatter3d\"},{\"hovertemplate\":\"color=next\\u003cbr\\u003e0=%{x}\\u003cbr\\u003e1=%{y}\\u003cbr\\u003e2=%{z}\\u003cextra\\u003e\\u003c\\u002fextra\\u003e\",\"legendgroup\":\"next\",\"marker\":{\"color\":\"#FF97FF\",\"symbol\":\"circle\"},\"mode\":\"markers\",\"name\":\"next\",\"scene\":\"scene\",\"showlegend\":true,\"x\":[0.058998838],\"y\":[0.039310575],\"z\":[-0.3341616],\"type\":\"scatter3d\"},{\"hovertemplate\":\"color=hodor\\u003cbr\\u003e0=%{x}\\u003cbr\\u003e1=%{y}\\u003cbr\\u003e2=%{z}\\u003cextra\\u003e\\u003c\\u002fextra\\u003e\",\"legendgroup\":\"hodor\",\"marker\":{\"color\":\"#FECB52\",\"symbol\":\"circle\"},\"mode\":\"markers\",\"name\":\"hodor\",\"scene\":\"scene\",\"showlegend\":true,\"x\":[-0.2770442],\"y\":[0.42855808],\"z\":[-0.029450089],\"type\":\"scatter3d\"},{\"hovertemplate\":\"color=heavy\\u003cbr\\u003e0=%{x}\\u003cbr\\u003e1=%{y}\\u003cbr\\u003e2=%{z}\\u003cextra\\u003e\\u003c\\u002fextra\\u003e\",\"legendgroup\":\"heavy\",\"marker\":{\"color\":\"#636efa\",\"symbol\":\"circle\"},\"mode\":\"markers\",\"name\":\"heavy\",\"scene\":\"scene\",\"showlegend\":true,\"x\":[-0.7538507],\"y\":[-0.11756312],\"z\":[0.12942058],\"type\":\"scatter3d\"},{\"hovertemplate\":\"color=burned\\u003cbr\\u003e0=%{x}\\u003cbr\\u003e1=%{y}\\u003cbr\\u003e2=%{z}\\u003cextra\\u003e\\u003c\\u002fextra\\u003e\",\"legendgroup\":\"burned\",\"marker\":{\"color\":\"#EF553B\",\"symbol\":\"circle\"},\"mode\":\"markers\",\"name\":\"burned\",\"scene\":\"scene\",\"showlegend\":true,\"x\":[-0.46934655],\"y\":[-0.3156944],\"z\":[-0.42354223],\"type\":\"scatter3d\"},{\"hovertemplate\":\"color=oh\\u003cbr\\u003e0=%{x}\\u003cbr\\u003e1=%{y}\\u003cbr\\u003e2=%{z}\\u003cextra\\u003e\\u003c\\u002fextra\\u003e\",\"legendgroup\":\"oh\",\"marker\":{\"color\":\"#00cc96\",\"symbol\":\"circle\"},\"mode\":\"markers\",\"name\":\"oh\",\"scene\":\"scene\",\"showlegend\":true,\"x\":[0.6316128],\"y\":[0.27601588],\"z\":[0.1797159],\"type\":\"scatter3d\"},{\"hovertemplate\":\"color=toward\\u003cbr\\u003e0=%{x}\\u003cbr\\u003e1=%{y}\\u003cbr\\u003e2=%{z}\\u003cextra\\u003e\\u003c\\u002fextra\\u003e\",\"legendgroup\":\"toward\",\"marker\":{\"color\":\"#ab63fa\",\"symbol\":\"circle\"},\"mode\":\"markers\",\"name\":\"toward\",\"scene\":\"scene\",\"showlegend\":true,\"x\":[-0.619792],\"y\":[-0.2693024],\"z\":[0.008852914],\"type\":\"scatter3d\"},{\"hovertemplate\":\"color=together\\u003cbr\\u003e0=%{x}\\u003cbr\\u003e1=%{y}\\u003cbr\\u003e2=%{z}\\u003cextra\\u003e\\u003c\\u002fextra\\u003e\",\"legendgroup\":\"together\",\"marker\":{\"color\":\"#FFA15A\",\"symbol\":\"circle\"},\"mode\":\"markers\",\"name\":\"together\",\"scene\":\"scene\",\"showlegend\":true,\"x\":[-0.4531518],\"y\":[-0.28180647],\"z\":[-0.27885008],\"type\":\"scatter3d\"},{\"hovertemplate\":\"color=given\\u003cbr\\u003e0=%{x}\\u003cbr\\u003e1=%{y}\\u003cbr\\u003e2=%{z}\\u003cextra\\u003e\\u003c\\u002fextra\\u003e\",\"legendgroup\":\"given\",\"marker\":{\"color\":\"#19d3f3\",\"symbol\":\"circle\"},\"mode\":\"markers\",\"name\":\"given\",\"scene\":\"scene\",\"showlegend\":true,\"x\":[0.49187338],\"y\":[-0.32415366],\"z\":[-0.020723626],\"type\":\"scatter3d\"},{\"hovertemplate\":\"color=skin\\u003cbr\\u003e0=%{x}\\u003cbr\\u003e1=%{y}\\u003cbr\\u003e2=%{z}\\u003cextra\\u003e\\u003c\\u002fextra\\u003e\",\"legendgroup\":\"skin\",\"marker\":{\"color\":\"#FF6692\",\"symbol\":\"circle\"},\"mode\":\"markers\",\"name\":\"skin\",\"scene\":\"scene\",\"showlegend\":true,\"x\":[-0.6451155],\"y\":[0.27904698],\"z\":[0.17371741],\"type\":\"scatter3d\"},{\"hovertemplate\":\"color=since\\u003cbr\\u003e0=%{x}\\u003cbr\\u003e1=%{y}\\u003cbr\\u003e2=%{z}\\u003cextra\\u003e\\u003c\\u002fextra\\u003e\",\"legendgroup\":\"since\",\"marker\":{\"color\":\"#B6E880\",\"symbol\":\"circle\"},\"mode\":\"markers\",\"name\":\"since\",\"scene\":\"scene\",\"showlegend\":true,\"x\":[0.32524464],\"y\":[-0.42938843],\"z\":[-0.3090478],\"type\":\"scatter3d\"},{\"hovertemplate\":\"color=moved\\u003cbr\\u003e0=%{x}\\u003cbr\\u003e1=%{y}\\u003cbr\\u003e2=%{z}\\u003cextra\\u003e\\u003c\\u002fextra\\u003e\",\"legendgroup\":\"moved\",\"marker\":{\"color\":\"#FF97FF\",\"symbol\":\"circle\"},\"mode\":\"markers\",\"name\":\"moved\",\"scene\":\"scene\",\"showlegend\":true,\"x\":[-0.5418579],\"y\":[0.073429346],\"z\":[-0.045510113],\"type\":\"scatter3d\"},{\"hovertemplate\":\"color=dwarf\\u003cbr\\u003e0=%{x}\\u003cbr\\u003e1=%{y}\\u003cbr\\u003e2=%{z}\\u003cextra\\u003e\\u003c\\u002fextra\\u003e\",\"legendgroup\":\"dwarf\",\"marker\":{\"color\":\"#FECB52\",\"symbol\":\"circle\"},\"mode\":\"markers\",\"name\":\"dwarf\",\"scene\":\"scene\",\"showlegend\":true,\"x\":[0.36328867],\"y\":[0.39887032],\"z\":[0.3248237],\"type\":\"scatter3d\"},{\"hovertemplate\":\"color=smiled\\u003cbr\\u003e0=%{x}\\u003cbr\\u003e1=%{y}\\u003cbr\\u003e2=%{z}\\u003cextra\\u003e\\u003c\\u002fextra\\u003e\",\"legendgroup\":\"smiled\",\"marker\":{\"color\":\"#636efa\",\"symbol\":\"circle\"},\"mode\":\"markers\",\"name\":\"smiled\",\"scene\":\"scene\",\"showlegend\":true,\"x\":[0.14846762],\"y\":[0.3695399],\"z\":[0.5662704],\"type\":\"scatter3d\"},{\"hovertemplate\":\"color=alone\\u003cbr\\u003e0=%{x}\\u003cbr\\u003e1=%{y}\\u003cbr\\u003e2=%{z}\\u003cextra\\u003e\\u003c\\u002fextra\\u003e\",\"legendgroup\":\"alone\",\"marker\":{\"color\":\"#EF553B\",\"symbol\":\"circle\"},\"mode\":\"markers\",\"name\":\"alone\",\"scene\":\"scene\",\"showlegend\":true,\"x\":[0.27081782],\"y\":[-0.011484578],\"z\":[-0.45213646],\"type\":\"scatter3d\"},{\"hovertemplate\":\"color=storm\\u003cbr\\u003e0=%{x}\\u003cbr\\u003e1=%{y}\\u003cbr\\u003e2=%{z}\\u003cextra\\u003e\\u003c\\u002fextra\\u003e\",\"legendgroup\":\"storm\",\"marker\":{\"color\":\"#00cc96\",\"symbol\":\"circle\"},\"mode\":\"markers\",\"name\":\"storm\",\"scene\":\"scene\",\"showlegend\":true,\"x\":[0.21523471],\"y\":[-0.6640134],\"z\":[-0.23050722],\"type\":\"scatter3d\"},{\"hovertemplate\":\"color=raised\\u003cbr\\u003e0=%{x}\\u003cbr\\u003e1=%{y}\\u003cbr\\u003e2=%{z}\\u003cextra\\u003e\\u003c\\u002fextra\\u003e\",\"legendgroup\":\"raised\",\"marker\":{\"color\":\"#ab63fa\",\"symbol\":\"circle\"},\"mode\":\"markers\",\"name\":\"raised\",\"scene\":\"scene\",\"showlegend\":true,\"x\":[-0.27488935],\"y\":[-0.35502315],\"z\":[0.3214705],\"type\":\"scatter3d\"},{\"hovertemplate\":\"color=ask\\u003cbr\\u003e0=%{x}\\u003cbr\\u003e1=%{y}\\u003cbr\\u003e2=%{z}\\u003cextra\\u003e\\u003c\\u002fextra\\u003e\",\"legendgroup\":\"ask\",\"marker\":{\"color\":\"#FFA15A\",\"symbol\":\"circle\"},\"mode\":\"markers\",\"name\":\"ask\",\"scene\":\"scene\",\"showlegend\":true,\"x\":[0.77721965],\"y\":[0.08742377],\"z\":[-0.119333185],\"type\":\"scatter3d\"},{\"hovertemplate\":\"color=ride\\u003cbr\\u003e0=%{x}\\u003cbr\\u003e1=%{y}\\u003cbr\\u003e2=%{z}\\u003cextra\\u003e\\u003c\\u002fextra\\u003e\",\"legendgroup\":\"ride\",\"marker\":{\"color\":\"#19d3f3\",\"symbol\":\"circle\"},\"mode\":\"markers\",\"name\":\"ride\",\"scene\":\"scene\",\"showlegend\":true,\"x\":[0.3064719],\"y\":[-0.19453515],\"z\":[-0.5638224],\"type\":\"scatter3d\"},{\"hovertemplate\":\"color=hope\\u003cbr\\u003e0=%{x}\\u003cbr\\u003e1=%{y}\\u003cbr\\u003e2=%{z}\\u003cextra\\u003e\\u003c\\u002fextra\\u003e\",\"legendgroup\":\"hope\",\"marker\":{\"color\":\"#FF6692\",\"symbol\":\"circle\"},\"mode\":\"markers\",\"name\":\"hope\",\"scene\":\"scene\",\"showlegend\":true,\"x\":[0.6773594],\"y\":[0.06068763],\"z\":[-0.30711985],\"type\":\"scatter3d\"},{\"hovertemplate\":\"color=eye\\u003cbr\\u003e0=%{x}\\u003cbr\\u003e1=%{y}\\u003cbr\\u003e2=%{z}\\u003cextra\\u003e\\u003c\\u002fextra\\u003e\",\"legendgroup\":\"eye\",\"marker\":{\"color\":\"#B6E880\",\"symbol\":\"circle\"},\"mode\":\"markers\",\"name\":\"eye\",\"scene\":\"scene\",\"showlegend\":true,\"x\":[-0.33806673],\"y\":[-0.1668545],\"z\":[-0.04112339],\"type\":\"scatter3d\"},{\"hovertemplate\":\"color=reached\\u003cbr\\u003e0=%{x}\\u003cbr\\u003e1=%{y}\\u003cbr\\u003e2=%{z}\\u003cextra\\u003e\\u003c\\u002fextra\\u003e\",\"legendgroup\":\"reached\",\"marker\":{\"color\":\"#FF97FF\",\"symbol\":\"circle\"},\"mode\":\"markers\",\"name\":\"reached\",\"scene\":\"scene\",\"showlegend\":true,\"x\":[-0.47332674],\"y\":[-0.11388087],\"z\":[-0.01096525],\"type\":\"scatter3d\"},{\"hovertemplate\":\"color=soft\\u003cbr\\u003e0=%{x}\\u003cbr\\u003e1=%{y}\\u003cbr\\u003e2=%{z}\\u003cextra\\u003e\\u003c\\u002fextra\\u003e\",\"legendgroup\":\"soft\",\"marker\":{\"color\":\"#FECB52\",\"symbol\":\"circle\"},\"mode\":\"markers\",\"name\":\"soft\",\"scene\":\"scene\",\"showlegend\":true,\"x\":[-0.64718777],\"y\":[0.27341318],\"z\":[0.26311514],\"type\":\"scatter3d\"},{\"hovertemplate\":\"color=second\\u003cbr\\u003e0=%{x}\\u003cbr\\u003e1=%{y}\\u003cbr\\u003e2=%{z}\\u003cextra\\u003e\\u003c\\u002fextra\\u003e\",\"legendgroup\":\"second\",\"marker\":{\"color\":\"#636efa\",\"symbol\":\"circle\"},\"mode\":\"markers\",\"name\":\"second\",\"scene\":\"scene\",\"showlegend\":true,\"x\":[-0.013188144],\"y\":[-0.67083025],\"z\":[0.1936757],\"type\":\"scatter3d\"},{\"hovertemplate\":\"color=frey\\u003cbr\\u003e0=%{x}\\u003cbr\\u003e1=%{y}\\u003cbr\\u003e2=%{z}\\u003cextra\\u003e\\u003c\\u002fextra\\u003e\",\"legendgroup\":\"frey\",\"marker\":{\"color\":\"#EF553B\",\"symbol\":\"circle\"},\"mode\":\"markers\",\"name\":\"frey\",\"scene\":\"scene\",\"showlegend\":true,\"x\":[0.3613867],\"y\":[-0.5922909],\"z\":[0.5824884],\"type\":\"scatter3d\"},{\"hovertemplate\":\"color=remember\\u003cbr\\u003e0=%{x}\\u003cbr\\u003e1=%{y}\\u003cbr\\u003e2=%{z}\\u003cextra\\u003e\\u003c\\u002fextra\\u003e\",\"legendgroup\":\"remember\",\"marker\":{\"color\":\"#00cc96\",\"symbol\":\"circle\"},\"mode\":\"markers\",\"name\":\"remember\",\"scene\":\"scene\",\"showlegend\":true,\"x\":[0.4604655],\"y\":[0.30116758],\"z\":[-0.2469222],\"type\":\"scatter3d\"},{\"hovertemplate\":\"color=remembered\\u003cbr\\u003e0=%{x}\\u003cbr\\u003e1=%{y}\\u003cbr\\u003e2=%{z}\\u003cextra\\u003e\\u003c\\u002fextra\\u003e\",\"legendgroup\":\"remembered\",\"marker\":{\"color\":\"#ab63fa\",\"symbol\":\"circle\"},\"mode\":\"markers\",\"name\":\"remembered\",\"scene\":\"scene\",\"showlegend\":true,\"x\":[0.018018313],\"y\":[0.14076105],\"z\":[-0.08989429],\"type\":\"scatter3d\"},{\"hovertemplate\":\"color=someone\\u003cbr\\u003e0=%{x}\\u003cbr\\u003e1=%{y}\\u003cbr\\u003e2=%{z}\\u003cextra\\u003e\\u003c\\u002fextra\\u003e\",\"legendgroup\":\"someone\",\"marker\":{\"color\":\"#FFA15A\",\"symbol\":\"circle\"},\"mode\":\"markers\",\"name\":\"someone\",\"scene\":\"scene\",\"showlegend\":true,\"x\":[0.32348222],\"y\":[0.51910174],\"z\":[-0.14707285],\"type\":\"scatter3d\"},{\"hovertemplate\":\"color=coming\\u003cbr\\u003e0=%{x}\\u003cbr\\u003e1=%{y}\\u003cbr\\u003e2=%{z}\\u003cextra\\u003e\\u003c\\u002fextra\\u003e\",\"legendgroup\":\"coming\",\"marker\":{\"color\":\"#19d3f3\",\"symbol\":\"circle\"},\"mode\":\"markers\",\"name\":\"coming\",\"scene\":\"scene\",\"showlegend\":true,\"x\":[0.019841988],\"y\":[0.03089109],\"z\":[-0.63101757],\"type\":\"scatter3d\"},{\"hovertemplate\":\"color=meant\\u003cbr\\u003e0=%{x}\\u003cbr\\u003e1=%{y}\\u003cbr\\u003e2=%{z}\\u003cextra\\u003e\\u003c\\u002fextra\\u003e\",\"legendgroup\":\"meant\",\"marker\":{\"color\":\"#FF6692\",\"symbol\":\"circle\"},\"mode\":\"markers\",\"name\":\"meant\",\"scene\":\"scene\",\"showlegend\":true,\"x\":[0.6768511],\"y\":[0.21890432],\"z\":[-0.24601737],\"type\":\"scatter3d\"},{\"hovertemplate\":\"color=cannot\\u003cbr\\u003e0=%{x}\\u003cbr\\u003e1=%{y}\\u003cbr\\u003e2=%{z}\\u003cextra\\u003e\\u003c\\u002fextra\\u003e\",\"legendgroup\":\"cannot\",\"marker\":{\"color\":\"#B6E880\",\"symbol\":\"circle\"},\"mode\":\"markers\",\"name\":\"cannot\",\"scene\":\"scene\",\"showlegend\":true,\"x\":[0.6890414],\"y\":[0.035356283],\"z\":[-0.28655547],\"type\":\"scatter3d\"},{\"hovertemplate\":\"color=hold\\u003cbr\\u003e0=%{x}\\u003cbr\\u003e1=%{y}\\u003cbr\\u003e2=%{z}\\u003cextra\\u003e\\u003c\\u002fextra\\u003e\",\"legendgroup\":\"hold\",\"marker\":{\"color\":\"#FF97FF\",\"symbol\":\"circle\"},\"mode\":\"markers\",\"name\":\"hold\",\"scene\":\"scene\",\"showlegend\":true,\"x\":[0.3872984],\"y\":[-0.14241907],\"z\":[-0.2268961],\"type\":\"scatter3d\"},{\"hovertemplate\":\"color=morning\\u003cbr\\u003e0=%{x}\\u003cbr\\u003e1=%{y}\\u003cbr\\u003e2=%{z}\\u003cextra\\u003e\\u003c\\u002fextra\\u003e\",\"legendgroup\":\"morning\",\"marker\":{\"color\":\"#FECB52\",\"symbol\":\"circle\"},\"mode\":\"markers\",\"name\":\"morning\",\"scene\":\"scene\",\"showlegend\":true,\"x\":[-0.33749223],\"y\":[-0.09166597],\"z\":[-0.31964317],\"type\":\"scatter3d\"},{\"hovertemplate\":\"color=ten\\u003cbr\\u003e0=%{x}\\u003cbr\\u003e1=%{y}\\u003cbr\\u003e2=%{z}\\u003cextra\\u003e\\u003c\\u002fextra\\u003e\",\"legendgroup\":\"ten\",\"marker\":{\"color\":\"#636efa\",\"symbol\":\"circle\"},\"mode\":\"markers\",\"name\":\"ten\",\"scene\":\"scene\",\"showlegend\":true,\"x\":[0.09008399],\"y\":[-0.61561435],\"z\":[-0.22042269],\"type\":\"scatter3d\"},{\"hovertemplate\":\"color=teeth\\u003cbr\\u003e0=%{x}\\u003cbr\\u003e1=%{y}\\u003cbr\\u003e2=%{z}\\u003cextra\\u003e\\u003c\\u002fextra\\u003e\",\"legendgroup\":\"teeth\",\"marker\":{\"color\":\"#EF553B\",\"symbol\":\"circle\"},\"mode\":\"markers\",\"name\":\"teeth\",\"scene\":\"scene\",\"showlegend\":true,\"x\":[-0.6742202],\"y\":[0.30295494],\"z\":[0.14169192],\"type\":\"scatter3d\"},{\"hovertemplate\":\"color=else\\u003cbr\\u003e0=%{x}\\u003cbr\\u003e1=%{y}\\u003cbr\\u003e2=%{z}\\u003cextra\\u003e\\u003c\\u002fextra\\u003e\",\"legendgroup\":\"else\",\"marker\":{\"color\":\"#00cc96\",\"symbol\":\"circle\"},\"mode\":\"markers\",\"name\":\"else\",\"scene\":\"scene\",\"showlegend\":true,\"x\":[0.4904328],\"y\":[0.39579245],\"z\":[-0.33885655],\"type\":\"scatter3d\"},{\"hovertemplate\":\"color=throne\\u003cbr\\u003e0=%{x}\\u003cbr\\u003e1=%{y}\\u003cbr\\u003e2=%{z}\\u003cextra\\u003e\\u003c\\u002fextra\\u003e\",\"legendgroup\":\"throne\",\"marker\":{\"color\":\"#ab63fa\",\"symbol\":\"circle\"},\"mode\":\"markers\",\"name\":\"throne\",\"scene\":\"scene\",\"showlegend\":true,\"x\":[0.22181284],\"y\":[-0.56750584],\"z\":[0.034886442],\"type\":\"scatter3d\"},{\"hovertemplate\":\"color=command\\u003cbr\\u003e0=%{x}\\u003cbr\\u003e1=%{y}\\u003cbr\\u003e2=%{z}\\u003cextra\\u003e\\u003c\\u002fextra\\u003e\",\"legendgroup\":\"command\",\"marker\":{\"color\":\"#FFA15A\",\"symbol\":\"circle\"},\"mode\":\"markers\",\"name\":\"command\",\"scene\":\"scene\",\"showlegend\":true,\"x\":[0.57260543],\"y\":[-0.5492687],\"z\":[0.124306],\"type\":\"scatter3d\"},{\"hovertemplate\":\"color=fat\\u003cbr\\u003e0=%{x}\\u003cbr\\u003e1=%{y}\\u003cbr\\u003e2=%{z}\\u003cextra\\u003e\\u003c\\u002fextra\\u003e\",\"legendgroup\":\"fat\",\"marker\":{\"color\":\"#19d3f3\",\"symbol\":\"circle\"},\"mode\":\"markers\",\"name\":\"fat\",\"scene\":\"scene\",\"showlegend\":true,\"x\":[-0.13193853],\"y\":[-0.04150048],\"z\":[0.5133114],\"type\":\"scatter3d\"},{\"hovertemplate\":\"color=truth\\u003cbr\\u003e0=%{x}\\u003cbr\\u003e1=%{y}\\u003cbr\\u003e2=%{z}\\u003cextra\\u003e\\u003c\\u002fextra\\u003e\",\"legendgroup\":\"truth\",\"marker\":{\"color\":\"#FF6692\",\"symbol\":\"circle\"},\"mode\":\"markers\",\"name\":\"truth\",\"scene\":\"scene\",\"showlegend\":true,\"x\":[0.66109914],\"y\":[0.28206632],\"z\":[-0.10456527],\"type\":\"scatter3d\"},{\"hovertemplate\":\"color=walder\\u003cbr\\u003e0=%{x}\\u003cbr\\u003e1=%{y}\\u003cbr\\u003e2=%{z}\\u003cextra\\u003e\\u003c\\u002fextra\\u003e\",\"legendgroup\":\"walder\",\"marker\":{\"color\":\"#B6E880\",\"symbol\":\"circle\"},\"mode\":\"markers\",\"name\":\"walder\",\"scene\":\"scene\",\"showlegend\":true,\"x\":[0.31013942],\"y\":[-0.50480175],\"z\":[0.51860464],\"type\":\"scatter3d\"},{\"hovertemplate\":\"color=commander\\u003cbr\\u003e0=%{x}\\u003cbr\\u003e1=%{y}\\u003cbr\\u003e2=%{z}\\u003cextra\\u003e\\u003c\\u002fextra\\u003e\",\"legendgroup\":\"commander\",\"marker\":{\"color\":\"#FF97FF\",\"symbol\":\"circle\"},\"mode\":\"markers\",\"name\":\"commander\",\"scene\":\"scene\",\"showlegend\":true,\"x\":[0.32334632],\"y\":[-0.61030924],\"z\":[0.19591749],\"type\":\"scatter3d\"},{\"hovertemplate\":\"color=doubt\\u003cbr\\u003e0=%{x}\\u003cbr\\u003e1=%{y}\\u003cbr\\u003e2=%{z}\\u003cextra\\u003e\\u003c\\u002fextra\\u003e\",\"legendgroup\":\"doubt\",\"marker\":{\"color\":\"#FECB52\",\"symbol\":\"circle\"},\"mode\":\"markers\",\"name\":\"doubt\",\"scene\":\"scene\",\"showlegend\":true,\"x\":[0.72726536],\"y\":[-0.1492428],\"z\":[-0.15904179],\"type\":\"scatter3d\"},{\"hovertemplate\":\"color=ground\\u003cbr\\u003e0=%{x}\\u003cbr\\u003e1=%{y}\\u003cbr\\u003e2=%{z}\\u003cextra\\u003e\\u003c\\u002fextra\\u003e\",\"legendgroup\":\"ground\",\"marker\":{\"color\":\"#636efa\",\"symbol\":\"circle\"},\"mode\":\"markers\",\"name\":\"ground\",\"scene\":\"scene\",\"showlegend\":true,\"x\":[-0.76451886],\"y\":[0.0066821426],\"z\":[-0.15479213],\"type\":\"scatter3d\"},{\"hovertemplate\":\"color=jorah\\u003cbr\\u003e0=%{x}\\u003cbr\\u003e1=%{y}\\u003cbr\\u003e2=%{z}\\u003cextra\\u003e\\u003c\\u002fextra\\u003e\",\"legendgroup\":\"jorah\",\"marker\":{\"color\":\"#EF553B\",\"symbol\":\"circle\"},\"mode\":\"markers\",\"name\":\"jorah\",\"scene\":\"scene\",\"showlegend\":true,\"x\":[0.12067184],\"y\":[0.055100948],\"z\":[0.26858],\"type\":\"scatter3d\"},{\"hovertemplate\":\"color=cup\\u003cbr\\u003e0=%{x}\\u003cbr\\u003e1=%{y}\\u003cbr\\u003e2=%{z}\\u003cextra\\u003e\\u003c\\u002fextra\\u003e\",\"legendgroup\":\"cup\",\"marker\":{\"color\":\"#00cc96\",\"symbol\":\"circle\"},\"mode\":\"markers\",\"name\":\"cup\",\"scene\":\"scene\",\"showlegend\":true,\"x\":[-0.08529684],\"y\":[0.20779237],\"z\":[0.39016953],\"type\":\"scatter3d\"},{\"hovertemplate\":\"color=outside\\u003cbr\\u003e0=%{x}\\u003cbr\\u003e1=%{y}\\u003cbr\\u003e2=%{z}\\u003cextra\\u003e\\u003c\\u002fextra\\u003e\",\"legendgroup\":\"outside\",\"marker\":{\"color\":\"#ab63fa\",\"symbol\":\"circle\"},\"mode\":\"markers\",\"name\":\"outside\",\"scene\":\"scene\",\"showlegend\":true,\"x\":[-0.43857932],\"y\":[-0.4072739],\"z\":[-0.3632578],\"type\":\"scatter3d\"},{\"hovertemplate\":\"color=known\\u003cbr\\u003e0=%{x}\\u003cbr\\u003e1=%{y}\\u003cbr\\u003e2=%{z}\\u003cextra\\u003e\\u003c\\u002fextra\\u003e\",\"legendgroup\":\"known\",\"marker\":{\"color\":\"#FFA15A\",\"symbol\":\"circle\"},\"mode\":\"markers\",\"name\":\"known\",\"scene\":\"scene\",\"showlegend\":true,\"x\":[0.59392244],\"y\":[-0.04325141],\"z\":[-0.14984754],\"type\":\"scatter3d\"},{\"hovertemplate\":\"color=wore\\u003cbr\\u003e0=%{x}\\u003cbr\\u003e1=%{y}\\u003cbr\\u003e2=%{z}\\u003cextra\\u003e\\u003c\\u002fextra\\u003e\",\"legendgroup\":\"wore\",\"marker\":{\"color\":\"#19d3f3\",\"symbol\":\"circle\"},\"mode\":\"markers\",\"name\":\"wore\",\"scene\":\"scene\",\"showlegend\":true,\"x\":[-0.4824594],\"y\":[-0.42332286],\"z\":[0.36090493],\"type\":\"scatter3d\"},{\"hovertemplate\":\"color=ran\\u003cbr\\u003e0=%{x}\\u003cbr\\u003e1=%{y}\\u003cbr\\u003e2=%{z}\\u003cextra\\u003e\\u003c\\u002fextra\\u003e\",\"legendgroup\":\"ran\",\"marker\":{\"color\":\"#FF6692\",\"symbol\":\"circle\"},\"mode\":\"markers\",\"name\":\"ran\",\"scene\":\"scene\",\"showlegend\":true,\"x\":[-0.6867187],\"y\":[0.10005444],\"z\":[0.019399539],\"type\":\"scatter3d\"},{\"hovertemplate\":\"color=gate\\u003cbr\\u003e0=%{x}\\u003cbr\\u003e1=%{y}\\u003cbr\\u003e2=%{z}\\u003cextra\\u003e\\u003c\\u002fextra\\u003e\",\"legendgroup\":\"gate\",\"marker\":{\"color\":\"#B6E880\",\"symbol\":\"circle\"},\"mode\":\"markers\",\"name\":\"gate\",\"scene\":\"scene\",\"showlegend\":true,\"x\":[-0.38166696],\"y\":[-0.5453846],\"z\":[-0.2504319],\"type\":\"scatter3d\"},{\"hovertemplate\":\"color=held\\u003cbr\\u003e0=%{x}\\u003cbr\\u003e1=%{y}\\u003cbr\\u003e2=%{z}\\u003cextra\\u003e\\u003c\\u002fextra\\u003e\",\"legendgroup\":\"held\",\"marker\":{\"color\":\"#FF97FF\",\"symbol\":\"circle\"},\"mode\":\"markers\",\"name\":\"held\",\"scene\":\"scene\",\"showlegend\":true,\"x\":[-0.28842592],\"y\":[-0.24979231],\"z\":[0.40467006],\"type\":\"scatter3d\"},{\"hovertemplate\":\"color=room\\u003cbr\\u003e0=%{x}\\u003cbr\\u003e1=%{y}\\u003cbr\\u003e2=%{z}\\u003cextra\\u003e\\u003c\\u002fextra\\u003e\",\"legendgroup\":\"room\",\"marker\":{\"color\":\"#FECB52\",\"symbol\":\"circle\"},\"mode\":\"markers\",\"name\":\"room\",\"scene\":\"scene\",\"showlegend\":true,\"x\":[-0.57894945],\"y\":[-0.2425796],\"z\":[-0.19458264],\"type\":\"scatter3d\"},{\"hovertemplate\":\"color=closed\\u003cbr\\u003e0=%{x}\\u003cbr\\u003e1=%{y}\\u003cbr\\u003e2=%{z}\\u003cextra\\u003e\\u003c\\u002fextra\\u003e\",\"legendgroup\":\"closed\",\"marker\":{\"color\":\"#636efa\",\"symbol\":\"circle\"},\"mode\":\"markers\",\"name\":\"closed\",\"scene\":\"scene\",\"showlegend\":true,\"x\":[-0.47494698],\"y\":[0.010374442],\"z\":[-0.025495328],\"type\":\"scatter3d\"},{\"hovertemplate\":\"color=home\\u003cbr\\u003e0=%{x}\\u003cbr\\u003e1=%{y}\\u003cbr\\u003e2=%{z}\\u003cextra\\u003e\\u003c\\u002fextra\\u003e\",\"legendgroup\":\"home\",\"marker\":{\"color\":\"#EF553B\",\"symbol\":\"circle\"},\"mode\":\"markers\",\"name\":\"home\",\"scene\":\"scene\",\"showlegend\":true,\"x\":[0.45769632],\"y\":[-0.08918001],\"z\":[-0.39360473],\"type\":\"scatter3d\"},{\"hovertemplate\":\"color=matter\\u003cbr\\u003e0=%{x}\\u003cbr\\u003e1=%{y}\\u003cbr\\u003e2=%{z}\\u003cextra\\u003e\\u003c\\u002fextra\\u003e\",\"legendgroup\":\"matter\",\"marker\":{\"color\":\"#00cc96\",\"symbol\":\"circle\"},\"mode\":\"markers\",\"name\":\"matter\",\"scene\":\"scene\",\"showlegend\":true,\"x\":[0.5963185],\"y\":[0.16405028],\"z\":[-0.28293064],\"type\":\"scatter3d\"},{\"hovertemplate\":\"color=wood\\u003cbr\\u003e0=%{x}\\u003cbr\\u003e1=%{y}\\u003cbr\\u003e2=%{z}\\u003cextra\\u003e\\u003c\\u002fextra\\u003e\",\"legendgroup\":\"wood\",\"marker\":{\"color\":\"#ab63fa\",\"symbol\":\"circle\"},\"mode\":\"markers\",\"name\":\"wood\",\"scene\":\"scene\",\"showlegend\":true,\"x\":[-0.6992183],\"y\":[-0.2852415],\"z\":[-0.20978713],\"type\":\"scatter3d\"},{\"hovertemplate\":\"color=south\\u003cbr\\u003e0=%{x}\\u003cbr\\u003e1=%{y}\\u003cbr\\u003e2=%{z}\\u003cextra\\u003e\\u003c\\u002fextra\\u003e\",\"legendgroup\":\"south\",\"marker\":{\"color\":\"#FFA15A\",\"symbol\":\"circle\"},\"mode\":\"markers\",\"name\":\"south\",\"scene\":\"scene\",\"showlegend\":true,\"x\":[-0.002878992],\"y\":[-0.67587876],\"z\":[-0.4280912],\"type\":\"scatter3d\"},{\"hovertemplate\":\"color=sky\\u003cbr\\u003e0=%{x}\\u003cbr\\u003e1=%{y}\\u003cbr\\u003e2=%{z}\\u003cextra\\u003e\\u003c\\u002fextra\\u003e\",\"legendgroup\":\"sky\",\"marker\":{\"color\":\"#19d3f3\",\"symbol\":\"circle\"},\"mode\":\"markers\",\"name\":\"sky\",\"scene\":\"scene\",\"showlegend\":true,\"x\":[-0.63826865],\"y\":[-0.18421824],\"z\":[-0.26279637],\"type\":\"scatter3d\"},{\"hovertemplate\":\"color=dozen\\u003cbr\\u003e0=%{x}\\u003cbr\\u003e1=%{y}\\u003cbr\\u003e2=%{z}\\u003cextra\\u003e\\u003c\\u002fextra\\u003e\",\"legendgroup\":\"dozen\",\"marker\":{\"color\":\"#FF6692\",\"symbol\":\"circle\"},\"mode\":\"markers\",\"name\":\"dozen\",\"scene\":\"scene\",\"showlegend\":true,\"x\":[-0.2734386],\"y\":[-0.6775923],\"z\":[-0.2632044],\"type\":\"scatter3d\"},{\"hovertemplate\":\"color=people\\u003cbr\\u003e0=%{x}\\u003cbr\\u003e1=%{y}\\u003cbr\\u003e2=%{z}\\u003cextra\\u003e\\u003c\\u002fextra\\u003e\",\"legendgroup\":\"people\",\"marker\":{\"color\":\"#B6E880\",\"symbol\":\"circle\"},\"mode\":\"markers\",\"name\":\"people\",\"scene\":\"scene\",\"showlegend\":true,\"x\":[0.3688541],\"y\":[-0.27700588],\"z\":[-0.58485067],\"type\":\"scatter3d\"},{\"hovertemplate\":\"color=wed\\u003cbr\\u003e0=%{x}\\u003cbr\\u003e1=%{y}\\u003cbr\\u003e2=%{z}\\u003cextra\\u003e\\u003c\\u002fextra\\u003e\",\"legendgroup\":\"wed\",\"marker\":{\"color\":\"#FF97FF\",\"symbol\":\"circle\"},\"mode\":\"markers\",\"name\":\"wed\",\"scene\":\"scene\",\"showlegend\":true,\"x\":[0.7442783],\"y\":[-0.41801402],\"z\":[0.24413672],\"type\":\"scatter3d\"},{\"hovertemplate\":\"color=neck\\u003cbr\\u003e0=%{x}\\u003cbr\\u003e1=%{y}\\u003cbr\\u003e2=%{z}\\u003cextra\\u003e\\u003c\\u002fextra\\u003e\",\"legendgroup\":\"neck\",\"marker\":{\"color\":\"#FECB52\",\"symbol\":\"circle\"},\"mode\":\"markers\",\"name\":\"neck\",\"scene\":\"scene\",\"showlegend\":true,\"x\":[-0.69701046],\"y\":[0.03162512],\"z\":[0.17818485],\"type\":\"scatter3d\"},{\"hovertemplate\":\"color=food\\u003cbr\\u003e0=%{x}\\u003cbr\\u003e1=%{y}\\u003cbr\\u003e2=%{z}\\u003cextra\\u003e\\u003c\\u002fextra\\u003e\",\"legendgroup\":\"food\",\"marker\":{\"color\":\"#636efa\",\"symbol\":\"circle\"},\"mode\":\"markers\",\"name\":\"food\",\"scene\":\"scene\",\"showlegend\":true,\"x\":[0.060119316],\"y\":[0.15547189],\"z\":[-0.48807013],\"type\":\"scatter3d\"},{\"hovertemplate\":\"color=riverrun\\u003cbr\\u003e0=%{x}\\u003cbr\\u003e1=%{y}\\u003cbr\\u003e2=%{z}\\u003cextra\\u003e\\u003c\\u002fextra\\u003e\",\"legendgroup\":\"riverrun\",\"marker\":{\"color\":\"#EF553B\",\"symbol\":\"circle\"},\"mode\":\"markers\",\"name\":\"riverrun\",\"scene\":\"scene\",\"showlegend\":true,\"x\":[0.520995],\"y\":[-0.6048866],\"z\":[0.12749101],\"type\":\"scatter3d\"},{\"hovertemplate\":\"color=near\\u003cbr\\u003e0=%{x}\\u003cbr\\u003e1=%{y}\\u003cbr\\u003e2=%{z}\\u003cextra\\u003e\\u003c\\u002fextra\\u003e\",\"legendgroup\":\"near\",\"marker\":{\"color\":\"#00cc96\",\"symbol\":\"circle\"},\"mode\":\"markers\",\"name\":\"near\",\"scene\":\"scene\",\"showlegend\":true,\"x\":[-0.2833256],\"y\":[-0.44174308],\"z\":[-0.31422296],\"type\":\"scatter3d\"},{\"hovertemplate\":\"color=instead\\u003cbr\\u003e0=%{x}\\u003cbr\\u003e1=%{y}\\u003cbr\\u003e2=%{z}\\u003cextra\\u003e\\u003c\\u002fextra\\u003e\",\"legendgroup\":\"instead\",\"marker\":{\"color\":\"#ab63fa\",\"symbol\":\"circle\"},\"mode\":\"markers\",\"name\":\"instead\",\"scene\":\"scene\",\"showlegend\":true,\"x\":[0.00508669],\"y\":[-0.024898395],\"z\":[0.15123928],\"type\":\"scatter3d\"},{\"hovertemplate\":\"color=talk\\u003cbr\\u003e0=%{x}\\u003cbr\\u003e1=%{y}\\u003cbr\\u003e2=%{z}\\u003cextra\\u003e\\u003c\\u002fextra\\u003e\",\"legendgroup\":\"talk\",\"marker\":{\"color\":\"#FFA15A\",\"symbol\":\"circle\"},\"mode\":\"markers\",\"name\":\"talk\",\"scene\":\"scene\",\"showlegend\":true,\"x\":[0.58691835],\"y\":[0.17937994],\"z\":[-0.41374213],\"type\":\"scatter3d\"},{\"hovertemplate\":\"color=turn\\u003cbr\\u003e0=%{x}\\u003cbr\\u003e1=%{y}\\u003cbr\\u003e2=%{z}\\u003cextra\\u003e\\u003c\\u002fextra\\u003e\",\"legendgroup\":\"turn\",\"marker\":{\"color\":\"#19d3f3\",\"symbol\":\"circle\"},\"mode\":\"markers\",\"name\":\"turn\",\"scene\":\"scene\",\"showlegend\":true,\"x\":[0.1887793],\"y\":[0.12965044],\"z\":[-0.36637318],\"type\":\"scatter3d\"},{\"hovertemplate\":\"color=none\\u003cbr\\u003e0=%{x}\\u003cbr\\u003e1=%{y}\\u003cbr\\u003e2=%{z}\\u003cextra\\u003e\\u003c\\u002fextra\\u003e\",\"legendgroup\":\"none\",\"marker\":{\"color\":\"#FF6692\",\"symbol\":\"circle\"},\"mode\":\"markers\",\"name\":\"none\",\"scene\":\"scene\",\"showlegend\":true,\"x\":[0.60296994],\"y\":[0.116045386],\"z\":[-0.32683772],\"type\":\"scatter3d\"},{\"hovertemplate\":\"color=ships\\u003cbr\\u003e0=%{x}\\u003cbr\\u003e1=%{y}\\u003cbr\\u003e2=%{z}\\u003cextra\\u003e\\u003c\\u002fextra\\u003e\",\"legendgroup\":\"ships\",\"marker\":{\"color\":\"#B6E880\",\"symbol\":\"circle\"},\"mode\":\"markers\",\"name\":\"ships\",\"scene\":\"scene\",\"showlegend\":true,\"x\":[0.12295557],\"y\":[-0.60584736],\"z\":[-0.5589048],\"type\":\"scatter3d\"},{\"hovertemplate\":\"color=tyrell\\u003cbr\\u003e0=%{x}\\u003cbr\\u003e1=%{y}\\u003cbr\\u003e2=%{z}\\u003cextra\\u003e\\u003c\\u002fextra\\u003e\",\"legendgroup\":\"tyrell\",\"marker\":{\"color\":\"#FF97FF\",\"symbol\":\"circle\"},\"mode\":\"markers\",\"name\":\"tyrell\",\"scene\":\"scene\",\"showlegend\":true,\"x\":[0.5078047],\"y\":[-0.6088911],\"z\":[0.51045084],\"type\":\"scatter3d\"},{\"hovertemplate\":\"color=moon\\u003cbr\\u003e0=%{x}\\u003cbr\\u003e1=%{y}\\u003cbr\\u003e2=%{z}\\u003cextra\\u003e\\u003c\\u002fextra\\u003e\",\"legendgroup\":\"moon\",\"marker\":{\"color\":\"#FECB52\",\"symbol\":\"circle\"},\"mode\":\"markers\",\"name\":\"moon\",\"scene\":\"scene\",\"showlegend\":true,\"x\":[-0.35266554],\"y\":[-0.3347199],\"z\":[-0.14879209],\"type\":\"scatter3d\"},{\"hovertemplate\":\"color=bolton\\u003cbr\\u003e0=%{x}\\u003cbr\\u003e1=%{y}\\u003cbr\\u003e2=%{z}\\u003cextra\\u003e\\u003c\\u002fextra\\u003e\",\"legendgroup\":\"bolton\",\"marker\":{\"color\":\"#636efa\",\"symbol\":\"circle\"},\"mode\":\"markers\",\"name\":\"bolton\",\"scene\":\"scene\",\"showlegend\":true,\"x\":[0.50574595],\"y\":[-0.46351662],\"z\":[0.38264924],\"type\":\"scatter3d\"},{\"hovertemplate\":\"color=lips\\u003cbr\\u003e0=%{x}\\u003cbr\\u003e1=%{y}\\u003cbr\\u003e2=%{z}\\u003cextra\\u003e\\u003c\\u002fextra\\u003e\",\"legendgroup\":\"lips\",\"marker\":{\"color\":\"#EF553B\",\"symbol\":\"circle\"},\"mode\":\"markers\",\"name\":\"lips\",\"scene\":\"scene\",\"showlegend\":true,\"x\":[-0.4149099],\"y\":[0.497197],\"z\":[0.41631857],\"type\":\"scatter3d\"},{\"hovertemplate\":\"color=summer\\u003cbr\\u003e0=%{x}\\u003cbr\\u003e1=%{y}\\u003cbr\\u003e2=%{z}\\u003cextra\\u003e\\u003c\\u002fextra\\u003e\",\"legendgroup\":\"summer\",\"marker\":{\"color\":\"#00cc96\",\"symbol\":\"circle\"},\"mode\":\"markers\",\"name\":\"summer\",\"scene\":\"scene\",\"showlegend\":true,\"x\":[-0.2534777],\"y\":[0.03291899],\"z\":[-0.39742383],\"type\":\"scatter3d\"},{\"hovertemplate\":\"color=shadow\\u003cbr\\u003e0=%{x}\\u003cbr\\u003e1=%{y}\\u003cbr\\u003e2=%{z}\\u003cextra\\u003e\\u003c\\u002fextra\\u003e\",\"legendgroup\":\"shadow\",\"marker\":{\"color\":\"#ab63fa\",\"symbol\":\"circle\"},\"mode\":\"markers\",\"name\":\"shadow\",\"scene\":\"scene\",\"showlegend\":true,\"x\":[-0.43001845],\"y\":[-0.47561795],\"z\":[-0.23890117],\"type\":\"scatter3d\"},{\"hovertemplate\":\"color=watched\\u003cbr\\u003e0=%{x}\\u003cbr\\u003e1=%{y}\\u003cbr\\u003e2=%{z}\\u003cextra\\u003e\\u003c\\u002fextra\\u003e\",\"legendgroup\":\"watched\",\"marker\":{\"color\":\"#FFA15A\",\"symbol\":\"circle\"},\"mode\":\"markers\",\"name\":\"watched\",\"scene\":\"scene\",\"showlegend\":true,\"x\":[-0.43755278],\"y\":[0.06535789],\"z\":[-0.011334315],\"type\":\"scatter3d\"},{\"hovertemplate\":\"color=leather\\u003cbr\\u003e0=%{x}\\u003cbr\\u003e1=%{y}\\u003cbr\\u003e2=%{z}\\u003cextra\\u003e\\u003c\\u002fextra\\u003e\",\"legendgroup\":\"leather\",\"marker\":{\"color\":\"#19d3f3\",\"symbol\":\"circle\"},\"mode\":\"markers\",\"name\":\"leather\",\"scene\":\"scene\",\"showlegend\":true,\"x\":[-0.7182944],\"y\":[-0.22542076],\"z\":[0.26155716],\"type\":\"scatter3d\"},{\"hovertemplate\":\"color=times\\u003cbr\\u003e0=%{x}\\u003cbr\\u003e1=%{y}\\u003cbr\\u003e2=%{z}\\u003cextra\\u003e\\u003c\\u002fextra\\u003e\",\"legendgroup\":\"times\",\"marker\":{\"color\":\"#FF6692\",\"symbol\":\"circle\"},\"mode\":\"markers\",\"name\":\"times\",\"scene\":\"scene\",\"showlegend\":true,\"x\":[0.2395934],\"y\":[-0.33126488],\"z\":[-0.52240634],\"type\":\"scatter3d\"},{\"hovertemplate\":\"color=varys\\u003cbr\\u003e0=%{x}\\u003cbr\\u003e1=%{y}\\u003cbr\\u003e2=%{z}\\u003cextra\\u003e\\u003c\\u002fextra\\u003e\",\"legendgroup\":\"varys\",\"marker\":{\"color\":\"#B6E880\",\"symbol\":\"circle\"},\"mode\":\"markers\",\"name\":\"varys\",\"scene\":\"scene\",\"showlegend\":true,\"x\":[0.524167],\"y\":[0.1622968],\"z\":[0.4097624],\"type\":\"scatter3d\"},{\"hovertemplate\":\"color=shoulder\\u003cbr\\u003e0=%{x}\\u003cbr\\u003e1=%{y}\\u003cbr\\u003e2=%{z}\\u003cextra\\u003e\\u003c\\u002fextra\\u003e\",\"legendgroup\":\"shoulder\",\"marker\":{\"color\":\"#FF97FF\",\"symbol\":\"circle\"},\"mode\":\"markers\",\"name\":\"shoulder\",\"scene\":\"scene\",\"showlegend\":true,\"x\":[-0.58075386],\"y\":[-0.0783253],\"z\":[0.3897691],\"type\":\"scatter3d\"},{\"hovertemplate\":\"color=septon\\u003cbr\\u003e0=%{x}\\u003cbr\\u003e1=%{y}\\u003cbr\\u003e2=%{z}\\u003cextra\\u003e\\u003c\\u002fextra\\u003e\",\"legendgroup\":\"septon\",\"marker\":{\"color\":\"#FECB52\",\"symbol\":\"circle\"},\"mode\":\"markers\",\"name\":\"septon\",\"scene\":\"scene\",\"showlegend\":true,\"x\":[0.29983127],\"y\":[-0.505667],\"z\":[0.10894875],\"type\":\"scatter3d\"},{\"hovertemplate\":\"color=warm\\u003cbr\\u003e0=%{x}\\u003cbr\\u003e1=%{y}\\u003cbr\\u003e2=%{z}\\u003cextra\\u003e\\u003c\\u002fextra\\u003e\",\"legendgroup\":\"warm\",\"marker\":{\"color\":\"#636efa\",\"symbol\":\"circle\"},\"mode\":\"markers\",\"name\":\"warm\",\"scene\":\"scene\",\"showlegend\":true,\"x\":[-0.43454775],\"y\":[0.36853626],\"z\":[-0.31952712],\"type\":\"scatter3d\"},{\"hovertemplate\":\"color=believe\\u003cbr\\u003e0=%{x}\\u003cbr\\u003e1=%{y}\\u003cbr\\u003e2=%{z}\\u003cextra\\u003e\\u003c\\u002fextra\\u003e\",\"legendgroup\":\"believe\",\"marker\":{\"color\":\"#EF553B\",\"symbol\":\"circle\"},\"mode\":\"markers\",\"name\":\"believe\",\"scene\":\"scene\",\"showlegend\":true,\"x\":[0.74853426],\"y\":[0.1643183],\"z\":[-0.13674045],\"type\":\"scatter3d\"},{\"hovertemplate\":\"color=caught\\u003cbr\\u003e0=%{x}\\u003cbr\\u003e1=%{y}\\u003cbr\\u003e2=%{z}\\u003cextra\\u003e\\u003c\\u002fextra\\u003e\",\"legendgroup\":\"caught\",\"marker\":{\"color\":\"#00cc96\",\"symbol\":\"circle\"},\"mode\":\"markers\",\"name\":\"caught\",\"scene\":\"scene\",\"showlegend\":true,\"x\":[-0.5283967],\"y\":[0.17066711],\"z\":[0.032587245],\"type\":\"scatter3d\"},{\"hovertemplate\":\"color=least\\u003cbr\\u003e0=%{x}\\u003cbr\\u003e1=%{y}\\u003cbr\\u003e2=%{z}\\u003cextra\\u003e\\u003c\\u002fextra\\u003e\",\"legendgroup\":\"least\",\"marker\":{\"color\":\"#ab63fa\",\"symbol\":\"circle\"},\"mode\":\"markers\",\"name\":\"least\",\"scene\":\"scene\",\"showlegend\":true,\"x\":[0.5221191],\"y\":[0.10689995],\"z\":[-0.34646735],\"type\":\"scatter3d\"},{\"hovertemplate\":\"color=guards\\u003cbr\\u003e0=%{x}\\u003cbr\\u003e1=%{y}\\u003cbr\\u003e2=%{z}\\u003cextra\\u003e\\u003c\\u002fextra\\u003e\",\"legendgroup\":\"guards\",\"marker\":{\"color\":\"#FFA15A\",\"symbol\":\"circle\"},\"mode\":\"markers\",\"name\":\"guards\",\"scene\":\"scene\",\"showlegend\":true,\"x\":[-0.048685238],\"y\":[-0.63358176],\"z\":[-0.06197942],\"type\":\"scatter3d\"},{\"hovertemplate\":\"color=answer\\u003cbr\\u003e0=%{x}\\u003cbr\\u003e1=%{y}\\u003cbr\\u003e2=%{z}\\u003cextra\\u003e\\u003c\\u002fextra\\u003e\",\"legendgroup\":\"answer\",\"marker\":{\"color\":\"#19d3f3\",\"symbol\":\"circle\"},\"mode\":\"markers\",\"name\":\"answer\",\"scene\":\"scene\",\"showlegend\":true,\"x\":[0.52551],\"y\":[0.3783969],\"z\":[-0.013549618],\"type\":\"scatter3d\"},{\"hovertemplate\":\"color=blade\\u003cbr\\u003e0=%{x}\\u003cbr\\u003e1=%{y}\\u003cbr\\u003e2=%{z}\\u003cextra\\u003e\\u003c\\u002fextra\\u003e\",\"legendgroup\":\"blade\",\"marker\":{\"color\":\"#FF6692\",\"symbol\":\"circle\"},\"mode\":\"markers\",\"name\":\"blade\",\"scene\":\"scene\",\"showlegend\":true,\"x\":[-0.5336704],\"y\":[0.13274872],\"z\":[0.34813368],\"type\":\"scatter3d\"},{\"hovertemplate\":\"color=god\\u003cbr\\u003e0=%{x}\\u003cbr\\u003e1=%{y}\\u003cbr\\u003e2=%{z}\\u003cextra\\u003e\\u003c\\u002fextra\\u003e\",\"legendgroup\":\"god\",\"marker\":{\"color\":\"#B6E880\",\"symbol\":\"circle\"},\"mode\":\"markers\",\"name\":\"god\",\"scene\":\"scene\",\"showlegend\":true,\"x\":[0.19536138],\"y\":[-0.4233271],\"z\":[-0.3113773],\"type\":\"scatter3d\"},{\"hovertemplate\":\"color=ice\\u003cbr\\u003e0=%{x}\\u003cbr\\u003e1=%{y}\\u003cbr\\u003e2=%{z}\\u003cextra\\u003e\\u003c\\u002fextra\\u003e\",\"legendgroup\":\"ice\",\"marker\":{\"color\":\"#FF97FF\",\"symbol\":\"circle\"},\"mode\":\"markers\",\"name\":\"ice\",\"scene\":\"scene\",\"showlegend\":true,\"x\":[-0.66169184],\"y\":[-0.15406714],\"z\":[-0.30306318],\"type\":\"scatter3d\"},{\"hovertemplate\":\"color=wondered\\u003cbr\\u003e0=%{x}\\u003cbr\\u003e1=%{y}\\u003cbr\\u003e2=%{z}\\u003cextra\\u003e\\u003c\\u002fextra\\u003e\",\"legendgroup\":\"wondered\",\"marker\":{\"color\":\"#FECB52\",\"symbol\":\"circle\"},\"mode\":\"markers\",\"name\":\"wondered\",\"scene\":\"scene\",\"showlegend\":true,\"x\":[0.46373072],\"y\":[0.1817914],\"z\":[-0.14999676],\"type\":\"scatter3d\"},{\"hovertemplate\":\"color=mine\\u003cbr\\u003e0=%{x}\\u003cbr\\u003e1=%{y}\\u003cbr\\u003e2=%{z}\\u003cextra\\u003e\\u003c\\u002fextra\\u003e\",\"legendgroup\":\"mine\",\"marker\":{\"color\":\"#636efa\",\"symbol\":\"circle\"},\"mode\":\"markers\",\"name\":\"mine\",\"scene\":\"scene\",\"showlegend\":true,\"x\":[0.6404015],\"y\":[0.0047211647],\"z\":[-0.0004092008],\"type\":\"scatter3d\"},{\"hovertemplate\":\"color=opened\\u003cbr\\u003e0=%{x}\\u003cbr\\u003e1=%{y}\\u003cbr\\u003e2=%{z}\\u003cextra\\u003e\\u003c\\u002fextra\\u003e\",\"legendgroup\":\"opened\",\"marker\":{\"color\":\"#EF553B\",\"symbol\":\"circle\"},\"mode\":\"markers\",\"name\":\"opened\",\"scene\":\"scene\",\"showlegend\":true,\"x\":[-0.5733712],\"y\":[-0.013506502],\"z\":[0.08401397],\"type\":\"scatter3d\"},{\"hovertemplate\":\"color=barristan\\u003cbr\\u003e0=%{x}\\u003cbr\\u003e1=%{y}\\u003cbr\\u003e2=%{z}\\u003cextra\\u003e\\u003c\\u002fextra\\u003e\",\"legendgroup\":\"barristan\",\"marker\":{\"color\":\"#00cc96\",\"symbol\":\"circle\"},\"mode\":\"markers\",\"name\":\"barristan\",\"scene\":\"scene\",\"showlegend\":true,\"x\":[0.32003868],\"y\":[-0.11799099],\"z\":[0.2770941],\"type\":\"scatter3d\"},{\"hovertemplate\":\"color=shield\\u003cbr\\u003e0=%{x}\\u003cbr\\u003e1=%{y}\\u003cbr\\u003e2=%{z}\\u003cextra\\u003e\\u003c\\u002fextra\\u003e\",\"legendgroup\":\"shield\",\"marker\":{\"color\":\"#ab63fa\",\"symbol\":\"circle\"},\"mode\":\"markers\",\"name\":\"shield\",\"scene\":\"scene\",\"showlegend\":true,\"x\":[-0.37610707],\"y\":[-0.50654906],\"z\":[0.3280437],\"type\":\"scatter3d\"},{\"hovertemplate\":\"color=armor\\u003cbr\\u003e0=%{x}\\u003cbr\\u003e1=%{y}\\u003cbr\\u003e2=%{z}\\u003cextra\\u003e\\u003c\\u002fextra\\u003e\",\"legendgroup\":\"armor\",\"marker\":{\"color\":\"#FFA15A\",\"symbol\":\"circle\"},\"mode\":\"markers\",\"name\":\"armor\",\"scene\":\"scene\",\"showlegend\":true,\"x\":[-0.47434065],\"y\":[-0.43079382],\"z\":[0.2865478],\"type\":\"scatter3d\"},{\"hovertemplate\":\"color=safe\\u003cbr\\u003e0=%{x}\\u003cbr\\u003e1=%{y}\\u003cbr\\u003e2=%{z}\\u003cextra\\u003e\\u003c\\u002fextra\\u003e\",\"legendgroup\":\"safe\",\"marker\":{\"color\":\"#19d3f3\",\"symbol\":\"circle\"},\"mode\":\"markers\",\"name\":\"safe\",\"scene\":\"scene\",\"showlegend\":true,\"x\":[0.46758577],\"y\":[-0.067449644],\"z\":[-0.45124227],\"type\":\"scatter3d\"},{\"hovertemplate\":\"color=six\\u003cbr\\u003e0=%{x}\\u003cbr\\u003e1=%{y}\\u003cbr\\u003e2=%{z}\\u003cextra\\u003e\\u003c\\u002fextra\\u003e\",\"legendgroup\":\"six\",\"marker\":{\"color\":\"#FF6692\",\"symbol\":\"circle\"},\"mode\":\"markers\",\"name\":\"six\",\"scene\":\"scene\",\"showlegend\":true,\"x\":[-0.011788772],\"y\":[-0.6635791],\"z\":[-0.22206402],\"type\":\"scatter3d\"},{\"hovertemplate\":\"color=kept\\u003cbr\\u003e0=%{x}\\u003cbr\\u003e1=%{y}\\u003cbr\\u003e2=%{z}\\u003cextra\\u003e\\u003c\\u002fextra\\u003e\",\"legendgroup\":\"kept\",\"marker\":{\"color\":\"#B6E880\",\"symbol\":\"circle\"},\"mode\":\"markers\",\"name\":\"kept\",\"scene\":\"scene\",\"showlegend\":true,\"x\":[-0.10853211],\"y\":[0.023207486],\"z\":[-0.32028723],\"type\":\"scatter3d\"},{\"hovertemplate\":\"color=wish\\u003cbr\\u003e0=%{x}\\u003cbr\\u003e1=%{y}\\u003cbr\\u003e2=%{z}\\u003cextra\\u003e\\u003c\\u002fextra\\u003e\",\"legendgroup\":\"wish\",\"marker\":{\"color\":\"#FF97FF\",\"symbol\":\"circle\"},\"mode\":\"markers\",\"name\":\"wish\",\"scene\":\"scene\",\"showlegend\":true,\"x\":[0.7684387],\"y\":[0.07766649],\"z\":[-0.0528081],\"type\":\"scatter3d\"},{\"hovertemplate\":\"color=return\\u003cbr\\u003e0=%{x}\\u003cbr\\u003e1=%{y}\\u003cbr\\u003e2=%{z}\\u003cextra\\u003e\\u003c\\u002fextra\\u003e\",\"legendgroup\":\"return\",\"marker\":{\"color\":\"#FECB52\",\"symbol\":\"circle\"},\"mode\":\"markers\",\"name\":\"return\",\"scene\":\"scene\",\"showlegend\":true,\"x\":[0.67825407],\"y\":[-0.26886517],\"z\":[-0.29876095],\"type\":\"scatter3d\"},{\"hovertemplate\":\"color=tommen\\u003cbr\\u003e0=%{x}\\u003cbr\\u003e1=%{y}\\u003cbr\\u003e2=%{z}\\u003cextra\\u003e\\u003c\\u002fextra\\u003e\",\"legendgroup\":\"tommen\",\"marker\":{\"color\":\"#636efa\",\"symbol\":\"circle\"},\"mode\":\"markers\",\"name\":\"tommen\",\"scene\":\"scene\",\"showlegend\":true,\"x\":[0.59535533],\"y\":[-0.3353212],\"z\":[0.24585465],\"type\":\"scatter3d\"},{\"hovertemplate\":\"color=used\\u003cbr\\u003e0=%{x}\\u003cbr\\u003e1=%{y}\\u003cbr\\u003e2=%{z}\\u003cextra\\u003e\\u003c\\u002fextra\\u003e\",\"legendgroup\":\"used\",\"marker\":{\"color\":\"#EF553B\",\"symbol\":\"circle\"},\"mode\":\"markers\",\"name\":\"used\",\"scene\":\"scene\",\"showlegend\":true,\"x\":[0.27983057],\"y\":[0.24441385],\"z\":[-0.30234635],\"type\":\"scatter3d\"},{\"hovertemplate\":\"color=smell\\u003cbr\\u003e0=%{x}\\u003cbr\\u003e1=%{y}\\u003cbr\\u003e2=%{z}\\u003cextra\\u003e\\u003c\\u002fextra\\u003e\",\"legendgroup\":\"smell\",\"marker\":{\"color\":\"#00cc96\",\"symbol\":\"circle\"},\"mode\":\"markers\",\"name\":\"smell\",\"scene\":\"scene\",\"showlegend\":true,\"x\":[-0.33468357],\"y\":[0.47349116],\"z\":[-0.27578768],\"type\":\"scatter3d\"},{\"hovertemplate\":\"color=less\\u003cbr\\u003e0=%{x}\\u003cbr\\u003e1=%{y}\\u003cbr\\u003e2=%{z}\\u003cextra\\u003e\\u003c\\u002fextra\\u003e\",\"legendgroup\":\"less\",\"marker\":{\"color\":\"#ab63fa\",\"symbol\":\"circle\"},\"mode\":\"markers\",\"name\":\"less\",\"scene\":\"scene\",\"showlegend\":true,\"x\":[0.4751008],\"y\":[0.049729973],\"z\":[-0.30072603],\"type\":\"scatter3d\"},{\"hovertemplate\":\"color=foot\\u003cbr\\u003e0=%{x}\\u003cbr\\u003e1=%{y}\\u003cbr\\u003e2=%{z}\\u003cextra\\u003e\\u003c\\u002fextra\\u003e\",\"legendgroup\":\"foot\",\"marker\":{\"color\":\"#FFA15A\",\"symbol\":\"circle\"},\"mode\":\"markers\",\"name\":\"foot\",\"scene\":\"scene\",\"showlegend\":true,\"x\":[-0.52683836],\"y\":[-0.3216771],\"z\":[-0.04225166],\"type\":\"scatter3d\"},{\"hovertemplate\":\"color=floor\\u003cbr\\u003e0=%{x}\\u003cbr\\u003e1=%{y}\\u003cbr\\u003e2=%{z}\\u003cextra\\u003e\\u003c\\u002fextra\\u003e\",\"legendgroup\":\"floor\",\"marker\":{\"color\":\"#19d3f3\",\"symbol\":\"circle\"},\"mode\":\"markers\",\"name\":\"floor\",\"scene\":\"scene\",\"showlegend\":true,\"x\":[-0.77225435],\"y\":[-0.15768355],\"z\":[0.06917066],\"type\":\"scatter3d\"},{\"hovertemplate\":\"color=squire\\u003cbr\\u003e0=%{x}\\u003cbr\\u003e1=%{y}\\u003cbr\\u003e2=%{z}\\u003cextra\\u003e\\u003c\\u002fextra\\u003e\",\"legendgroup\":\"squire\",\"marker\":{\"color\":\"#FF6692\",\"symbol\":\"circle\"},\"mode\":\"markers\",\"name\":\"squire\",\"scene\":\"scene\",\"showlegend\":true,\"x\":[0.37776026],\"y\":[-0.566939],\"z\":[0.58483154],\"type\":\"scatter3d\"},{\"hovertemplate\":\"color=eddard\\u003cbr\\u003e0=%{x}\\u003cbr\\u003e1=%{y}\\u003cbr\\u003e2=%{z}\\u003cextra\\u003e\\u003c\\u002fextra\\u003e\",\"legendgroup\":\"eddard\",\"marker\":{\"color\":\"#B6E880\",\"symbol\":\"circle\"},\"mode\":\"markers\",\"name\":\"eddard\",\"scene\":\"scene\",\"showlegend\":true,\"x\":[0.44916025],\"y\":[-0.22269666],\"z\":[0.20951086],\"type\":\"scatter3d\"},{\"hovertemplate\":\"color=empty\\u003cbr\\u003e0=%{x}\\u003cbr\\u003e1=%{y}\\u003cbr\\u003e2=%{z}\\u003cextra\\u003e\\u003c\\u002fextra\\u003e\",\"legendgroup\":\"empty\",\"marker\":{\"color\":\"#FF97FF\",\"symbol\":\"circle\"},\"mode\":\"markers\",\"name\":\"empty\",\"scene\":\"scene\",\"showlegend\":true,\"x\":[-0.56195694],\"y\":[-0.11650384],\"z\":[-0.16453186],\"type\":\"scatter3d\"},{\"hovertemplate\":\"color=followed\\u003cbr\\u003e0=%{x}\\u003cbr\\u003e1=%{y}\\u003cbr\\u003e2=%{z}\\u003cextra\\u003e\\u003c\\u002fextra\\u003e\",\"legendgroup\":\"followed\",\"marker\":{\"color\":\"#FECB52\",\"symbol\":\"circle\"},\"mode\":\"markers\",\"name\":\"followed\",\"scene\":\"scene\",\"showlegend\":true,\"x\":[-0.3998114],\"y\":[-0.25145578],\"z\":[-0.1010577],\"type\":\"scatter3d\"},{\"hovertemplate\":\"color=run\\u003cbr\\u003e0=%{x}\\u003cbr\\u003e1=%{y}\\u003cbr\\u003e2=%{z}\\u003cextra\\u003e\\u003c\\u002fextra\\u003e\",\"legendgroup\":\"run\",\"marker\":{\"color\":\"#636efa\",\"symbol\":\"circle\"},\"mode\":\"markers\",\"name\":\"run\",\"scene\":\"scene\",\"showlegend\":true,\"x\":[0.028694898],\"y\":[0.41495642],\"z\":[-0.475002],\"type\":\"scatter3d\"},{\"hovertemplate\":\"color=friends\\u003cbr\\u003e0=%{x}\\u003cbr\\u003e1=%{y}\\u003cbr\\u003e2=%{z}\\u003cextra\\u003e\\u003c\\u002fextra\\u003e\",\"legendgroup\":\"friends\",\"marker\":{\"color\":\"#EF553B\",\"symbol\":\"circle\"},\"mode\":\"markers\",\"name\":\"friends\",\"scene\":\"scene\",\"showlegend\":true,\"x\":[0.7024454],\"y\":[-0.28540975],\"z\":[-0.2811804],\"type\":\"scatter3d\"},{\"hovertemplate\":\"color=serve\\u003cbr\\u003e0=%{x}\\u003cbr\\u003e1=%{y}\\u003cbr\\u003e2=%{z}\\u003cextra\\u003e\\u003c\\u002fextra\\u003e\",\"legendgroup\":\"serve\",\"marker\":{\"color\":\"#00cc96\",\"symbol\":\"circle\"},\"mode\":\"markers\",\"name\":\"serve\",\"scene\":\"scene\",\"showlegend\":true,\"x\":[0.7412194],\"y\":[-0.16304848],\"z\":[-0.19460717],\"type\":\"scatter3d\"},{\"hovertemplate\":\"color=boys\\u003cbr\\u003e0=%{x}\\u003cbr\\u003e1=%{y}\\u003cbr\\u003e2=%{z}\\u003cextra\\u003e\\u003c\\u002fextra\\u003e\",\"legendgroup\":\"boys\",\"marker\":{\"color\":\"#ab63fa\",\"symbol\":\"circle\"},\"mode\":\"markers\",\"name\":\"boys\",\"scene\":\"scene\",\"showlegend\":true,\"x\":[0.18658696],\"y\":[-0.38072693],\"z\":[-0.22679064],\"type\":\"scatter3d\"},{\"hovertemplate\":\"color=beard\\u003cbr\\u003e0=%{x}\\u003cbr\\u003e1=%{y}\\u003cbr\\u003e2=%{z}\\u003cextra\\u003e\\u003c\\u002fextra\\u003e\",\"legendgroup\":\"beard\",\"marker\":{\"color\":\"#FFA15A\",\"symbol\":\"circle\"},\"mode\":\"markers\",\"name\":\"beard\",\"scene\":\"scene\",\"showlegend\":true,\"x\":[-0.5353043],\"y\":[0.04394278],\"z\":[0.43230614],\"type\":\"scatter3d\"},{\"hovertemplate\":\"color=baratheon\\u003cbr\\u003e0=%{x}\\u003cbr\\u003e1=%{y}\\u003cbr\\u003e2=%{z}\\u003cextra\\u003e\\u003c\\u002fextra\\u003e\",\"legendgroup\":\"baratheon\",\"marker\":{\"color\":\"#19d3f3\",\"symbol\":\"circle\"},\"mode\":\"markers\",\"name\":\"baratheon\",\"scene\":\"scene\",\"showlegend\":true,\"x\":[0.35640985],\"y\":[-0.5926877],\"z\":[0.22078276],\"type\":\"scatter3d\"},{\"hovertemplate\":\"color=wedding\\u003cbr\\u003e0=%{x}\\u003cbr\\u003e1=%{y}\\u003cbr\\u003e2=%{z}\\u003cextra\\u003e\\u003c\\u002fextra\\u003e\",\"legendgroup\":\"wedding\",\"marker\":{\"color\":\"#FF6692\",\"symbol\":\"circle\"},\"mode\":\"markers\",\"name\":\"wedding\",\"scene\":\"scene\",\"showlegend\":true,\"x\":[0.52046496],\"y\":[-0.38197112],\"z\":[0.2085458],\"type\":\"scatter3d\"},{\"hovertemplate\":\"color=cloaks\\u003cbr\\u003e0=%{x}\\u003cbr\\u003e1=%{y}\\u003cbr\\u003e2=%{z}\\u003cextra\\u003e\\u003c\\u002fextra\\u003e\",\"legendgroup\":\"cloaks\",\"marker\":{\"color\":\"#B6E880\",\"symbol\":\"circle\"},\"mode\":\"markers\",\"name\":\"cloaks\",\"scene\":\"scene\",\"showlegend\":true,\"x\":[-0.33812833],\"y\":[-0.6077399],\"z\":[0.11153408],\"type\":\"scatter3d\"},{\"hovertemplate\":\"color=eat\\u003cbr\\u003e0=%{x}\\u003cbr\\u003e1=%{y}\\u003cbr\\u003e2=%{z}\\u003cextra\\u003e\\u003c\\u002fextra\\u003e\",\"legendgroup\":\"eat\",\"marker\":{\"color\":\"#FF97FF\",\"symbol\":\"circle\"},\"mode\":\"markers\",\"name\":\"eat\",\"scene\":\"scene\",\"showlegend\":true,\"x\":[0.16162111],\"y\":[0.47894952],\"z\":[-0.39361352],\"type\":\"scatter3d\"},{\"hovertemplate\":\"color=wrong\\u003cbr\\u003e0=%{x}\\u003cbr\\u003e1=%{y}\\u003cbr\\u003e2=%{z}\\u003cextra\\u003e\\u003c\\u002fextra\\u003e\",\"legendgroup\":\"wrong\",\"marker\":{\"color\":\"#FECB52\",\"symbol\":\"circle\"},\"mode\":\"markers\",\"name\":\"wrong\",\"scene\":\"scene\",\"showlegend\":true,\"x\":[0.41986784],\"y\":[0.45666137],\"z\":[-0.2048366],\"type\":\"scatter3d\"},{\"hovertemplate\":\"color=ghost\\u003cbr\\u003e0=%{x}\\u003cbr\\u003e1=%{y}\\u003cbr\\u003e2=%{z}\\u003cextra\\u003e\\u003c\\u002fextra\\u003e\",\"legendgroup\":\"ghost\",\"marker\":{\"color\":\"#636efa\",\"symbol\":\"circle\"},\"mode\":\"markers\",\"name\":\"ghost\",\"scene\":\"scene\",\"showlegend\":true,\"x\":[-0.3653933],\"y\":[0.11213201],\"z\":[0.053924363],\"type\":\"scatter3d\"},{\"hovertemplate\":\"color=daenerys\\u003cbr\\u003e0=%{x}\\u003cbr\\u003e1=%{y}\\u003cbr\\u003e2=%{z}\\u003cextra\\u003e\\u003c\\u002fextra\\u003e\",\"legendgroup\":\"daenerys\",\"marker\":{\"color\":\"#EF553B\",\"symbol\":\"circle\"},\"mode\":\"markers\",\"name\":\"daenerys\",\"scene\":\"scene\",\"showlegend\":true,\"x\":[0.5037711],\"y\":[-0.13616334],\"z\":[-0.09308418],\"type\":\"scatter3d\"},{\"hovertemplate\":\"color=sight\\u003cbr\\u003e0=%{x}\\u003cbr\\u003e1=%{y}\\u003cbr\\u003e2=%{z}\\u003cextra\\u003e\\u003c\\u002fextra\\u003e\",\"legendgroup\":\"sight\",\"marker\":{\"color\":\"#00cc96\",\"symbol\":\"circle\"},\"mode\":\"markers\",\"name\":\"sight\",\"scene\":\"scene\",\"showlegend\":true,\"x\":[-0.110386334],\"y\":[0.26327205],\"z\":[-0.28687873],\"type\":\"scatter3d\"},{\"hovertemplate\":\"color=hound\\u003cbr\\u003e0=%{x}\\u003cbr\\u003e1=%{y}\\u003cbr\\u003e2=%{z}\\u003cextra\\u003e\\u003c\\u002fextra\\u003e\",\"legendgroup\":\"hound\",\"marker\":{\"color\":\"#ab63fa\",\"symbol\":\"circle\"},\"mode\":\"markers\",\"name\":\"hound\",\"scene\":\"scene\",\"showlegend\":true,\"x\":[0.012921267],\"y\":[0.30475214],\"z\":[0.29252958],\"type\":\"scatter3d\"},{\"hovertemplate\":\"color=flesh\\u003cbr\\u003e0=%{x}\\u003cbr\\u003e1=%{y}\\u003cbr\\u003e2=%{z}\\u003cextra\\u003e\\u003c\\u002fextra\\u003e\",\"legendgroup\":\"flesh\",\"marker\":{\"color\":\"#FFA15A\",\"symbol\":\"circle\"},\"mode\":\"markers\",\"name\":\"flesh\",\"scene\":\"scene\",\"showlegend\":true,\"x\":[-0.65022856],\"y\":[0.23337173],\"z\":[-0.06434796],\"type\":\"scatter3d\"},{\"hovertemplate\":\"color=five\\u003cbr\\u003e0=%{x}\\u003cbr\\u003e1=%{y}\\u003cbr\\u003e2=%{z}\\u003cextra\\u003e\\u003c\\u002fextra\\u003e\",\"legendgroup\":\"five\",\"marker\":{\"color\":\"#19d3f3\",\"symbol\":\"circle\"},\"mode\":\"markers\",\"name\":\"five\",\"scene\":\"scene\",\"showlegend\":true,\"x\":[-0.01435964],\"y\":[-0.6681847],\"z\":[-0.18748888],\"type\":\"scatter3d\"},{\"hovertemplate\":\"color=ship\\u003cbr\\u003e0=%{x}\\u003cbr\\u003e1=%{y}\\u003cbr\\u003e2=%{z}\\u003cextra\\u003e\\u003c\\u002fextra\\u003e\",\"legendgroup\":\"ship\",\"marker\":{\"color\":\"#FF6692\",\"symbol\":\"circle\"},\"mode\":\"markers\",\"name\":\"ship\",\"scene\":\"scene\",\"showlegend\":true,\"x\":[0.15876363],\"y\":[-0.29051933],\"z\":[-0.49940854],\"type\":\"scatter3d\"},{\"hovertemplate\":\"color=strength\\u003cbr\\u003e0=%{x}\\u003cbr\\u003e1=%{y}\\u003cbr\\u003e2=%{z}\\u003cextra\\u003e\\u003c\\u002fextra\\u003e\",\"legendgroup\":\"strength\",\"marker\":{\"color\":\"#B6E880\",\"symbol\":\"circle\"},\"mode\":\"markers\",\"name\":\"strength\",\"scene\":\"scene\",\"showlegend\":true,\"x\":[0.44420424],\"y\":[-0.3198012],\"z\":[-0.33431855],\"type\":\"scatter3d\"},{\"hovertemplate\":\"color=returned\\u003cbr\\u003e0=%{x}\\u003cbr\\u003e1=%{y}\\u003cbr\\u003e2=%{z}\\u003cextra\\u003e\\u003c\\u002fextra\\u003e\",\"legendgroup\":\"returned\",\"marker\":{\"color\":\"#FF97FF\",\"symbol\":\"circle\"},\"mode\":\"markers\",\"name\":\"returned\",\"scene\":\"scene\",\"showlegend\":true,\"x\":[0.27121577],\"y\":[-0.40076745],\"z\":[0.0045592003],\"type\":\"scatter3d\"},{\"hovertemplate\":\"color=bones\\u003cbr\\u003e0=%{x}\\u003cbr\\u003e1=%{y}\\u003cbr\\u003e2=%{z}\\u003cextra\\u003e\\u003c\\u002fextra\\u003e\",\"legendgroup\":\"bones\",\"marker\":{\"color\":\"#FECB52\",\"symbol\":\"circle\"},\"mode\":\"markers\",\"name\":\"bones\",\"scene\":\"scene\",\"showlegend\":true,\"x\":[-0.48842797],\"y\":[-0.11699127],\"z\":[-0.21581954],\"type\":\"scatter3d\"},{\"hovertemplate\":\"color=nose\\u003cbr\\u003e0=%{x}\\u003cbr\\u003e1=%{y}\\u003cbr\\u003e2=%{z}\\u003cextra\\u003e\\u003c\\u002fextra\\u003e\",\"legendgroup\":\"nose\",\"marker\":{\"color\":\"#636efa\",\"symbol\":\"circle\"},\"mode\":\"markers\",\"name\":\"nose\",\"scene\":\"scene\",\"showlegend\":true,\"x\":[-0.52317977],\"y\":[0.3058066],\"z\":[0.31000313],\"type\":\"scatter3d\"},{\"hovertemplate\":\"color=crown\\u003cbr\\u003e0=%{x}\\u003cbr\\u003e1=%{y}\\u003cbr\\u003e2=%{z}\\u003cextra\\u003e\\u003c\\u002fextra\\u003e\",\"legendgroup\":\"crown\",\"marker\":{\"color\":\"#EF553B\",\"symbol\":\"circle\"},\"mode\":\"markers\",\"name\":\"crown\",\"scene\":\"scene\",\"showlegend\":true,\"x\":[0.034796476],\"y\":[-0.45521885],\"z\":[0.2873381],\"type\":\"scatter3d\"},{\"hovertemplate\":\"color=yellow\\u003cbr\\u003e0=%{x}\\u003cbr\\u003e1=%{y}\\u003cbr\\u003e2=%{z}\\u003cextra\\u003e\\u003c\\u002fextra\\u003e\",\"legendgroup\":\"yellow\",\"marker\":{\"color\":\"#00cc96\",\"symbol\":\"circle\"},\"mode\":\"markers\",\"name\":\"yellow\",\"scene\":\"scene\",\"showlegend\":true,\"x\":[-0.6454772],\"y\":[-0.13458458],\"z\":[0.17593114],\"type\":\"scatter3d\"},{\"hovertemplate\":\"color=chest\\u003cbr\\u003e0=%{x}\\u003cbr\\u003e1=%{y}\\u003cbr\\u003e2=%{z}\\u003cextra\\u003e\\u003c\\u002fextra\\u003e\",\"legendgroup\":\"chest\",\"marker\":{\"color\":\"#ab63fa\",\"symbol\":\"circle\"},\"mode\":\"markers\",\"name\":\"chest\",\"scene\":\"scene\",\"showlegend\":true,\"x\":[-0.733218],\"y\":[0.009560823],\"z\":[0.27943805],\"type\":\"scatter3d\"},{\"hovertemplate\":\"color=covered\\u003cbr\\u003e0=%{x}\\u003cbr\\u003e1=%{y}\\u003cbr\\u003e2=%{z}\\u003cextra\\u003e\\u003c\\u002fextra\\u003e\",\"legendgroup\":\"covered\",\"marker\":{\"color\":\"#FFA15A\",\"symbol\":\"circle\"},\"mode\":\"markers\",\"name\":\"covered\",\"scene\":\"scene\",\"showlegend\":true,\"x\":[-0.7672745],\"y\":[-0.045261964],\"z\":[0.13436528],\"type\":\"scatter3d\"},{\"hovertemplate\":\"color=says\\u003cbr\\u003e0=%{x}\\u003cbr\\u003e1=%{y}\\u003cbr\\u003e2=%{z}\\u003cextra\\u003e\\u003c\\u002fextra\\u003e\",\"legendgroup\":\"says\",\"marker\":{\"color\":\"#19d3f3\",\"symbol\":\"circle\"},\"mode\":\"markers\",\"name\":\"says\",\"scene\":\"scene\",\"showlegend\":true,\"x\":[0.7264452],\"y\":[-0.080803126],\"z\":[-0.08806627],\"type\":\"scatter3d\"},{\"hovertemplate\":\"color=commanded\\u003cbr\\u003e0=%{x}\\u003cbr\\u003e1=%{y}\\u003cbr\\u003e2=%{z}\\u003cextra\\u003e\\u003c\\u002fextra\\u003e\",\"legendgroup\":\"commanded\",\"marker\":{\"color\":\"#FF6692\",\"symbol\":\"circle\"},\"mode\":\"markers\",\"name\":\"commanded\",\"scene\":\"scene\",\"showlegend\":true,\"x\":[0.4627319],\"y\":[-0.2982424],\"z\":[0.05722087],\"type\":\"scatter3d\"},{\"hovertemplate\":\"color=petyr\\u003cbr\\u003e0=%{x}\\u003cbr\\u003e1=%{y}\\u003cbr\\u003e2=%{z}\\u003cextra\\u003e\\u003c\\u002fextra\\u003e\",\"legendgroup\":\"petyr\",\"marker\":{\"color\":\"#B6E880\",\"symbol\":\"circle\"},\"mode\":\"markers\",\"name\":\"petyr\",\"scene\":\"scene\",\"showlegend\":true,\"x\":[0.5754791],\"y\":[-0.14658093],\"z\":[0.50237125],\"type\":\"scatter3d\"},{\"hovertemplate\":\"color=filled\\u003cbr\\u003e0=%{x}\\u003cbr\\u003e1=%{y}\\u003cbr\\u003e2=%{z}\\u003cextra\\u003e\\u003c\\u002fextra\\u003e\",\"legendgroup\":\"filled\",\"marker\":{\"color\":\"#FF97FF\",\"symbol\":\"circle\"},\"mode\":\"markers\",\"name\":\"filled\",\"scene\":\"scene\",\"showlegend\":true,\"x\":[-0.6008672],\"y\":[0.14037004],\"z\":[-0.033526085],\"type\":\"scatter3d\"},{\"hovertemplate\":\"color=aemon\\u003cbr\\u003e0=%{x}\\u003cbr\\u003e1=%{y}\\u003cbr\\u003e2=%{z}\\u003cextra\\u003e\\u003c\\u002fextra\\u003e\",\"legendgroup\":\"aemon\",\"marker\":{\"color\":\"#FECB52\",\"symbol\":\"circle\"},\"mode\":\"markers\",\"name\":\"aemon\",\"scene\":\"scene\",\"showlegend\":true,\"x\":[0.2868748],\"y\":[-0.02927588],\"z\":[0.09283842],\"type\":\"scatter3d\"},{\"hovertemplate\":\"color=sometimes\\u003cbr\\u003e0=%{x}\\u003cbr\\u003e1=%{y}\\u003cbr\\u003e2=%{z}\\u003cextra\\u003e\\u003c\\u002fextra\\u003e\",\"legendgroup\":\"sometimes\",\"marker\":{\"color\":\"#636efa\",\"symbol\":\"circle\"},\"mode\":\"markers\",\"name\":\"sometimes\",\"scene\":\"scene\",\"showlegend\":true,\"x\":[0.035134777],\"y\":[0.46499816],\"z\":[-0.41844165],\"type\":\"scatter3d\"},{\"hovertemplate\":\"color=led\\u003cbr\\u003e0=%{x}\\u003cbr\\u003e1=%{y}\\u003cbr\\u003e2=%{z}\\u003cextra\\u003e\\u003c\\u002fextra\\u003e\",\"legendgroup\":\"led\",\"marker\":{\"color\":\"#EF553B\",\"symbol\":\"circle\"},\"mode\":\"markers\",\"name\":\"led\",\"scene\":\"scene\",\"showlegend\":true,\"x\":[-0.2319953],\"y\":[-0.60359746],\"z\":[-0.03379882],\"type\":\"scatter3d\"},{\"hovertemplate\":\"color=friend\\u003cbr\\u003e0=%{x}\\u003cbr\\u003e1=%{y}\\u003cbr\\u003e2=%{z}\\u003cextra\\u003e\\u003c\\u002fextra\\u003e\",\"legendgroup\":\"friend\",\"marker\":{\"color\":\"#00cc96\",\"symbol\":\"circle\"},\"mode\":\"markers\",\"name\":\"friend\",\"scene\":\"scene\",\"showlegend\":true,\"x\":[0.7268575],\"y\":[0.06606588],\"z\":[0.20000121],\"type\":\"scatter3d\"},{\"hovertemplate\":\"color=aye\\u003cbr\\u003e0=%{x}\\u003cbr\\u003e1=%{y}\\u003cbr\\u003e2=%{z}\\u003cextra\\u003e\\u003c\\u002fextra\\u003e\",\"legendgroup\":\"aye\",\"marker\":{\"color\":\"#ab63fa\",\"symbol\":\"circle\"},\"mode\":\"markers\",\"name\":\"aye\",\"scene\":\"scene\",\"showlegend\":true,\"x\":[0.63487786],\"y\":[-0.046101406],\"z\":[0.12037448],\"type\":\"scatter3d\"},{\"hovertemplate\":\"color=common\\u003cbr\\u003e0=%{x}\\u003cbr\\u003e1=%{y}\\u003cbr\\u003e2=%{z}\\u003cextra\\u003e\\u003c\\u002fextra\\u003e\",\"legendgroup\":\"common\",\"marker\":{\"color\":\"#FFA15A\",\"symbol\":\"circle\"},\"mode\":\"markers\",\"name\":\"common\",\"scene\":\"scene\",\"showlegend\":true,\"x\":[0.31813672],\"y\":[-0.16648158],\"z\":[-0.21662432],\"type\":\"scatter3d\"},{\"hovertemplate\":\"color=flames\\u003cbr\\u003e0=%{x}\\u003cbr\\u003e1=%{y}\\u003cbr\\u003e2=%{z}\\u003cextra\\u003e\\u003c\\u002fextra\\u003e\",\"legendgroup\":\"flames\",\"marker\":{\"color\":\"#19d3f3\",\"symbol\":\"circle\"},\"mode\":\"markers\",\"name\":\"flames\",\"scene\":\"scene\",\"showlegend\":true,\"x\":[-0.6680881],\"y\":[0.07593778],\"z\":[-0.14268014],\"type\":\"scatter3d\"},{\"hovertemplate\":\"color=spoke\\u003cbr\\u003e0=%{x}\\u003cbr\\u003e1=%{y}\\u003cbr\\u003e2=%{z}\\u003cextra\\u003e\\u003c\\u002fextra\\u003e\",\"legendgroup\":\"spoke\",\"marker\":{\"color\":\"#FF6692\",\"symbol\":\"circle\"},\"mode\":\"markers\",\"name\":\"spoke\",\"scene\":\"scene\",\"showlegend\":true,\"x\":[0.3737405],\"y\":[0.120939314],\"z\":[0.30043784],\"type\":\"scatter3d\"},{\"hovertemplate\":\"color=show\\u003cbr\\u003e0=%{x}\\u003cbr\\u003e1=%{y}\\u003cbr\\u003e2=%{z}\\u003cextra\\u003e\\u003c\\u002fextra\\u003e\",\"legendgroup\":\"show\",\"marker\":{\"color\":\"#B6E880\",\"symbol\":\"circle\"},\"mode\":\"markers\",\"name\":\"show\",\"scene\":\"scene\",\"showlegend\":true,\"x\":[0.41554236],\"y\":[0.13824716],\"z\":[-0.10981629],\"type\":\"scatter3d\"},{\"hovertemplate\":\"color=fighting\\u003cbr\\u003e0=%{x}\\u003cbr\\u003e1=%{y}\\u003cbr\\u003e2=%{z}\\u003cextra\\u003e\\u003c\\u002fextra\\u003e\",\"legendgroup\":\"fighting\",\"marker\":{\"color\":\"#FF97FF\",\"symbol\":\"circle\"},\"mode\":\"markers\",\"name\":\"fighting\",\"scene\":\"scene\",\"showlegend\":true,\"x\":[0.21375848],\"y\":[-0.44739074],\"z\":[-0.5666542],\"type\":\"scatter3d\"},{\"hovertemplate\":\"color=asha\\u003cbr\\u003e0=%{x}\\u003cbr\\u003e1=%{y}\\u003cbr\\u003e2=%{z}\\u003cextra\\u003e\\u003c\\u002fextra\\u003e\",\"legendgroup\":\"asha\",\"marker\":{\"color\":\"#FECB52\",\"symbol\":\"circle\"},\"mode\":\"markers\",\"name\":\"asha\",\"scene\":\"scene\",\"showlegend\":true,\"x\":[0.26474592],\"y\":[-0.12247469],\"z\":[0.06894305],\"type\":\"scatter3d\"},{\"hovertemplate\":\"color=huge\\u003cbr\\u003e0=%{x}\\u003cbr\\u003e1=%{y}\\u003cbr\\u003e2=%{z}\\u003cextra\\u003e\\u003c\\u002fextra\\u003e\",\"legendgroup\":\"huge\",\"marker\":{\"color\":\"#636efa\",\"symbol\":\"circle\"},\"mode\":\"markers\",\"name\":\"huge\",\"scene\":\"scene\",\"showlegend\":true,\"x\":[-0.7286758],\"y\":[-0.29745188],\"z\":[0.0114362985],\"type\":\"scatter3d\"},{\"hovertemplate\":\"color=lysa\\u003cbr\\u003e0=%{x}\\u003cbr\\u003e1=%{y}\\u003cbr\\u003e2=%{z}\\u003cextra\\u003e\\u003c\\u002fextra\\u003e\",\"legendgroup\":\"lysa\",\"marker\":{\"color\":\"#EF553B\",\"symbol\":\"circle\"},\"mode\":\"markers\",\"name\":\"lysa\",\"scene\":\"scene\",\"showlegend\":true,\"x\":[0.51975805],\"y\":[-0.03152314],\"z\":[0.31516963],\"type\":\"scatter3d\"},{\"hovertemplate\":\"color=aside\\u003cbr\\u003e0=%{x}\\u003cbr\\u003e1=%{y}\\u003cbr\\u003e2=%{z}\\u003cextra\\u003e\\u003c\\u002fextra\\u003e\",\"legendgroup\":\"aside\",\"marker\":{\"color\":\"#00cc96\",\"symbol\":\"circle\"},\"mode\":\"markers\",\"name\":\"aside\",\"scene\":\"scene\",\"showlegend\":true,\"x\":[-0.26780194],\"y\":[-0.027956307],\"z\":[0.29997236],\"type\":\"scatter3d\"},{\"hovertemplate\":\"color=crow\\u003cbr\\u003e0=%{x}\\u003cbr\\u003e1=%{y}\\u003cbr\\u003e2=%{z}\\u003cextra\\u003e\\u003c\\u002fextra\\u003e\",\"legendgroup\":\"crow\",\"marker\":{\"color\":\"#ab63fa\",\"symbol\":\"circle\"},\"mode\":\"markers\",\"name\":\"crow\",\"scene\":\"scene\",\"showlegend\":true,\"x\":[0.24327862],\"y\":[-0.11224025],\"z\":[-0.12114494],\"type\":\"scatter3d\"},{\"hovertemplate\":\"color=belly\\u003cbr\\u003e0=%{x}\\u003cbr\\u003e1=%{y}\\u003cbr\\u003e2=%{z}\\u003cextra\\u003e\\u003c\\u002fextra\\u003e\",\"legendgroup\":\"belly\",\"marker\":{\"color\":\"#FFA15A\",\"symbol\":\"circle\"},\"mode\":\"markers\",\"name\":\"belly\",\"scene\":\"scene\",\"showlegend\":true,\"x\":[-0.630662],\"y\":[0.33707598],\"z\":[0.1249385],\"type\":\"scatter3d\"},{\"hovertemplate\":\"color=master\\u003cbr\\u003e0=%{x}\\u003cbr\\u003e1=%{y}\\u003cbr\\u003e2=%{z}\\u003cextra\\u003e\\u003c\\u002fextra\\u003e\",\"legendgroup\":\"master\",\"marker\":{\"color\":\"#19d3f3\",\"symbol\":\"circle\"},\"mode\":\"markers\",\"name\":\"master\",\"scene\":\"scene\",\"showlegend\":true,\"x\":[0.43182456],\"y\":[-0.55956167],\"z\":[0.34184676],\"type\":\"scatter3d\"},{\"hovertemplate\":\"color=breath\\u003cbr\\u003e0=%{x}\\u003cbr\\u003e1=%{y}\\u003cbr\\u003e2=%{z}\\u003cextra\\u003e\\u003c\\u002fextra\\u003e\",\"legendgroup\":\"breath\",\"marker\":{\"color\":\"#FF6692\",\"symbol\":\"circle\"},\"mode\":\"markers\",\"name\":\"breath\",\"scene\":\"scene\",\"showlegend\":true,\"x\":[-0.54485273],\"y\":[0.39664295],\"z\":[-0.11264933],\"type\":\"scatter3d\"},{\"hovertemplate\":\"color=seem\\u003cbr\\u003e0=%{x}\\u003cbr\\u003e1=%{y}\\u003cbr\\u003e2=%{z}\\u003cextra\\u003e\\u003c\\u002fextra\\u003e\",\"legendgroup\":\"seem\",\"marker\":{\"color\":\"#B6E880\",\"symbol\":\"circle\"},\"mode\":\"markers\",\"name\":\"seem\",\"scene\":\"scene\",\"showlegend\":true,\"x\":[0.4768322],\"y\":[0.34992334],\"z\":[-0.24092841],\"type\":\"scatter3d\"},{\"hovertemplate\":\"color=yard\\u003cbr\\u003e0=%{x}\\u003cbr\\u003e1=%{y}\\u003cbr\\u003e2=%{z}\\u003cextra\\u003e\\u003c\\u002fextra\\u003e\",\"legendgroup\":\"yard\",\"marker\":{\"color\":\"#FF97FF\",\"symbol\":\"circle\"},\"mode\":\"markers\",\"name\":\"yard\",\"scene\":\"scene\",\"showlegend\":true,\"x\":[-0.5711452],\"y\":[-0.20016749],\"z\":[-0.2235117],\"type\":\"scatter3d\"},{\"hovertemplate\":\"color=gates\\u003cbr\\u003e0=%{x}\\u003cbr\\u003e1=%{y}\\u003cbr\\u003e2=%{z}\\u003cextra\\u003e\\u003c\\u002fextra\\u003e\",\"legendgroup\":\"gates\",\"marker\":{\"color\":\"#FECB52\",\"symbol\":\"circle\"},\"mode\":\"markers\",\"name\":\"gates\",\"scene\":\"scene\",\"showlegend\":true,\"x\":[-0.21372138],\"y\":[-0.61732745],\"z\":[-0.3085449],\"type\":\"scatter3d\"},{\"hovertemplate\":\"color=waiting\\u003cbr\\u003e0=%{x}\\u003cbr\\u003e1=%{y}\\u003cbr\\u003e2=%{z}\\u003cextra\\u003e\\u003c\\u002fextra\\u003e\",\"legendgroup\":\"waiting\",\"marker\":{\"color\":\"#636efa\",\"symbol\":\"circle\"},\"mode\":\"markers\",\"name\":\"waiting\",\"scene\":\"scene\",\"showlegend\":true,\"x\":[0.037233263],\"y\":[-0.5224037],\"z\":[-0.33492154],\"type\":\"scatter3d\"},{\"hovertemplate\":\"color=within\\u003cbr\\u003e0=%{x}\\u003cbr\\u003e1=%{y}\\u003cbr\\u003e2=%{z}\\u003cextra\\u003e\\u003c\\u002fextra\\u003e\",\"legendgroup\":\"within\",\"marker\":{\"color\":\"#EF553B\",\"symbol\":\"circle\"},\"mode\":\"markers\",\"name\":\"within\",\"scene\":\"scene\",\"showlegend\":true,\"x\":[-0.32569844],\"y\":[-0.5031541],\"z\":[-0.5124503],\"type\":\"scatter3d\"},{\"hovertemplate\":\"color=looking\\u003cbr\\u003e0=%{x}\\u003cbr\\u003e1=%{y}\\u003cbr\\u003e2=%{z}\\u003cextra\\u003e\\u003c\\u002fextra\\u003e\",\"legendgroup\":\"looking\",\"marker\":{\"color\":\"#00cc96\",\"symbol\":\"circle\"},\"mode\":\"markers\",\"name\":\"looking\",\"scene\":\"scene\",\"showlegend\":true,\"x\":[-0.19237344],\"y\":[0.27768794],\"z\":[-0.041060306],\"type\":\"scatter3d\"},{\"hovertemplate\":\"color=wooden\\u003cbr\\u003e0=%{x}\\u003cbr\\u003e1=%{y}\\u003cbr\\u003e2=%{z}\\u003cextra\\u003e\\u003c\\u002fextra\\u003e\",\"legendgroup\":\"wooden\",\"marker\":{\"color\":\"#ab63fa\",\"symbol\":\"circle\"},\"mode\":\"markers\",\"name\":\"wooden\",\"scene\":\"scene\",\"showlegend\":true,\"x\":[-0.70694035],\"y\":[-0.3707412],\"z\":[-0.08736067],\"type\":\"scatter3d\"},{\"hovertemplate\":\"color=wet\\u003cbr\\u003e0=%{x}\\u003cbr\\u003e1=%{y}\\u003cbr\\u003e2=%{z}\\u003cextra\\u003e\\u003c\\u002fextra\\u003e\",\"legendgroup\":\"wet\",\"marker\":{\"color\":\"#FFA15A\",\"symbol\":\"circle\"},\"mode\":\"markers\",\"name\":\"wet\",\"scene\":\"scene\",\"showlegend\":true,\"x\":[-0.6619721],\"y\":[0.29700765],\"z\":[-0.08793592],\"type\":\"scatter3d\"},{\"hovertemplate\":\"color=realm\\u003cbr\\u003e0=%{x}\\u003cbr\\u003e1=%{y}\\u003cbr\\u003e2=%{z}\\u003cextra\\u003e\\u003c\\u002fextra\\u003e\",\"legendgroup\":\"realm\",\"marker\":{\"color\":\"#19d3f3\",\"symbol\":\"circle\"},\"mode\":\"markers\",\"name\":\"realm\",\"scene\":\"scene\",\"showlegend\":true,\"x\":[0.66345614],\"y\":[-0.47538593],\"z\":[-0.16410992],\"type\":\"scatter3d\"},{\"hovertemplate\":\"color=thin\\u003cbr\\u003e0=%{x}\\u003cbr\\u003e1=%{y}\\u003cbr\\u003e2=%{z}\\u003cextra\\u003e\\u003c\\u002fextra\\u003e\",\"legendgroup\":\"thin\",\"marker\":{\"color\":\"#FF6692\",\"symbol\":\"circle\"},\"mode\":\"markers\",\"name\":\"thin\",\"scene\":\"scene\",\"showlegend\":true,\"x\":[-0.6940045],\"y\":[0.13091809],\"z\":[0.23444834],\"type\":\"scatter3d\"},{\"hovertemplate\":\"color=work\\u003cbr\\u003e0=%{x}\\u003cbr\\u003e1=%{y}\\u003cbr\\u003e2=%{z}\\u003cextra\\u003e\\u003c\\u002fextra\\u003e\",\"legendgroup\":\"work\",\"marker\":{\"color\":\"#B6E880\",\"symbol\":\"circle\"},\"mode\":\"markers\",\"name\":\"work\",\"scene\":\"scene\",\"showlegend\":true,\"x\":[0.48537374],\"y\":[0.1545456],\"z\":[-0.2483646],\"type\":\"scatter3d\"},{\"hovertemplate\":\"color=use\\u003cbr\\u003e0=%{x}\\u003cbr\\u003e1=%{y}\\u003cbr\\u003e2=%{z}\\u003cextra\\u003e\\u003c\\u002fextra\\u003e\",\"legendgroup\":\"use\",\"marker\":{\"color\":\"#FF97FF\",\"symbol\":\"circle\"},\"mode\":\"markers\",\"name\":\"use\",\"scene\":\"scene\",\"showlegend\":true,\"x\":[0.487304],\"y\":[0.20009345],\"z\":[-0.19677907],\"type\":\"scatter3d\"},{\"hovertemplate\":\"color=bad\\u003cbr\\u003e0=%{x}\\u003cbr\\u003e1=%{y}\\u003cbr\\u003e2=%{z}\\u003cextra\\u003e\\u003c\\u002fextra\\u003e\",\"legendgroup\":\"bad\",\"marker\":{\"color\":\"#FECB52\",\"symbol\":\"circle\"},\"mode\":\"markers\",\"name\":\"bad\",\"scene\":\"scene\",\"showlegend\":true,\"x\":[0.31589445],\"y\":[0.43433532],\"z\":[-0.29783496],\"type\":\"scatter3d\"},{\"hovertemplate\":\"color=promised\\u003cbr\\u003e0=%{x}\\u003cbr\\u003e1=%{y}\\u003cbr\\u003e2=%{z}\\u003cextra\\u003e\\u003c\\u002fextra\\u003e\",\"legendgroup\":\"promised\",\"marker\":{\"color\":\"#636efa\",\"symbol\":\"circle\"},\"mode\":\"markers\",\"name\":\"promised\",\"scene\":\"scene\",\"showlegend\":true,\"x\":[0.65234756],\"y\":[-0.11756026],\"z\":[-0.15530044],\"type\":\"scatter3d\"},{\"hovertemplate\":\"color=husband\\u003cbr\\u003e0=%{x}\\u003cbr\\u003e1=%{y}\\u003cbr\\u003e2=%{z}\\u003cextra\\u003e\\u003c\\u002fextra\\u003e\",\"legendgroup\":\"husband\",\"marker\":{\"color\":\"#EF553B\",\"symbol\":\"circle\"},\"mode\":\"markers\",\"name\":\"husband\",\"scene\":\"scene\",\"showlegend\":true,\"x\":[0.7585463],\"y\":[-0.19642545],\"z\":[0.22391656],\"type\":\"scatter3d\"},{\"hovertemplate\":\"color=later\\u003cbr\\u003e0=%{x}\\u003cbr\\u003e1=%{y}\\u003cbr\\u003e2=%{z}\\u003cextra\\u003e\\u003c\\u002fextra\\u003e\",\"legendgroup\":\"later\",\"marker\":{\"color\":\"#00cc96\",\"symbol\":\"circle\"},\"mode\":\"markers\",\"name\":\"later\",\"scene\":\"scene\",\"showlegend\":true,\"x\":[-0.024717236],\"y\":[-0.31754148],\"z\":[-0.2963402],\"type\":\"scatter3d\"},{\"hovertemplate\":\"color=tree\\u003cbr\\u003e0=%{x}\\u003cbr\\u003e1=%{y}\\u003cbr\\u003e2=%{z}\\u003cextra\\u003e\\u003c\\u002fextra\\u003e\",\"legendgroup\":\"tree\",\"marker\":{\"color\":\"#ab63fa\",\"symbol\":\"circle\"},\"mode\":\"markers\",\"name\":\"tree\",\"scene\":\"scene\",\"showlegend\":true,\"x\":[-0.7064103],\"y\":[-0.088887505],\"z\":[-0.10206833],\"type\":\"scatter3d\"},{\"hovertemplate\":\"color=grew\\u003cbr\\u003e0=%{x}\\u003cbr\\u003e1=%{y}\\u003cbr\\u003e2=%{z}\\u003cextra\\u003e\\u003c\\u002fextra\\u003e\",\"legendgroup\":\"grew\",\"marker\":{\"color\":\"#FFA15A\",\"symbol\":\"circle\"},\"mode\":\"markers\",\"name\":\"grew\",\"scene\":\"scene\",\"showlegend\":true,\"x\":[-0.6060834],\"y\":[0.017308548],\"z\":[-0.27890426],\"type\":\"scatter3d\"},{\"hovertemplate\":\"color=onto\\u003cbr\\u003e0=%{x}\\u003cbr\\u003e1=%{y}\\u003cbr\\u003e2=%{z}\\u003cextra\\u003e\\u003c\\u002fextra\\u003e\",\"legendgroup\":\"onto\",\"marker\":{\"color\":\"#19d3f3\",\"symbol\":\"circle\"},\"mode\":\"markers\",\"name\":\"onto\",\"scene\":\"scene\",\"showlegend\":true,\"x\":[-0.6749457],\"y\":[-0.14547354],\"z\":[0.15864025],\"type\":\"scatter3d\"},{\"hovertemplate\":\"color=wildlings\\u003cbr\\u003e0=%{x}\\u003cbr\\u003e1=%{y}\\u003cbr\\u003e2=%{z}\\u003cextra\\u003e\\u003c\\u002fextra\\u003e\",\"legendgroup\":\"wildlings\",\"marker\":{\"color\":\"#FF6692\",\"symbol\":\"circle\"},\"mode\":\"markers\",\"name\":\"wildlings\",\"scene\":\"scene\",\"showlegend\":true,\"x\":[0.1388138],\"y\":[-0.27850133],\"z\":[-0.60313106],\"type\":\"scatter3d\"},{\"hovertemplate\":\"color=loved\\u003cbr\\u003e0=%{x}\\u003cbr\\u003e1=%{y}\\u003cbr\\u003e2=%{z}\\u003cextra\\u003e\\u003c\\u002fextra\\u003e\",\"legendgroup\":\"loved\",\"marker\":{\"color\":\"#B6E880\",\"symbol\":\"circle\"},\"mode\":\"markers\",\"name\":\"loved\",\"scene\":\"scene\",\"showlegend\":true,\"x\":[0.56896037],\"y\":[0.137914],\"z\":[0.10152301],\"type\":\"scatter3d\"},{\"hovertemplate\":\"color=afraid\\u003cbr\\u003e0=%{x}\\u003cbr\\u003e1=%{y}\\u003cbr\\u003e2=%{z}\\u003cextra\\u003e\\u003c\\u002fextra\\u003e\",\"legendgroup\":\"afraid\",\"marker\":{\"color\":\"#FF97FF\",\"symbol\":\"circle\"},\"mode\":\"markers\",\"name\":\"afraid\",\"scene\":\"scene\",\"showlegend\":true,\"x\":[0.33132082],\"y\":[0.5494671],\"z\":[-0.22731751],\"type\":\"scatter3d\"},{\"hovertemplate\":\"color=girls\\u003cbr\\u003e0=%{x}\\u003cbr\\u003e1=%{y}\\u003cbr\\u003e2=%{z}\\u003cextra\\u003e\\u003c\\u002fextra\\u003e\",\"legendgroup\":\"girls\",\"marker\":{\"color\":\"#FECB52\",\"symbol\":\"circle\"},\"mode\":\"markers\",\"name\":\"girls\",\"scene\":\"scene\",\"showlegend\":true,\"x\":[0.2963991],\"y\":[-0.20444068],\"z\":[-0.10610347],\"type\":\"scatter3d\"},{\"hovertemplate\":\"color=greyjoy\\u003cbr\\u003e0=%{x}\\u003cbr\\u003e1=%{y}\\u003cbr\\u003e2=%{z}\\u003cextra\\u003e\\u003c\\u002fextra\\u003e\",\"legendgroup\":\"greyjoy\",\"marker\":{\"color\":\"#636efa\",\"symbol\":\"circle\"},\"mode\":\"markers\",\"name\":\"greyjoy\",\"scene\":\"scene\",\"showlegend\":true,\"x\":[0.30400288],\"y\":[-0.62898445],\"z\":[0.34878677],\"type\":\"scatter3d\"},{\"hovertemplate\":\"color=shoulders\\u003cbr\\u003e0=%{x}\\u003cbr\\u003e1=%{y}\\u003cbr\\u003e2=%{z}\\u003cextra\\u003e\\u003c\\u002fextra\\u003e\",\"legendgroup\":\"shoulders\",\"marker\":{\"color\":\"#EF553B\",\"symbol\":\"circle\"},\"mode\":\"markers\",\"name\":\"shoulders\",\"scene\":\"scene\",\"showlegend\":true,\"x\":[-0.70385414],\"y\":[-0.12225194],\"z\":[0.2943607],\"type\":\"scatter3d\"},{\"hovertemplate\":\"color=rain\\u003cbr\\u003e0=%{x}\\u003cbr\\u003e1=%{y}\\u003cbr\\u003e2=%{z}\\u003cextra\\u003e\\u003c\\u002fextra\\u003e\",\"legendgroup\":\"rain\",\"marker\":{\"color\":\"#00cc96\",\"symbol\":\"circle\"},\"mode\":\"markers\",\"name\":\"rain\",\"scene\":\"scene\",\"showlegend\":true,\"x\":[-0.63572997],\"y\":[0.12139332],\"z\":[-0.37478346],\"type\":\"scatter3d\"},{\"hovertemplate\":\"color=shouted\\u003cbr\\u003e0=%{x}\\u003cbr\\u003e1=%{y}\\u003cbr\\u003e2=%{z}\\u003cextra\\u003e\\u003c\\u002fextra\\u003e\",\"legendgroup\":\"shouted\",\"marker\":{\"color\":\"#ab63fa\",\"symbol\":\"circle\"},\"mode\":\"markers\",\"name\":\"shouted\",\"scene\":\"scene\",\"showlegend\":true,\"x\":[-0.08436265],\"y\":[0.11812717],\"z\":[0.19480199],\"type\":\"scatter3d\"},{\"hovertemplate\":\"color=walked\\u003cbr\\u003e0=%{x}\\u003cbr\\u003e1=%{y}\\u003cbr\\u003e2=%{z}\\u003cextra\\u003e\\u003c\\u002fextra\\u003e\",\"legendgroup\":\"walked\",\"marker\":{\"color\":\"#FFA15A\",\"symbol\":\"circle\"},\"mode\":\"markers\",\"name\":\"walked\",\"scene\":\"scene\",\"showlegend\":true,\"x\":[-0.53227895],\"y\":[-0.23505263],\"z\":[-0.081528716],\"type\":\"scatter3d\"},{\"hovertemplate\":\"color=maid\\u003cbr\\u003e0=%{x}\\u003cbr\\u003e1=%{y}\\u003cbr\\u003e2=%{z}\\u003cextra\\u003e\\u003c\\u002fextra\\u003e\",\"legendgroup\":\"maid\",\"marker\":{\"color\":\"#19d3f3\",\"symbol\":\"circle\"},\"mode\":\"markers\",\"name\":\"maid\",\"scene\":\"scene\",\"showlegend\":true,\"x\":[0.31971437],\"y\":[-0.29933903],\"z\":[0.3910483],\"type\":\"scatter3d\"},{\"hovertemplate\":\"color=late\\u003cbr\\u003e0=%{x}\\u003cbr\\u003e1=%{y}\\u003cbr\\u003e2=%{z}\\u003cextra\\u003e\\u003c\\u002fextra\\u003e\",\"legendgroup\":\"late\",\"marker\":{\"color\":\"#FF6692\",\"symbol\":\"circle\"},\"mode\":\"markers\",\"name\":\"late\",\"scene\":\"scene\",\"showlegend\":true,\"x\":[0.515343],\"y\":[-0.102423094],\"z\":[-0.052112028],\"type\":\"scatter3d\"},{\"hovertemplate\":\"color=remained\\u003cbr\\u003e0=%{x}\\u003cbr\\u003e1=%{y}\\u003cbr\\u003e2=%{z}\\u003cextra\\u003e\\u003c\\u002fextra\\u003e\",\"legendgroup\":\"remained\",\"marker\":{\"color\":\"#B6E880\",\"symbol\":\"circle\"},\"mode\":\"markers\",\"name\":\"remained\",\"scene\":\"scene\",\"showlegend\":true,\"x\":[-0.26376963],\"y\":[-0.53076404],\"z\":[-0.2826249],\"type\":\"scatter3d\"},{\"hovertemplate\":\"color=mance\\u003cbr\\u003e0=%{x}\\u003cbr\\u003e1=%{y}\\u003cbr\\u003e2=%{z}\\u003cextra\\u003e\\u003c\\u002fextra\\u003e\",\"legendgroup\":\"mance\",\"marker\":{\"color\":\"#FF97FF\",\"symbol\":\"circle\"},\"mode\":\"markers\",\"name\":\"mance\",\"scene\":\"scene\",\"showlegend\":true,\"x\":[0.3843952],\"y\":[-0.07174583],\"z\":[-0.26822075],\"type\":\"scatter3d\"},{\"hovertemplate\":\"color=guard\\u003cbr\\u003e0=%{x}\\u003cbr\\u003e1=%{y}\\u003cbr\\u003e2=%{z}\\u003cextra\\u003e\\u003c\\u002fextra\\u003e\",\"legendgroup\":\"guard\",\"marker\":{\"color\":\"#FECB52\",\"symbol\":\"circle\"},\"mode\":\"markers\",\"name\":\"guard\",\"scene\":\"scene\",\"showlegend\":true,\"x\":[0.16164799],\"y\":[-0.6480928],\"z\":[0.18495907],\"type\":\"scatter3d\"}],                        {\"template\":{\"data\":{\"histogram2dcontour\":[{\"type\":\"histogram2dcontour\",\"colorbar\":{\"outlinewidth\":0,\"ticks\":\"\"},\"colorscale\":[[0.0,\"#0d0887\"],[0.1111111111111111,\"#46039f\"],[0.2222222222222222,\"#7201a8\"],[0.3333333333333333,\"#9c179e\"],[0.4444444444444444,\"#bd3786\"],[0.5555555555555556,\"#d8576b\"],[0.6666666666666666,\"#ed7953\"],[0.7777777777777778,\"#fb9f3a\"],[0.8888888888888888,\"#fdca26\"],[1.0,\"#f0f921\"]]}],\"choropleth\":[{\"type\":\"choropleth\",\"colorbar\":{\"outlinewidth\":0,\"ticks\":\"\"}}],\"histogram2d\":[{\"type\":\"histogram2d\",\"colorbar\":{\"outlinewidth\":0,\"ticks\":\"\"},\"colorscale\":[[0.0,\"#0d0887\"],[0.1111111111111111,\"#46039f\"],[0.2222222222222222,\"#7201a8\"],[0.3333333333333333,\"#9c179e\"],[0.4444444444444444,\"#bd3786\"],[0.5555555555555556,\"#d8576b\"],[0.6666666666666666,\"#ed7953\"],[0.7777777777777778,\"#fb9f3a\"],[0.8888888888888888,\"#fdca26\"],[1.0,\"#f0f921\"]]}],\"heatmap\":[{\"type\":\"heatmap\",\"colorbar\":{\"outlinewidth\":0,\"ticks\":\"\"},\"colorscale\":[[0.0,\"#0d0887\"],[0.1111111111111111,\"#46039f\"],[0.2222222222222222,\"#7201a8\"],[0.3333333333333333,\"#9c179e\"],[0.4444444444444444,\"#bd3786\"],[0.5555555555555556,\"#d8576b\"],[0.6666666666666666,\"#ed7953\"],[0.7777777777777778,\"#fb9f3a\"],[0.8888888888888888,\"#fdca26\"],[1.0,\"#f0f921\"]]}],\"heatmapgl\":[{\"type\":\"heatmapgl\",\"colorbar\":{\"outlinewidth\":0,\"ticks\":\"\"},\"colorscale\":[[0.0,\"#0d0887\"],[0.1111111111111111,\"#46039f\"],[0.2222222222222222,\"#7201a8\"],[0.3333333333333333,\"#9c179e\"],[0.4444444444444444,\"#bd3786\"],[0.5555555555555556,\"#d8576b\"],[0.6666666666666666,\"#ed7953\"],[0.7777777777777778,\"#fb9f3a\"],[0.8888888888888888,\"#fdca26\"],[1.0,\"#f0f921\"]]}],\"contourcarpet\":[{\"type\":\"contourcarpet\",\"colorbar\":{\"outlinewidth\":0,\"ticks\":\"\"}}],\"contour\":[{\"type\":\"contour\",\"colorbar\":{\"outlinewidth\":0,\"ticks\":\"\"},\"colorscale\":[[0.0,\"#0d0887\"],[0.1111111111111111,\"#46039f\"],[0.2222222222222222,\"#7201a8\"],[0.3333333333333333,\"#9c179e\"],[0.4444444444444444,\"#bd3786\"],[0.5555555555555556,\"#d8576b\"],[0.6666666666666666,\"#ed7953\"],[0.7777777777777778,\"#fb9f3a\"],[0.8888888888888888,\"#fdca26\"],[1.0,\"#f0f921\"]]}],\"surface\":[{\"type\":\"surface\",\"colorbar\":{\"outlinewidth\":0,\"ticks\":\"\"},\"colorscale\":[[0.0,\"#0d0887\"],[0.1111111111111111,\"#46039f\"],[0.2222222222222222,\"#7201a8\"],[0.3333333333333333,\"#9c179e\"],[0.4444444444444444,\"#bd3786\"],[0.5555555555555556,\"#d8576b\"],[0.6666666666666666,\"#ed7953\"],[0.7777777777777778,\"#fb9f3a\"],[0.8888888888888888,\"#fdca26\"],[1.0,\"#f0f921\"]]}],\"mesh3d\":[{\"type\":\"mesh3d\",\"colorbar\":{\"outlinewidth\":0,\"ticks\":\"\"}}],\"scatter\":[{\"fillpattern\":{\"fillmode\":\"overlay\",\"size\":10,\"solidity\":0.2},\"type\":\"scatter\"}],\"parcoords\":[{\"type\":\"parcoords\",\"line\":{\"colorbar\":{\"outlinewidth\":0,\"ticks\":\"\"}}}],\"scatterpolargl\":[{\"type\":\"scatterpolargl\",\"marker\":{\"colorbar\":{\"outlinewidth\":0,\"ticks\":\"\"}}}],\"bar\":[{\"error_x\":{\"color\":\"#2a3f5f\"},\"error_y\":{\"color\":\"#2a3f5f\"},\"marker\":{\"line\":{\"color\":\"#E5ECF6\",\"width\":0.5},\"pattern\":{\"fillmode\":\"overlay\",\"size\":10,\"solidity\":0.2}},\"type\":\"bar\"}],\"scattergeo\":[{\"type\":\"scattergeo\",\"marker\":{\"colorbar\":{\"outlinewidth\":0,\"ticks\":\"\"}}}],\"scatterpolar\":[{\"type\":\"scatterpolar\",\"marker\":{\"colorbar\":{\"outlinewidth\":0,\"ticks\":\"\"}}}],\"histogram\":[{\"marker\":{\"pattern\":{\"fillmode\":\"overlay\",\"size\":10,\"solidity\":0.2}},\"type\":\"histogram\"}],\"scattergl\":[{\"type\":\"scattergl\",\"marker\":{\"colorbar\":{\"outlinewidth\":0,\"ticks\":\"\"}}}],\"scatter3d\":[{\"type\":\"scatter3d\",\"line\":{\"colorbar\":{\"outlinewidth\":0,\"ticks\":\"\"}},\"marker\":{\"colorbar\":{\"outlinewidth\":0,\"ticks\":\"\"}}}],\"scattermapbox\":[{\"type\":\"scattermapbox\",\"marker\":{\"colorbar\":{\"outlinewidth\":0,\"ticks\":\"\"}}}],\"scatterternary\":[{\"type\":\"scatterternary\",\"marker\":{\"colorbar\":{\"outlinewidth\":0,\"ticks\":\"\"}}}],\"scattercarpet\":[{\"type\":\"scattercarpet\",\"marker\":{\"colorbar\":{\"outlinewidth\":0,\"ticks\":\"\"}}}],\"carpet\":[{\"aaxis\":{\"endlinecolor\":\"#2a3f5f\",\"gridcolor\":\"white\",\"linecolor\":\"white\",\"minorgridcolor\":\"white\",\"startlinecolor\":\"#2a3f5f\"},\"baxis\":{\"endlinecolor\":\"#2a3f5f\",\"gridcolor\":\"white\",\"linecolor\":\"white\",\"minorgridcolor\":\"white\",\"startlinecolor\":\"#2a3f5f\"},\"type\":\"carpet\"}],\"table\":[{\"cells\":{\"fill\":{\"color\":\"#EBF0F8\"},\"line\":{\"color\":\"white\"}},\"header\":{\"fill\":{\"color\":\"#C8D4E3\"},\"line\":{\"color\":\"white\"}},\"type\":\"table\"}],\"barpolar\":[{\"marker\":{\"line\":{\"color\":\"#E5ECF6\",\"width\":0.5},\"pattern\":{\"fillmode\":\"overlay\",\"size\":10,\"solidity\":0.2}},\"type\":\"barpolar\"}],\"pie\":[{\"automargin\":true,\"type\":\"pie\"}]},\"layout\":{\"autotypenumbers\":\"strict\",\"colorway\":[\"#636efa\",\"#EF553B\",\"#00cc96\",\"#ab63fa\",\"#FFA15A\",\"#19d3f3\",\"#FF6692\",\"#B6E880\",\"#FF97FF\",\"#FECB52\"],\"font\":{\"color\":\"#2a3f5f\"},\"hovermode\":\"closest\",\"hoverlabel\":{\"align\":\"left\"},\"paper_bgcolor\":\"white\",\"plot_bgcolor\":\"#E5ECF6\",\"polar\":{\"bgcolor\":\"#E5ECF6\",\"angularaxis\":{\"gridcolor\":\"white\",\"linecolor\":\"white\",\"ticks\":\"\"},\"radialaxis\":{\"gridcolor\":\"white\",\"linecolor\":\"white\",\"ticks\":\"\"}},\"ternary\":{\"bgcolor\":\"#E5ECF6\",\"aaxis\":{\"gridcolor\":\"white\",\"linecolor\":\"white\",\"ticks\":\"\"},\"baxis\":{\"gridcolor\":\"white\",\"linecolor\":\"white\",\"ticks\":\"\"},\"caxis\":{\"gridcolor\":\"white\",\"linecolor\":\"white\",\"ticks\":\"\"}},\"coloraxis\":{\"colorbar\":{\"outlinewidth\":0,\"ticks\":\"\"}},\"colorscale\":{\"sequential\":[[0.0,\"#0d0887\"],[0.1111111111111111,\"#46039f\"],[0.2222222222222222,\"#7201a8\"],[0.3333333333333333,\"#9c179e\"],[0.4444444444444444,\"#bd3786\"],[0.5555555555555556,\"#d8576b\"],[0.6666666666666666,\"#ed7953\"],[0.7777777777777778,\"#fb9f3a\"],[0.8888888888888888,\"#fdca26\"],[1.0,\"#f0f921\"]],\"sequentialminus\":[[0.0,\"#0d0887\"],[0.1111111111111111,\"#46039f\"],[0.2222222222222222,\"#7201a8\"],[0.3333333333333333,\"#9c179e\"],[0.4444444444444444,\"#bd3786\"],[0.5555555555555556,\"#d8576b\"],[0.6666666666666666,\"#ed7953\"],[0.7777777777777778,\"#fb9f3a\"],[0.8888888888888888,\"#fdca26\"],[1.0,\"#f0f921\"]],\"diverging\":[[0,\"#8e0152\"],[0.1,\"#c51b7d\"],[0.2,\"#de77ae\"],[0.3,\"#f1b6da\"],[0.4,\"#fde0ef\"],[0.5,\"#f7f7f7\"],[0.6,\"#e6f5d0\"],[0.7,\"#b8e186\"],[0.8,\"#7fbc41\"],[0.9,\"#4d9221\"],[1,\"#276419\"]]},\"xaxis\":{\"gridcolor\":\"white\",\"linecolor\":\"white\",\"ticks\":\"\",\"title\":{\"standoff\":15},\"zerolinecolor\":\"white\",\"automargin\":true,\"zerolinewidth\":2},\"yaxis\":{\"gridcolor\":\"white\",\"linecolor\":\"white\",\"ticks\":\"\",\"title\":{\"standoff\":15},\"zerolinecolor\":\"white\",\"automargin\":true,\"zerolinewidth\":2},\"scene\":{\"xaxis\":{\"backgroundcolor\":\"#E5ECF6\",\"gridcolor\":\"white\",\"linecolor\":\"white\",\"showbackground\":true,\"ticks\":\"\",\"zerolinecolor\":\"white\",\"gridwidth\":2},\"yaxis\":{\"backgroundcolor\":\"#E5ECF6\",\"gridcolor\":\"white\",\"linecolor\":\"white\",\"showbackground\":true,\"ticks\":\"\",\"zerolinecolor\":\"white\",\"gridwidth\":2},\"zaxis\":{\"backgroundcolor\":\"#E5ECF6\",\"gridcolor\":\"white\",\"linecolor\":\"white\",\"showbackground\":true,\"ticks\":\"\",\"zerolinecolor\":\"white\",\"gridwidth\":2}},\"shapedefaults\":{\"line\":{\"color\":\"#2a3f5f\"}},\"annotationdefaults\":{\"arrowcolor\":\"#2a3f5f\",\"arrowhead\":0,\"arrowwidth\":1},\"geo\":{\"bgcolor\":\"white\",\"landcolor\":\"#E5ECF6\",\"subunitcolor\":\"white\",\"showland\":true,\"showlakes\":true,\"lakecolor\":\"white\"},\"title\":{\"x\":0.05},\"mapbox\":{\"style\":\"light\"}}},\"scene\":{\"domain\":{\"x\":[0.0,1.0],\"y\":[0.0,1.0]},\"xaxis\":{\"title\":{\"text\":\"0\"}},\"yaxis\":{\"title\":{\"text\":\"1\"}},\"zaxis\":{\"title\":{\"text\":\"2\"}}},\"legend\":{\"title\":{\"text\":\"color\"},\"tracegroupgap\":0},\"margin\":{\"t\":60}},                        {\"responsive\": true}                    ).then(function(){\n",
              "                            \n",
              "var gd = document.getElementById('ddb849ee-a736-4612-b67c-e668a2785252');\n",
              "var x = new MutationObserver(function (mutations, observer) {{\n",
              "        var display = window.getComputedStyle(gd).display;\n",
              "        if (!display || display === 'none') {{\n",
              "            console.log([gd, 'removed!']);\n",
              "            Plotly.purge(gd);\n",
              "            observer.disconnect();\n",
              "        }}\n",
              "}});\n",
              "\n",
              "// Listen for the removal of the full notebook cells\n",
              "var notebookContainer = gd.closest('#notebook-container');\n",
              "if (notebookContainer) {{\n",
              "    x.observe(notebookContainer, {childList: true});\n",
              "}}\n",
              "\n",
              "// Listen for the clearing of the current output cell\n",
              "var outputEl = gd.closest('.output');\n",
              "if (outputEl) {{\n",
              "    x.observe(outputEl, {childList: true});\n",
              "}}\n",
              "\n",
              "                        })                };                            </script>        </div>\n",
              "</body>\n",
              "</html>"
            ]
          },
          "metadata": {}
        }
      ]
    },
    {
      "cell_type": "code",
      "execution_count": null,
      "metadata": {
        "colab": {
          "background_save": true,
          "base_uri": "https://localhost:8080/"
        },
        "id": "QRu2o9v1kGUD",
        "outputId": "85c3f6f7-82d6-403f-a168-383cd74c52fa"
      },
      "outputs": [
        {
          "name": "stdout",
          "output_type": "stream",
          "text": [
            "[==================================================] 100.0% 1662.8/1662.8MB downloaded\n"
          ]
        }
      ],
      "source": [
        "# import gensim.downloader as api\n",
        "# model = api.load(\"word2vec-google-news-300\")"
      ]
    },
    {
      "cell_type": "code",
      "execution_count": null,
      "metadata": {
        "colab": {
          "background_save": true
        },
        "id": "wxIT9WdrWm6z",
        "outputId": "a91e62d9-a6c5-4fef-b6c2-9f4d4b45a3c6"
      },
      "outputs": [
        {
          "data": {
            "text/plain": [
              "(300,)"
            ]
          },
          "execution_count": 4,
          "metadata": {},
          "output_type": "execute_result"
        }
      ],
      "source": [
        "# model['man'].shape"
      ]
    },
    {
      "cell_type": "code",
      "execution_count": null,
      "metadata": {
        "colab": {
          "background_save": true
        },
        "collapsed": true,
        "id": "xN2RGW0Za-88",
        "outputId": "15e4b7c8-a9bd-44ae-be24-24fa99749552"
      },
      "outputs": [
        {
          "data": {
            "text/plain": [
              "array([-3.67187500e-01, -1.21582031e-01,  2.85156250e-01,  8.15429688e-02,\n",
              "        3.19824219e-02, -3.19824219e-02,  1.34765625e-01, -2.73437500e-01,\n",
              "        9.46044922e-03, -1.07421875e-01,  2.48046875e-01, -6.05468750e-01,\n",
              "        5.02929688e-02,  2.98828125e-01,  9.57031250e-02,  1.39648438e-01,\n",
              "       -5.41992188e-02,  2.91015625e-01,  2.85156250e-01,  1.51367188e-01,\n",
              "       -2.89062500e-01, -3.46679688e-02,  1.81884766e-02, -3.92578125e-01,\n",
              "        2.46093750e-01,  2.51953125e-01, -9.86328125e-02,  3.22265625e-01,\n",
              "        4.49218750e-01, -1.36718750e-01, -2.34375000e-01,  4.12597656e-02,\n",
              "       -2.15820312e-01,  1.69921875e-01,  2.56347656e-02,  1.50146484e-02,\n",
              "       -3.75976562e-02,  6.95800781e-03,  4.00390625e-01,  2.09960938e-01,\n",
              "        1.17675781e-01, -4.19921875e-02,  2.34375000e-01,  2.03125000e-01,\n",
              "       -1.86523438e-01, -2.46093750e-01,  3.12500000e-01, -2.59765625e-01,\n",
              "       -1.06933594e-01,  1.04003906e-01, -1.79687500e-01,  5.71289062e-02,\n",
              "       -7.41577148e-03, -5.59082031e-02,  7.61718750e-02, -4.14062500e-01,\n",
              "       -3.65234375e-01, -3.35937500e-01, -1.54296875e-01, -2.39257812e-01,\n",
              "       -3.73046875e-01,  2.27355957e-03, -3.51562500e-01,  8.64257812e-02,\n",
              "        1.26953125e-01,  2.21679688e-01, -9.86328125e-02,  1.08886719e-01,\n",
              "        3.65234375e-01, -5.66406250e-02,  5.66406250e-02, -1.09375000e-01,\n",
              "       -1.66992188e-01, -4.54101562e-02, -2.00195312e-01, -1.22558594e-01,\n",
              "        1.31835938e-01, -1.31835938e-01,  1.03027344e-01, -3.41796875e-01,\n",
              "       -1.57226562e-01,  2.04101562e-01,  4.39453125e-02,  2.44140625e-01,\n",
              "       -3.19824219e-02,  3.20312500e-01, -4.41894531e-02,  1.08398438e-01,\n",
              "       -4.98046875e-02, -9.52148438e-03,  2.46093750e-01, -5.59082031e-02,\n",
              "        4.07714844e-02, -1.78222656e-02, -2.95410156e-02,  1.65039062e-01,\n",
              "        5.03906250e-01, -2.81250000e-01,  9.81445312e-02,  1.80664062e-02,\n",
              "       -1.83593750e-01,  2.53906250e-01,  2.25585938e-01,  1.63574219e-02,\n",
              "        1.81640625e-01,  1.38671875e-01,  3.33984375e-01,  1.39648438e-01,\n",
              "        1.45874023e-02, -2.89306641e-02, -8.39843750e-02,  1.50390625e-01,\n",
              "        1.67968750e-01,  2.28515625e-01,  3.59375000e-01,  1.22558594e-01,\n",
              "       -3.28125000e-01, -1.56250000e-01,  2.77343750e-01,  1.77001953e-02,\n",
              "       -1.46484375e-01, -4.51660156e-03, -4.46777344e-02,  1.75781250e-01,\n",
              "       -3.75000000e-01,  1.16699219e-01, -1.39648438e-01,  2.55859375e-01,\n",
              "       -1.96289062e-01, -2.57568359e-02, -5.41992188e-02, -2.51464844e-02,\n",
              "       -1.93359375e-01, -3.17382812e-02, -8.74023438e-02, -1.32812500e-01,\n",
              "       -2.12402344e-02,  4.33593750e-01, -5.20019531e-02,  3.46679688e-02,\n",
              "        8.00781250e-02,  3.41796875e-02,  1.99218750e-01, -2.39257812e-02,\n",
              "       -2.37304688e-01,  1.93359375e-01,  7.32421875e-02, -2.87109375e-01,\n",
              "        1.25000000e-01,  8.44726562e-02,  1.30859375e-01, -2.19726562e-01,\n",
              "       -1.61132812e-01, -2.63671875e-01, -5.46875000e-01, -2.96875000e-01,\n",
              "        3.44238281e-02, -2.87109375e-01, -1.93359375e-01, -1.61132812e-01,\n",
              "       -3.84765625e-01, -2.14843750e-01, -6.22558594e-03, -1.27929688e-01,\n",
              "       -1.00097656e-01, -6.21093750e-01,  3.78906250e-01, -4.58984375e-01,\n",
              "        1.44531250e-01, -9.13085938e-02, -3.08593750e-01,  2.23632812e-01,\n",
              "        7.86132812e-02, -2.16796875e-01,  8.78906250e-02, -1.66992188e-01,\n",
              "        1.14746094e-02, -2.53906250e-01, -6.25000000e-02,  6.04248047e-03,\n",
              "        1.56250000e-01,  4.37500000e-01, -2.23632812e-01, -2.32421875e-01,\n",
              "        2.75390625e-01,  2.39257812e-01,  4.49218750e-02, -7.51953125e-02,\n",
              "        5.74218750e-01, -2.61230469e-02, -1.21582031e-01,  2.44140625e-01,\n",
              "       -3.37890625e-01,  8.59375000e-02, -7.71484375e-02,  4.85839844e-02,\n",
              "        1.43554688e-01,  4.25781250e-01, -4.29687500e-02, -1.08398438e-01,\n",
              "        1.19628906e-01, -1.91406250e-01, -2.12890625e-01, -2.87109375e-01,\n",
              "       -1.14746094e-01, -2.04101562e-01, -2.06298828e-02, -2.53906250e-01,\n",
              "        8.25195312e-02, -3.97949219e-02, -1.57226562e-01,  1.34765625e-01,\n",
              "        2.08007812e-01, -1.78710938e-01, -2.00195312e-02, -8.34960938e-02,\n",
              "       -1.20605469e-01,  4.29687500e-02, -1.94335938e-01, -1.32812500e-01,\n",
              "       -2.17285156e-02, -2.35351562e-01, -3.63281250e-01,  1.51367188e-01,\n",
              "        9.32617188e-02,  1.63085938e-01,  1.02050781e-01, -4.27734375e-01,\n",
              "        2.83203125e-01,  2.74658203e-04, -3.20312500e-01,  1.68457031e-02,\n",
              "        4.06250000e-01, -5.24902344e-02,  7.91015625e-02, -1.41601562e-01,\n",
              "        5.27343750e-01, -1.26953125e-01,  4.74609375e-01, -6.64062500e-02,\n",
              "        3.41796875e-01, -1.78710938e-01,  3.69140625e-01, -2.05078125e-01,\n",
              "        5.82885742e-03, -1.84570312e-01, -8.88671875e-02, -1.81640625e-01,\n",
              "       -4.80957031e-02,  4.39453125e-01,  2.12890625e-01, -3.07617188e-02,\n",
              "        9.32617188e-02,  2.40234375e-01,  2.39257812e-01,  2.51953125e-01,\n",
              "       -1.98974609e-02,  1.24511719e-01, -4.73632812e-02, -2.13623047e-02,\n",
              "        3.12500000e-02,  3.05175781e-02,  2.79296875e-01,  9.08203125e-02,\n",
              "       -2.02148438e-01, -2.19726562e-02, -2.63671875e-01,  8.78906250e-02,\n",
              "       -1.07421875e-01, -2.49023438e-01, -1.22070312e-02,  1.73828125e-01,\n",
              "       -9.91210938e-02,  7.27539062e-02,  2.59765625e-01, -4.60937500e-01,\n",
              "        3.59375000e-01, -2.25585938e-01,  1.87988281e-02, -2.19726562e-01,\n",
              "       -2.08984375e-01, -1.51367188e-01,  8.64257812e-02,  1.11694336e-02,\n",
              "        6.93359375e-02, -2.99072266e-02,  1.43554688e-01,  1.89453125e-01,\n",
              "       -1.32812500e-01,  4.72656250e-01, -1.40625000e-01, -2.52685547e-02,\n",
              "        1.91406250e-01, -2.63671875e-01, -1.39648438e-01,  1.09375000e-01,\n",
              "        1.97753906e-02,  2.49023438e-01, -1.42578125e-01,  4.15039062e-02],\n",
              "      dtype=float32)"
            ]
          },
          "execution_count": 5,
          "metadata": {},
          "output_type": "execute_result"
        }
      ],
      "source": [
        "# model['cricket']"
      ]
    },
    {
      "cell_type": "code",
      "execution_count": null,
      "metadata": {
        "colab": {
          "background_save": true
        },
        "id": "F4aZMhuVdKFq",
        "collapsed": true,
        "outputId": "91a9f67c-1ebd-491e-a074-2d74f8b3e603"
      },
      "outputs": [
        {
          "data": {
            "text/plain": [
              "[('woman', 0.7664012908935547),\n",
              " ('boy', 0.6824871301651001),\n",
              " ('teenager', 0.6586930155754089),\n",
              " ('teenage_girl', 0.6147903203964233),\n",
              " ('girl', 0.5921714305877686),\n",
              " ('suspected_purse_snatcher', 0.571636438369751),\n",
              " ('robber', 0.5585119128227234),\n",
              " ('Robbery_suspect', 0.5584409832954407),\n",
              " ('teen_ager', 0.5549196600914001),\n",
              " ('men', 0.5489763021469116)]"
            ]
          },
          "execution_count": 6,
          "metadata": {},
          "output_type": "execute_result"
        }
      ],
      "source": [
        "# model.most_similar('man')"
      ]
    },
    {
      "cell_type": "code",
      "execution_count": null,
      "metadata": {
        "colab": {
          "background_save": true
        },
        "id": "HB3Iv18YghjR",
        "outputId": "b3fa9863-4919-4138-bdb1-c88c86515d53"
      },
      "outputs": [
        {
          "data": {
            "text/plain": [
              "0.76640123"
            ]
          },
          "execution_count": 7,
          "metadata": {},
          "output_type": "execute_result"
        }
      ],
      "source": [
        "# model.similarity('man','woman')"
      ]
    },
    {
      "cell_type": "code",
      "execution_count": null,
      "metadata": {
        "colab": {
          "background_save": true
        },
        "id": "fSUXBxDLMdzi",
        "outputId": "fa2d8d07-a085-4c07-ca3f-fbb6841363a1"
      },
      "outputs": [
        {
          "data": {
            "text/plain": [
              "-0.032995153"
            ]
          },
          "execution_count": 8,
          "metadata": {},
          "output_type": "execute_result"
        }
      ],
      "source": [
        "# model.similarity('man','PHP')"
      ]
    },
    {
      "cell_type": "code",
      "execution_count": null,
      "metadata": {
        "colab": {
          "background_save": true
        },
        "id": "7IHvDCNcMdtR",
        "outputId": "eb878794-a4cb-4f33-e90b-d52e9ebd03f3"
      },
      "outputs": [
        {
          "data": {
            "application/vnd.google.colaboratory.intrinsic+json": {
              "type": "string"
            },
            "text/plain": [
              "'monkey'"
            ]
          },
          "execution_count": 9,
          "metadata": {},
          "output_type": "execute_result"
        }
      ],
      "source": [
        "# model.doesnt_match(['PHP','java','monkey'])"
      ]
    },
    {
      "cell_type": "code",
      "execution_count": null,
      "metadata": {
        "colab": {
          "background_save": true
        },
        "id": "RxINVxfFMzCB",
        "collapsed": true,
        "outputId": "a7428620-21d2-499c-ef8b-14f18ef7522f"
      },
      "outputs": [
        {
          "data": {
            "text/plain": [
              "[('king', 0.8449392318725586),\n",
              " ('queen', 0.7300517559051514),\n",
              " ('monarch', 0.645466148853302),\n",
              " ('princess', 0.6156251430511475),\n",
              " ('crown_prince', 0.5818676352500916),\n",
              " ('prince', 0.5777117609977722),\n",
              " ('kings', 0.5613663792610168),\n",
              " ('sultan', 0.5376775860786438),\n",
              " ('Queen_Consort', 0.5344247817993164),\n",
              " ('queens', 0.5289887189865112)]"
            ]
          },
          "execution_count": 10,
          "metadata": {},
          "output_type": "execute_result"
        }
      ],
      "source": [
        "# vec = model['king'] - model['man'] + model['woman']\n",
        "# model.most_similar([vec])"
      ]
    },
    {
      "cell_type": "code",
      "execution_count": null,
      "metadata": {
        "colab": {
          "background_save": true
        },
        "collapsed": true,
        "id": "ZTHMlw_CMy7f",
        "outputId": "e66808f7-97d6-4572-f0b5-ae15835a34d4"
      },
      "outputs": [
        {
          "data": {
            "text/plain": [
              "[('INR', 0.6442341208457947),\n",
              " ('GBP', 0.5040826797485352),\n",
              " ('£_##.###m', 0.4540838301181793),\n",
              " ('England', 0.44649264216423035),\n",
              " ('£', 0.43340998888015747),\n",
              " ('Â_£', 0.4307197630405426),\n",
              " ('stg###', 0.4299262464046478),\n",
              " ('£_#.##m', 0.42561301589012146),\n",
              " ('Pounds_Sterling', 0.42512619495391846),\n",
              " ('GBP##', 0.42464491724967957)]"
            ]
          },
          "execution_count": 11,
          "metadata": {},
          "output_type": "execute_result"
        }
      ],
      "source": [
        "# vec2 = model['INR'] - model['India'] + model['England']\n",
        "# model.most_similar([vec2])"
      ]
    },
    {
      "cell_type": "code",
      "execution_count": null,
      "metadata": {
        "id": "K-q1l7pKMyyJ"
      },
      "outputs": [],
      "source": []
    }
  ],
  "metadata": {
    "colab": {
      "provenance": []
    },
    "kernelspec": {
      "display_name": "Python 3",
      "name": "python3"
    },
    "language_info": {
      "name": "python"
    }
  },
  "nbformat": 4,
  "nbformat_minor": 0
}
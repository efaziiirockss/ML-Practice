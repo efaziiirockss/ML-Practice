{
  "cells": [
    {
      "cell_type": "code",
      "execution_count": null,
      "metadata": {
        "id": "51B4AsLDTRTk"
      },
      "outputs": [],
      "source": [
        "from sklearn.datasets import load_diabetes\n",
        "from sklearn.metrics import r2_score\n",
        "import numpy as np"
      ]
    },
    {
      "cell_type": "code",
      "execution_count": null,
      "metadata": {
        "id": "Ws0-xhJyw3uP"
      },
      "outputs": [],
      "source": [
        "X,y = load_diabetes(return_X_y=True)"
      ]
    },
    {
      "cell_type": "code",
      "execution_count": null,
      "metadata": {
        "id": "i2sxWghZw5yl"
      },
      "outputs": [],
      "source": [
        "from sklearn.model_selection import train_test_split"
      ]
    },
    {
      "cell_type": "code",
      "execution_count": null,
      "metadata": {
        "id": "8ykZPIZMw8ZL"
      },
      "outputs": [],
      "source": [
        "X_train,X_test,y_train,y_test = train_test_split(X,y,test_size=0.2,random_state=4)"
      ]
    },
    {
      "cell_type": "code",
      "execution_count": null,
      "metadata": {
        "id": "-5_6EQWnw-TD"
      },
      "outputs": [],
      "source": [
        "from sklearn.linear_model import SGDRegressor"
      ]
    },
    {
      "cell_type": "code",
      "execution_count": null,
      "metadata": {
        "id": "go8MsnQNxCrr"
      },
      "outputs": [],
      "source": [
        "reg = SGDRegressor(penalty='l2',max_iter=500,eta0=0.1,learning_rate='constant',alpha=0.001)"
      ]
    },
    {
      "cell_type": "code",
      "execution_count": null,
      "metadata": {
        "colab": {
          "base_uri": "https://localhost:8080/"
        },
        "id": "ipkspdMTxDzG",
        "outputId": "c1c12053-dc63-443c-f489-e33257eafff7"
      },
      "outputs": [
        {
          "name": "stdout",
          "output_type": "stream",
          "text": [
            "R2 score 0.42596251074591673\n",
            "[  48.75984685 -154.93769081  366.34390728  266.40408402   -2.87039295\n",
            "  -60.2871546  -164.30974176  136.05019089  334.08490056  101.48001583]\n",
            "[170.06054121]\n"
          ]
        }
      ],
      "source": [
        "reg.fit(X_train,y_train)\n",
        "\n",
        "y_pred = reg.predict(X_test)\n",
        "print(\"R2 score\",r2_score(y_test,y_pred))\n",
        "print(reg.coef_)\n",
        "print(reg.intercept_)"
      ]
    },
    {
      "cell_type": "code",
      "execution_count": null,
      "metadata": {
        "id": "SMIABLcsxDwU"
      },
      "outputs": [],
      "source": [
        "from sklearn.linear_model import Ridge\n",
        "\n",
        "reg = Ridge(alpha=0.001, max_iter=500,solver='sparse_cg')"
      ]
    },
    {
      "cell_type": "code",
      "execution_count": null,
      "metadata": {
        "colab": {
          "base_uri": "https://localhost:8080/"
        },
        "id": "oy14GUKNxDt0",
        "outputId": "57ffaa32-3df5-49f6-ac3c-0139d9a445af"
      },
      "outputs": [
        {
          "name": "stdout",
          "output_type": "stream",
          "text": [
            "R2 score 0.46250101619914563\n",
            "[  34.52192544 -290.84084076  482.40181344  368.0678662  -852.44873179\n",
            "  501.59160336  180.11115788  270.76333979  759.73534372   37.4913546 ]\n",
            "151.10198517439466\n"
          ]
        }
      ],
      "source": [
        "reg.fit(X_train,y_train)\n",
        "\n",
        "y_pred = reg.predict(X_test)\n",
        "print(\"R2 score\",r2_score(y_test,y_pred))\n",
        "print(reg.coef_)\n",
        "print(reg.intercept_)"
      ]
    },
    {
      "cell_type": "code",
      "execution_count": null,
      "metadata": {
        "id": "9BpZxcVdxDqr"
      },
      "outputs": [],
      "source": [
        "class EFZRidgeGD:\n",
        "  def __init__(self,epochs,learning_rate,alpha):\n",
        "    self.learning_rate = learning_rate\n",
        "    self.epochs = epochs\n",
        "    self.alpha = alpha\n",
        "    self.coef_ = None\n",
        "    self.intercept_ = None\n",
        "\n",
        "  def fit(self,X_train,y_train):\n",
        "    self.coef_ = np.ones(X_train.shape[1])\n",
        "    self.intercept_ = 0\n",
        "    thetha =  np.insert(self.coef_,0,self.intercept_)\n",
        "\n",
        "    X_train = np.insert(X_train,0,1,axis=1)\n",
        "\n",
        "    for i in range(self.epochs):\n",
        "      thetha_der = np.dot(X_train.T,X_train).dot(thetha) - np.dot(X_train.T,y_train)\n",
        "      thetha = thetha - self.learning_rate*thetha_der\n",
        "\n",
        "    self.coef_ = thetha[1:]\n",
        "    self.intercept_ = thetha[0]\n",
        "\n",
        "  def predict(self,X_test):\n",
        "    return np.dot(X_test,self.coef_) + self.intercept_"
      ]
    },
    {
      "cell_type": "code",
      "execution_count": null,
      "metadata": {
        "id": "Cx6vtw4nxDnk"
      },
      "outputs": [],
      "source": [
        "reg = EFZRidgeGD(epochs=500,alpha=0.001,learning_rate=0.005)"
      ]
    },
    {
      "cell_type": "code",
      "execution_count": null,
      "metadata": {
        "colab": {
          "base_uri": "https://localhost:8080/"
        },
        "id": "fvRJTRAAxDkT",
        "outputId": "9474e5bf-c729-4974-b123-1d13c7ec459f"
      },
      "outputs": [
        {
          "output_type": "stream",
          "name": "stdout",
          "text": [
            "R2 score -18.058043018763488\n",
            "[  46.63598044 -221.63045025  452.42479851  325.74604988  -29.1899932\n",
            "  -96.62131465 -190.97696659  146.35288163  401.05916029   95.06145318]\n",
            "150.86941679746863\n"
          ]
        }
      ],
      "source": [
        "reg.fit(X_train,y_train)\n",
        "\n",
        "y_pred = -reg.predict(X_test)\n",
        "print('R2 score',r2_score(y_test,y_pred))\n",
        "print(reg.coef_)\n",
        "print(reg.intercept_)"
      ]
    },
    {
      "cell_type": "code",
      "source": [],
      "metadata": {
        "id": "dz0Hyn783cLi"
      },
      "execution_count": null,
      "outputs": []
    }
  ],
  "metadata": {
    "colab": {
      "provenance": []
    },
    "kernelspec": {
      "display_name": "Python 3",
      "name": "python3"
    },
    "language_info": {
      "name": "python"
    }
  },
  "nbformat": 4,
  "nbformat_minor": 0
}